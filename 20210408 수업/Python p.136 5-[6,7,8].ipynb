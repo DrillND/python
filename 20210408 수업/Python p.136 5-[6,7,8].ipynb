{
 "cells": [
  {
   "cell_type": "code",
   "execution_count": 91,
   "metadata": {},
   "outputs": [
    {
     "name": "stdout",
     "output_type": "stream",
     "text": [
      "Ducky McDuckface\n",
      "Gourdyy McGourdyface\n",
      "Spitzy McSpitzface\n"
     ]
    }
   ],
   "source": [
    "names=['duck','gourdy','spitz']\n",
    "\n",
    "for i in range(0,3):\n",
    "    print('%sy Mc%sface'%(names[i].capitalize(),names[i].capitalize()))\n"
   ]
  },
  {
   "cell_type": "code",
   "execution_count": 103,
   "metadata": {},
   "outputs": [
    {
     "name": "stdout",
     "output_type": "stream",
     "text": [
      "Ducksy McDucksface\n",
      "Gourdysy McGourdysface\n",
      "Spitzsy McSpitzsface\n"
     ]
    }
   ],
   "source": [
    "names=['duck','gourdy','spitz']\n",
    "\n",
    "for i in range(0,3):\n",
    "    print('{0}sy Mc{0}sface'.format(names[i].capitalize()))"
   ]
  },
  {
   "cell_type": "code",
   "execution_count": 95,
   "metadata": {
    "scrolled": true
   },
   "outputs": [
    {
     "name": "stdout",
     "output_type": "stream",
     "text": [
      "Ducksy McDucksface\n",
      "Gourdysy McGourdysface\n",
      "Spitzsy McSpitzsface\n"
     ]
    }
   ],
   "source": [
    "names=['duck','gourdy','spitz']\n",
    "\n",
    "for i in range(0,3):\n",
    "    print(f'{names[i].capitalize()}sy Mc{names[i].capitalize()}sface')"
   ]
  },
  {
   "cell_type": "code",
   "execution_count": null,
   "metadata": {},
   "outputs": [],
   "source": [
    "names=['Duck','Gourdy','Spitz']\n",
    "#print(\"물건에 이름 짓기\")\n",
    "#print(\"1. an English\\n2. an Australian\\n3. a Swedish\\n\")\n",
    "\n",
    "a = int(input('물건에 이름 짓기\\n1. an English\\n2. an Australian\\n3. a Swedish\\n\\n어떤 방식으로 짓겠습니까? '))\n",
    "if 1<=a<=3:\n",
    "    if a == 1:\n",
    "        print('\\n%sy Mc%sface'%(names[0],names[0]))\n",
    "    elif a ==2:\n",
    "        print('\\n%sy Mc%sface'%(names[1],names[1]))\n",
    "    elif a == 3:\n",
    "        print('\\n%sy Mc%sface'%(names[2],names[2]))\n",
    "else:\n",
    "    print(\"범위 밖 숫자\")"
   ]
  },
  {
   "cell_type": "code",
   "execution_count": null,
   "metadata": {},
   "outputs": [],
   "source": []
  },
  {
   "cell_type": "code",
   "execution_count": null,
   "metadata": {},
   "outputs": [],
   "source": []
  },
  {
   "cell_type": "code",
   "execution_count": null,
   "metadata": {},
   "outputs": [],
   "source": []
  },
  {
   "cell_type": "code",
   "execution_count": null,
   "metadata": {},
   "outputs": [],
   "source": []
  }
 ],
 "metadata": {
  "kernelspec": {
   "display_name": "Python 3",
   "language": "python",
   "name": "python3"
  },
  "language_info": {
   "codemirror_mode": {
    "name": "ipython",
    "version": 3
   },
   "file_extension": ".py",
   "mimetype": "text/x-python",
   "name": "python",
   "nbconvert_exporter": "python",
   "pygments_lexer": "ipython3",
   "version": "3.8.5"
  }
 },
 "nbformat": 4,
 "nbformat_minor": 4
}
