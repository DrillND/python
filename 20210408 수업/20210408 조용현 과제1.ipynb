{
 "cells": [
  {
   "cell_type": "code",
   "execution_count": 37,
   "metadata": {},
   "outputs": [
    {
     "name": "stdout",
     "output_type": "stream",
     "text": [
      "cherry는 작고 녹색이아니다.\n",
      "pea는 작고 녹색이다.\n",
      "watermelon는 크고 녹색이다.\n",
      "pumpkin는 크고 녹색이아니다.\n"
     ]
    }
   ],
   "source": [
    "a=[\"cherry\",\"pea\",\"watermelon\",\"pumpkin\"]\n",
    "#small=[\"cherry\",\"pea\"]\n",
    "#green=[\"watermelon\",\"pumpkin\"]\n",
    "\n",
    "\n",
    "for i in range(0,4):\n",
    "    if a[i] == \"cherry\"or a[i]==\"pea\":\n",
    "        if a[i] == \"pea\":\n",
    "            print(a[i]+\"는 작고 녹색이다.\")\n",
    "        else: \n",
    "            print(a[i]+\"는 작고 녹색이아니다.\")\n",
    "    else:\n",
    "        if a[i] == \"watermelon\":\n",
    "            print(a[i]+\"는 크고 녹색이다.\")\n",
    "        else:\n",
    "            print(a[i]+\"는 크고 녹색이아니다.\")\n",
    "    "
   ]
  },
  {
   "cell_type": "code",
   "execution_count": 43,
   "metadata": {},
   "outputs": [
    {
     "name": "stdout",
     "output_type": "stream",
     "text": [
      "cherry는 크고\n",
      "pea는 크고\n",
      "watermelon는 크고\n",
      "pumpkin는 크고\n"
     ]
    }
   ],
   "source": [
    "a=[\"cherry\",\"pea\",\"watermelon\",\"pumpkin\"]\n",
    "small=[\"cherry\",\"pea\"]\n",
    "green=[\"watermelon\",\"pumpkin\"]\n",
    "\n",
    "\n",
    "for i in range(0,4):\n",
    "    if a[i] == set(small):\n",
    "        print(a[i]+\"는 작고\")\n",
    "    else:\n",
    "        print(a[i]+\"는 크고\")"
   ]
  },
  {
   "cell_type": "code",
   "execution_count": null,
   "metadata": {},
   "outputs": [],
   "source": []
  },
  {
   "cell_type": "code",
   "execution_count": null,
   "metadata": {},
   "outputs": [],
   "source": []
  },
  {
   "cell_type": "code",
   "execution_count": null,
   "metadata": {},
   "outputs": [],
   "source": []
  },
  {
   "cell_type": "code",
   "execution_count": null,
   "metadata": {},
   "outputs": [],
   "source": []
  },
  {
   "cell_type": "code",
   "execution_count": null,
   "metadata": {},
   "outputs": [],
   "source": []
  },
  {
   "cell_type": "code",
   "execution_count": null,
   "metadata": {},
   "outputs": [],
   "source": []
  }
 ],
 "metadata": {
  "kernelspec": {
   "display_name": "Python 3",
   "language": "python",
   "name": "python3"
  },
  "language_info": {
   "codemirror_mode": {
    "name": "ipython",
    "version": 3
   },
   "file_extension": ".py",
   "mimetype": "text/x-python",
   "name": "python",
   "nbconvert_exporter": "python",
   "pygments_lexer": "ipython3",
   "version": "3.8.5"
  }
 },
 "nbformat": 4,
 "nbformat_minor": 4
}
