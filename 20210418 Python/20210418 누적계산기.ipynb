{
  "nbformat": 4,
  "nbformat_minor": 0,
  "metadata": {
    "colab": {
      "name": "Untitled0.ipynb",
      "provenance": []
    },
    "kernelspec": {
      "name": "python3",
      "display_name": "Python 3"
    },
    "language_info": {
      "name": "python"
    }
  },
  "cells": [
    {
      "cell_type": "code",
      "metadata": {
        "colab": {
          "base_uri": "https://localhost:8080/"
        },
        "id": "6VxTQyq7KQBq",
        "outputId": "17c974b2-1937-4022-879d-62d9335c6212"
      },
      "source": [
        "def add(x, y):\n",
        "    return x + y\n",
        "\n",
        "def subtract(x, y):\n",
        "    return x - y\n",
        "\n",
        "def multiply(x, y):\n",
        "    return x * y\n",
        "\n",
        "def divide(x, y):\n",
        "    return x / y\n",
        "\n",
        "print(\"연산 선택 : 1.더하기 2.빼기 3.곱하기 4.나누기\")\n",
        "choice = input(\"선택(1/2/3/4/):\")\n",
        "\n",
        "num1 = int(input(\"첫번째 숫자 : \"))\n",
        "num2 = int(input(\"두번째 숫자 : \"))\n",
        "\n",
        "if choice == '1':\n",
        "  t=add(num1,num2)\n",
        "  print(num1,\"+\",num2,\"=\", t)\n",
        "\n",
        "elif choice == '2':\n",
        "  t=subtract(num1,num2)\n",
        "  print(num1,\"-\",num2,\"=\", t)\n",
        "\n",
        "elif choice == '3':\n",
        "  t=multiply(num1,num2)\n",
        "  print(num1,\"*\",num2,\"=\", t)\n",
        "\n",
        "elif choice == '4':\n",
        "  t=divide(num1,num2)\n",
        "  print(num1,\"/\",num2,\"=\", t)\n",
        "\n",
        "else:\n",
        "  print(\"잘못된 선택\")\n",
        "\n",
        "print(\"추가 연산 선택 : 1.더하기 2.빼기 3.곱하기 4.나누기\")\n",
        "choice = input(\"선택 하세요(1/2/3/4/):\")\n",
        "num3 = int(input(\"숫자 : \"))\n",
        "    #t=tt\n",
        "if choice == '1':\n",
        "  tt=add(t,num3)\n",
        "  print(t,\"+\",num3,\"=\", tt)\n",
        "        \n",
        "elif choice == '2':\n",
        "  tt=subtract(t,num3)\n",
        "  print(t,\"-\",num3,\"=\", tt)\n",
        "        \n",
        "elif choice == '3':\n",
        "  tt=multiply(t,num3)\n",
        "  print(t,\"*\",num3,\"=\", tt)\n",
        "\n",
        "elif choice == '4':\n",
        "  tt=divide(t,num3)\n",
        "  print(t,\"/\",num3,\"=\", tt)\n",
        "    \n",
        "else:\n",
        "  print(\"잘못된 선택\")\n",
        "\n",
        "while True:\n",
        "    \n",
        "    print(\"추가 연산 선택 : 1.더하기 2.빼기 3.곱하기 4.나누기\")\n",
        "    choice = input(\"선택 하세요(1/2/3/4/):\")\n",
        "    if choice == 'q':\n",
        "      break\n",
        "    num3 = int(input(\"숫자 : \"))\n",
        "    \n",
        "    t=tt\n",
        "    if choice == '1':\n",
        "        tt=add(t,num3)\n",
        "        print(t,\"+\",num3,\"=\", tt)\n",
        "        \n",
        "    elif choice == '2':\n",
        "        tt=subtract(t,num3)\n",
        "        print(t,\"-\",num3,\"=\", tt)\n",
        "        \n",
        "    elif choice == '3':\n",
        "        tt=multiply(t,num3)\n",
        "        print(t,\"*\",num3,\"=\", tt)\n",
        "\n",
        "    elif choice == '4':\n",
        "        tt=divide(t,num3)\n",
        "        print(t,\"/\",num3,\"=\", tt)\n",
        "   \n",
        "    else:\n",
        "        print(\"잘못된 선택\")\n",
        "    "
      ],
      "execution_count": null,
      "outputs": [
        {
          "output_type": "stream",
          "text": [
            "연산 선택 : 1.더하기 2.빼기 3.곱하기 4.나누기\n",
            "선택(1/2/3/4/):1\n",
            "첫번째 숫자 : 2\n",
            "두번째 숫자 : 3\n",
            "2 + 3 = 5\n",
            "추가 연산 선택 : 1.더하기 2.빼기 3.곱하기 4.나누기\n",
            "선택 하세요(1/2/3/4/):1\n"
          ],
          "name": "stdout"
        }
      ]
    }
  ]
}