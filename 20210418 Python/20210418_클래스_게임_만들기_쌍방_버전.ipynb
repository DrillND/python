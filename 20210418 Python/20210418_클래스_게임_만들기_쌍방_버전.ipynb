{
  "nbformat": 4,
  "nbformat_minor": 0,
  "metadata": {
    "colab": {
      "name": "20210418  클래스 게임 만들기 쌍방 버전.ipynb",
      "provenance": []
    },
    "kernelspec": {
      "name": "python3",
      "display_name": "Python 3"
    },
    "language_info": {
      "name": "python"
    }
  },
  "cells": [
    {
      "cell_type": "code",
      "metadata": {
        "colab": {
          "base_uri": "https://localhost:8080/"
        },
        "id": "0fNXxDqkp1wv",
        "outputId": "6cfabcbb-5735-4f4d-f528-89ebdb3cf207"
      },
      "source": [
        "class Predator:\n",
        "    def __init__(self,Turn):\n",
        "        self.Turn2 = Turn\n",
        "        \n",
        "class Vic :\n",
        "    def __init__(self,Bturn,HP):\n",
        "        self.Bturn2 = Bturn\n",
        "        self.HP2 = HP\n",
        "\n",
        "P=Predator(6)        \n",
        "V=Vic(2,3)\n",
        "\n",
        "\n",
        "class Action :\n",
        "    def __init__(self,Attack,Block,Wait):\n",
        "        self.Punch2=Attack\n",
        "        self.Block2=Block\n",
        "        self.Wait2=Wait\n",
        "\n",
        "\n",
        "\n",
        "while True :\n",
        "    a=input(\"포식자 측 1.공격 2.기다림 : \")\n",
        "\n",
        "    if a == \"1\" :\n",
        "        P.Turn2 = P.Turn2 - 1\n",
        "        #print(type(P.Turn2))\n",
        "        print(\"남은 공격 턴\", P.Turn2)\n",
        "    if P.Turn2 == 0 :\n",
        "        print(\"공격 제한을 초과 하였습니다. 포식자 패배\")\n",
        "        break\n",
        "    \n",
        "    b=input(\"희생자 측 1.방어 2.기다림 : \")\n",
        "    \n",
        "    if b == \"1\" and a == \"1\" :\n",
        "        V.Bturn2 = V.Bturn2-1\n",
        "        print(\"남은 HP \", V.HP2)\n",
        "        print(\"남은 방어 턴\", V.Bturn2)\n",
        "    elif a==\"1\" and b==\"2\" :\n",
        "        V.HP2 = V.HP2 -1\n",
        "        print(\"남은 HP \", V.HP2)\n",
        "        print(\"남은 방어 턴\", V.Bturn2)\n",
        "    if V.Bturn2 == 0 and b == \"1\" and a == \"1\":\n",
        "        print(\"턴 없음, 방어 불가!! 남은 HP\",V.HP2)\n",
        "    if V.Bturn2 <0 and b == \"1\" and a == \"1\":\n",
        "        V.HP2 = V.HP2 -1\n",
        "        print(\"턴 없음 방어 불가!! 남은 HP\",V.HP2)\n",
        "    if V.Bturn2 == 0 and b == \"1\" and a == \"2\":\n",
        "        print(\"턴 없음, 방어 불가!! 남은 HP\",V.HP2)\n",
        "    if V.HP2 == 0 :\n",
        "      print(\"HP가 없습니다. 정신을 잃고 쓰러졌습니다. 희생자 패배\")\n",
        "      break"
      ],
      "execution_count": 114,
      "outputs": [
        {
          "output_type": "stream",
          "text": [
            "포식자 측 1.공격 2.기다림 : 1\n",
            "남은 공격 턴 5\n",
            "희생자 측 1.방어 2.기다림 : 1\n",
            "남은 HP  3\n",
            "남은 방어 턴 1\n",
            "포식자 측 1.공격 2.기다림 : 1\n",
            "남은 공격 턴 4\n",
            "희생자 측 1.방어 2.기다림 : 1\n",
            "남은 HP  3\n",
            "남은 방어 턴 0\n",
            "턴 없음, 방어 불가!! 남은 HP 3\n",
            "포식자 측 1.공격 2.기다림 : 1\n",
            "남은 공격 턴 3\n",
            "희생자 측 1.방어 2.기다림 : 1\n",
            "남은 HP  3\n",
            "남은 방어 턴 -1\n",
            "턴 없음 방어 불가!! 남은 HP 2\n",
            "포식자 측 1.공격 2.기다림 : 1\n",
            "남은 공격 턴 2\n",
            "희생자 측 1.방어 2.기다림 : 1\n",
            "남은 HP  2\n",
            "남은 방어 턴 -2\n",
            "턴 없음 방어 불가!! 남은 HP 1\n",
            "포식자 측 1.공격 2.기다림 : 1\n",
            "남은 공격 턴 1\n",
            "희생자 측 1.방어 2.기다림 : 1\n",
            "남은 HP  1\n",
            "남은 방어 턴 -3\n",
            "턴 없음 방어 불가!! 남은 HP 0\n",
            "HP가 없습니다. 정신을 잃고 쓰러졌습니다. 희생자 패배\n"
          ],
          "name": "stdout"
        }
      ]
    }
  ]
}