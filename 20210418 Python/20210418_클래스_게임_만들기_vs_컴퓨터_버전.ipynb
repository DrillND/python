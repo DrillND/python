{
  "nbformat": 4,
  "nbformat_minor": 0,
  "metadata": {
    "colab": {
      "name": "20210418 클래스 게임 만들기 vs 컴퓨터 버전.ipynb",
      "provenance": []
    },
    "kernelspec": {
      "name": "python3",
      "display_name": "Python 3"
    },
    "language_info": {
      "name": "python"
    }
  },
  "cells": [
    {
      "cell_type": "code",
      "metadata": {
        "id": "utND0XdsPz8g"
      },
      "source": [
        "#게임 설명\n",
        "\n",
        "'''\n",
        "당신은 포식자입니다. 오늘밤 희생자를 죽이고 배를 채울 것입니다. 총 4번의 공격 기회가 있습니다. 그 안에 희생자를 죽이십시오.\n",
        "희생자는 2번의 방어 기회를 가지고 있고 3번의 공격을 버틸 수 있습니다.(HP 3)\n",
        "4번 안에 희생자를 죽이지 못하면 당신이 패배하게 될 것입니다. "
      ],
      "execution_count": null,
      "outputs": []
    },
    {
      "cell_type": "code",
      "metadata": {
        "colab": {
          "base_uri": "https://localhost:8080/"
        },
        "id": "PW-vZULs8H5o",
        "outputId": "aa9a5914-9fde-4c74-b4ec-9843be4ece6c"
      },
      "source": [
        "class Predator:\n",
        "    def __init__(self,Turn):\n",
        "        self.Turn2 = Turn\n",
        "        \n",
        "class Vic :\n",
        "    def __init__(self,Bturn,HP):\n",
        "        self.Bturn2 = Bturn\n",
        "        self.HP2 = HP\n",
        "\n",
        "P=Predator(4)        \n",
        "V=Vic(2,3)\n",
        "\n",
        "\n",
        "class Action :\n",
        "    def __init__(self,Attack,Block,Wait):\n",
        "        self.Punch2=Attack\n",
        "        self.Block2=Block\n",
        "        self.Wait2=Wait\n",
        "\n",
        "\n",
        "\n",
        "while True :\n",
        "    a=input(\"\\n포식자 측 1.공격 2.기다림 : \")\n",
        "\n",
        "    if a == \"1\" :\n",
        "        P.Turn2 = P.Turn2 - 1\n",
        "        #print(type(P.Turn2))\n",
        "        print(\"남은 공격 턴\", P.Turn2)\n",
        "    if P.Turn2 < 0 :\n",
        "        print(\"공격 제한을 초과 하였습니다. 포식자 패배\")\n",
        "        break\n",
        "    \n",
        "    import random\n",
        "    b=random.randrange(1,3)\n",
        "    print(\"희생자의 선택 : 1.방어 2.기다림 :\",b)\n",
        "\n",
        "    if b == 1 and a == \"1\" :\n",
        "        V.Bturn2 = V.Bturn2-1\n",
        "        print(\"남은 희생자 HP \", V.HP2)\n",
        "        print(\"남은 희생자 방어 턴\", V.Bturn2)\n",
        "    elif a==\"1\" and b==2 :\n",
        "        V.HP2 = V.HP2 -1\n",
        "        print(\"남은 희생자 HP \", V.HP2)\n",
        "        print(\"남은 희생자 방어 턴\", V.Bturn2)\n",
        "    if V.Bturn2 == 0 and b == 1 and a == \"1\":\n",
        "        print(\"턴 없음, 희생자 방어 불가!! 남은 HP\",V.HP2)\n",
        "    if V.Bturn2 <0 and b == 1 and a == \"1\":\n",
        "        V.HP2 = V.HP2 -1\n",
        "        print(\"턴 없음 희생자 방어 불가!! 남은 HP\",V.HP2)\n",
        "    if V.Bturn2 == 0 and b == 1 and a == \"2\":\n",
        "        print(\"턴 없음, 희생자 방어 불가!! 남은 HP\",V.HP2)\n",
        "    if V.HP2 == 0 :\n",
        "      print(\"HP가 없습니다. 정신을 잃고 쓰러졌습니다. 희생자 패배\")\n",
        "      print(\"\\n축하합니다. 희생자를 죽였습니다!!\")\n",
        "      break"
      ],
      "execution_count": 37,
      "outputs": [
        {
          "output_type": "stream",
          "text": [
            "\n",
            "포식자 측 1.공격 2.기다림 : 2\n",
            "희생자의 선택 : 1.방어 2.기다림 : 2\n",
            "\n",
            "포식자 측 1.공격 2.기다림 : 2\n",
            "희생자의 선택 : 1.방어 2.기다림 : 1\n",
            "\n",
            "포식자 측 1.공격 2.기다림 : 2\n",
            "희생자의 선택 : 1.방어 2.기다림 : 2\n",
            "\n",
            "포식자 측 1.공격 2.기다림 : 1\n",
            "남은 공격 턴 3\n",
            "희생자의 선택 : 1.방어 2.기다림 : 1\n",
            "남은 희생자 HP  3\n",
            "남은 희생자 방어 턴 1\n",
            "\n",
            "포식자 측 1.공격 2.기다림 : 1\n",
            "남은 공격 턴 2\n",
            "희생자의 선택 : 1.방어 2.기다림 : 2\n",
            "남은 희생자 HP  2\n",
            "남은 희생자 방어 턴 1\n",
            "\n",
            "포식자 측 1.공격 2.기다림 : 1\n",
            "남은 공격 턴 1\n",
            "희생자의 선택 : 1.방어 2.기다림 : 2\n",
            "남은 희생자 HP  1\n",
            "남은 희생자 방어 턴 1\n",
            "\n",
            "포식자 측 1.공격 2.기다림 : 1\n",
            "남은 공격 턴 0\n",
            "희생자의 선택 : 1.방어 2.기다림 : 1\n",
            "남은 희생자 HP  1\n",
            "남은 희생자 방어 턴 0\n",
            "턴 없음, 희생자 방어 불가!! 남은 HP 1\n",
            "\n",
            "포식자 측 1.공격 2.기다림 : 1\n",
            "남은 공격 턴 -1\n",
            "공격 제한을 초과 하였습니다. 포식자 패배\n"
          ],
          "name": "stdout"
        }
      ]
    }
  ]
}