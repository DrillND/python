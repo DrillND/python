{
 "cells": [
  {
   "cell_type": "code",
   "execution_count": null,
   "metadata": {
    "id": "5HRmtpjVXK_o"
   },
   "outputs": [],
   "source": [
    "import csv\n",
    "f = open('210416.csv', encoding = 'cp949') #같은 파일이 아니라면 경로를 써야된다.\n",
    "data1 = csv.reader(f)\n",
    "\n",
    "header = next(data1)\n",
    "\n",
    "\n",
    "\n",
    "ttt=[]\n",
    "for i in data1:\n",
    "    a=i[6].split(' ')\n",
    "    ttt.append(a[0])\n",
    "\n",
    "\n",
    "ttt2=[]\n",
    "for i in ttt:\n",
    "    if i not in ttt2:\n",
    "        ttt2.append(i)\n",
    "    \n",
    "print(ttt2,\"\\n\")\n",
    "\n",
    "\n",
    "f.close()"
   ]
  },
  {
   "cell_type": "code",
   "execution_count": null,
   "metadata": {
    "id": "WMp343f0XUwk"
   },
   "outputs": [],
   "source": [
    "\n",
    "import csv\n",
    "f = open('210416.csv', encoding = 'cp949') #같은 파일이 아니라면 경로를 써야된다.\n",
    "data1 = csv.reader(f)\n",
    "\n",
    "header = next(data1)\n",
    "\n",
    "#for i in data1:\n",
    "    #print(i)\n",
    "\n",
    "count1=0\n",
    "count2=0\n",
    "count3=0\n",
    "count4=0\n",
    "count5=0\n",
    "\n",
    "for i in data1:\n",
    "    a=i[6].split(' ')\n",
    "    #b=i[6]\n",
    "    #print(a[0])\n",
    "    if a[0] == \"서울특별시\":\n",
    "        count1+=1\n",
    "    elif a[0] == \"충청남도\":\n",
    "        count2+=1\n",
    "    elif a[0] == \"광주광역시\":\n",
    "        count3+=1\n",
    "    elif a[0] == \"경상남도\":\n",
    "        count4+=1\n",
    "print(\"서울특별시 센터 갯수 : %d \" %count1)\n",
    "print(\"충청남도 센터 갯수 : %d \" %count2)\n",
    "print(\"광주광역시 센터 갯수 : %d \"%count3)\n",
    "print(\"경상남도 센터 : %d\" %count4)\n",
    "f.close()"
   ]
  }
 ],
 "metadata": {
  "colab": {
   "name": "20210418 CSV파일분석하기 예방접종센터.ipynb",
   "provenance": []
  },
  "kernelspec": {
   "display_name": "Python 3",
   "language": "python",
   "name": "python3"
  },
  "language_info": {
   "codemirror_mode": {
    "name": "ipython",
    "version": 3
   },
   "file_extension": ".py",
   "mimetype": "text/x-python",
   "name": "python",
   "nbconvert_exporter": "python",
   "pygments_lexer": "ipython3",
   "version": "3.8.5"
  }
 },
 "nbformat": 4,
 "nbformat_minor": 1
}
