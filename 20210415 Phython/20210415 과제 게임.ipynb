{
 "cells": [
  {
   "cell_type": "code",
   "execution_count": 42,
   "metadata": {},
   "outputs": [
    {
     "name": "stdout",
     "output_type": "stream",
     "text": [
      "어디를 때리시겠습니까? : 1.머리 2.바디 1\n",
      "190\n",
      "안면에 주먹 강타\n"
     ]
    },
    {
     "data": {
      "text/plain": [
       "(None, None)"
      ]
     },
     "execution_count": 42,
     "metadata": {},
     "output_type": "execute_result"
    }
   ],
   "source": [
    "\n",
    "class Fighter :\n",
    "    def __init__(self,head,body,arm,leg,submission):\n",
    "        self.head2 = head\n",
    "        self.body2 = body\n",
    "        self.arm2 = arm\n",
    "        self.leg2 = leg\n",
    "        self.submission2 = submission\n",
    "        \n",
    "    def punch(self) :\n",
    "        a = input('어디를 때리시겠습니까? : 1.머리 2.바디 ')\n",
    "        if a == \"1\":\n",
    "            return print(b_fighter.head2 - 10), print(\"안면에 주먹 강타\")\n",
    "            \n",
    "        elif a == \"2\":\n",
    "            return \"바디에 주먹 강타\"\n",
    "        \n",
    "a_fighter = Fighter(100,200,100,100,1)\n",
    "b_fighter = Fighter(200,100,100,100,1) \n",
    "\n",
    "a_fighter.punch()\n",
    "\n",
    "\n",
    "\n",
    "#펀치 1.머리 2.바디\n",
    "#킥 1.머리 2.바디 3.팔 4.다리\n",
    "#테클\n",
    "\n"
   ]
  },
  {
   "cell_type": "code",
   "execution_count": 60,
   "metadata": {},
   "outputs": [
    {
     "name": "stdout",
     "output_type": "stream",
     "text": [
      "어디를 때리시겠습니까? : 1.머리 2.바디 1\n",
      "190\n",
      "안면에 주먹 강타\n",
      "200\n"
     ]
    }
   ],
   "source": [
    "class Fighter :\n",
    "    def __init__(self,head,body,arm,leg,submission):\n",
    "        self.head2 = head\n",
    "        self.body2 = body\n",
    "        self.arm2 = arm\n",
    "        self.leg2 = leg\n",
    "        self.submission2 = submission\n",
    "        \n",
    "    def punch(self) :\n",
    "        a = input('어디를 때리시겠습니까? : 1.머리 2.바디 ')\n",
    "        if a == \"1\":\n",
    "            snum = b_fighter.head2 - 10\n",
    "            return f\"{snum}\\n안면에 주먹 강타\"\n",
    "    \n",
    "        elif a == \"2\":\n",
    "            return \"바디에 주먹 강타\"\n",
    "        \n",
    "a_fighter = Fighter(100,200,100,100,1)\n",
    "b_fighter = Fighter(200,100,100,100,1) \n",
    "\n",
    "\n",
    "a = a_fighter.punch()\n",
    "print(a)\n",
    "print(b_fighter.head2)\n",
    "\n",
    "\n",
    "#펀치 1.머리 2.바디\n",
    "#킥 1.머리 2.바디 3.팔 4.다리\n",
    "#테클\n"
   ]
  },
  {
   "cell_type": "code",
   "execution_count": null,
   "metadata": {},
   "outputs": [],
   "source": []
  },
  {
   "cell_type": "code",
   "execution_count": 59,
   "metadata": {},
   "outputs": [
    {
     "name": "stdout",
     "output_type": "stream",
     "text": [
      "100\n"
     ]
    }
   ],
   "source": [
    "#쉬운 연습\n",
    "class Fighter :\n",
    "    def __init__(self,head):\n",
    "        self.head2 = head\n",
    "        \n",
    "    \n",
    "        \n",
    "a = Fighter(100)\n",
    "b = Fighter(200) \n",
    "\n",
    "\n",
    "print(a.head2)\n",
    "\n"
   ]
  },
  {
   "cell_type": "code",
   "execution_count": 79,
   "metadata": {},
   "outputs": [
    {
     "name": "stdout",
     "output_type": "stream",
     "text": [
      "1.공격 2.기다림 : 1\n"
     ]
    },
    {
     "ename": "SyntaxError",
     "evalue": "'return' outside function (<ipython-input-79-f4f6943975b3>, line 20)",
     "output_type": "error",
     "traceback": [
      "\u001b[1;36m  File \u001b[1;32m\"<ipython-input-79-f4f6943975b3>\"\u001b[1;36m, line \u001b[1;32m20\u001b[0m\n\u001b[1;33m    return P.Turn\u001b[0m\n\u001b[1;37m    ^\u001b[0m\n\u001b[1;31mSyntaxError\u001b[0m\u001b[1;31m:\u001b[0m 'return' outside function\n"
     ]
    }
   ],
   "source": [
    "class Predator:\n",
    "    Turn = 10\n",
    "        \n",
    "class Vic :\n",
    "    def __init__(self,HP):\n",
    "        self.HP2 = HP\n",
    "Victim=Vic(10)\n",
    "\n",
    "\n",
    "class Action :\n",
    "    def __init__(self,Attack,Block,Wait):\n",
    "        self.Punch2=Attack\n",
    "        self.Block2=Block\n",
    "        self.Wait2=Wait\n",
    "\n",
    "P=Predator()\n",
    "\n",
    "a=input(\"1.공격 2.기다림 : \")\n",
    "if a == \"1\":\n",
    "    return P.Turn\n"
   ]
  },
  {
   "cell_type": "code",
   "execution_count": null,
   "metadata": {},
   "outputs": [],
   "source": []
  },
  {
   "cell_type": "code",
   "execution_count": null,
   "metadata": {},
   "outputs": [],
   "source": []
  }
 ],
 "metadata": {
  "kernelspec": {
   "display_name": "Python 3",
   "language": "python",
   "name": "python3"
  },
  "language_info": {
   "codemirror_mode": {
    "name": "ipython",
    "version": 3
   },
   "file_extension": ".py",
   "mimetype": "text/x-python",
   "name": "python",
   "nbconvert_exporter": "python",
   "pygments_lexer": "ipython3",
   "version": "3.8.5"
  }
 },
 "nbformat": 4,
 "nbformat_minor": 4
}
