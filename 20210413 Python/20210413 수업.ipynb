{
 "cells": [
  {
   "cell_type": "code",
   "execution_count": null,
   "metadata": {},
   "outputs": [],
   "source": [
    "#p.185\n",
    "\n",
    "python = {\n",
    "    'Chapman':'Gramham',\n",
    "    'Cheese':'John',\n",
    "    'Gillam':'Terry',\n",
    "    'Idle':'Eric',\n",
    "    'Jones':'Terry',\n",
    "    'Palin':'Micheal'\n",
    "}\n",
    "\n",
    "others = {'Mark':'Gouch','Howard':'Moe'}\n",
    "\n",
    "python.update(others)\n",
    "print(python)\n",
    "\n",
    "first = {'a':1,'b':2}\n",
    "second={'b':666}\n",
    "first.update(second)\n",
    "\n",
    "print(first)"
   ]
  },
  {
   "cell_type": "code",
   "execution_count": null,
   "metadata": {},
   "outputs": [],
   "source": [
    "a = {\"room\":\"ballroom\", \"weapon\":\"lead pipe\"}\n",
    "for i in a:\n",
    "    print(i)\n",
    "for i in a.values():\n",
    "    print(i)\n",
    "for i in a.items():\n",
    "    print(i)\n",
    "print(\"\\n\")\n",
    "\n",
    "for i,p in a.items():\n",
    "    print(i,p)"
   ]
  },
  {
   "cell_type": "code",
   "execution_count": null,
   "metadata": {},
   "outputs": [],
   "source": [
    "#p.205 딕셔너리 문제\n",
    "#8.1~\n",
    "e2f = {\"dog\":\"chien\",\"cat\":\"chat\",\"walrus\":\"morse\"}\n",
    "print(e2f[\"walrus\"])\n"
   ]
  },
  {
   "cell_type": "code",
   "execution_count": 40,
   "metadata": {},
   "outputs": [
    {
     "name": "stdout",
     "output_type": "stream",
     "text": [
      "{'chien': 'dog', 'chat': 'cat', 'morse': 'walrus'}\n",
      "dog\n",
      "dict_keys(['chien', 'chat', 'morse'])\n",
      "{'dog': 'chien', 'cat': 'chat', 'walrus': 'morse'}\n"
     ]
    }
   ],
   "source": [
    "#8.3~\n",
    "e2f = {\"dog\":\"chien\",\"cat\":\"chat\",\"walrus\":\"morse\"}\n",
    "a={v:k for k,v in e2f.items()}\n",
    "print(a)\n",
    "print(a[\"chien\"])\n",
    "print(a.keys())\n",
    "\n",
    "#e2f={}\n",
    "for x,y in e2f.items():\n",
    "    e2f[x]=y\n",
    "print(e2f)"
   ]
  },
  {
   "cell_type": "code",
   "execution_count": 52,
   "metadata": {},
   "outputs": [
    {
     "name": "stdout",
     "output_type": "stream",
     "text": [
      "{'chien': 'dog', 'chat': 'cat', 'morse': 'walrus'}\n"
     ]
    }
   ],
   "source": [
    "#e2ff={} 이거 헷갈렷음\n",
    "e2f = {\"dog\":\"chien\",\"cat\":\"chat\",\"walrus\":\"morse\"}\n",
    "\n",
    "for x,y in e2f.items():\n",
    "    e2ff[y]=x\n",
    "\n",
    "print(e2ff)"
   ]
  },
  {
   "cell_type": "code",
   "execution_count": 51,
   "metadata": {},
   "outputs": [
    {
     "name": "stdout",
     "output_type": "stream",
     "text": [
      "dict_keys(['animals', 'plants', 'other'])\n",
      "{'cat': 'Henri', 'octopi': 'Grumpy', 'emus': 'Lucy'}\n",
      "Henri\n"
     ]
    }
   ],
   "source": [
    "#8.6~\n",
    "#animals={\"cat\":\"Henri\",\"octopi\":\"Grumpy\",\"emus\":\"Lucy\"}\n",
    "life = {\"animals\":{\"cat\":\"Henri\",\"octopi\":\"Grumpy\",\"emus\":\"Lucy\"},\"plants\":\"{}\",\"other\":\"{}\"}\n",
    "print(life.keys())\n",
    "a=life[\"animals\"]\n",
    "print(a)\n",
    "b=life[\"animals\"][\"cat\"]\n",
    "print(b)"
   ]
  },
  {
   "cell_type": "code",
   "execution_count": 5,
   "metadata": {},
   "outputs": [
    {
     "name": "stdout",
     "output_type": "stream",
     "text": [
      "{0: 0, 1: 1, 2: 4, 3: 9, 4: 16, 5: 25, 6: 36, 7: 49, 8: 64, 9: 81}\n"
     ]
    }
   ],
   "source": [
    "#8.10\n",
    "square={i:i*i for i in range(10)}\n",
    "print(square)"
   ]
  },
  {
   "cell_type": "code",
   "execution_count": 22,
   "metadata": {},
   "outputs": [
    {
     "name": "stdout",
     "output_type": "stream",
     "text": [
      "{'t', 'r', 's', 'l', 'e'}\n"
     ]
    }
   ],
   "source": [
    "#set 셋은 순서가 없다\n",
    "empty_set=set()\n",
    "even_num = {0,2,4,6,8}\n",
    "odd_num = {1,3,5,7,9}\n",
    "\n",
    "a= set('letters')\n",
    "print(a)"
   ]
  },
  {
   "cell_type": "code",
   "execution_count": 39,
   "metadata": {},
   "outputs": [
    {
     "ename": "IndentationError",
     "evalue": "expected an indented block (<ipython-input-39-9d4e5a938601>, line 15)",
     "output_type": "error",
     "traceback": [
      "\u001b[1;36m  File \u001b[1;32m\"<ipython-input-39-9d4e5a938601>\"\u001b[1;36m, line \u001b[1;32m15\u001b[0m\n\u001b[1;33m    for namei,contendj in drinks.items():\u001b[0m\n\u001b[1;37m                                         ^\u001b[0m\n\u001b[1;31mIndentationError\u001b[0m\u001b[1;31m:\u001b[0m expected an indented block\n"
     ]
    }
   ],
   "source": [
    "#p.197\n",
    "\n",
    "drinks = {\n",
    "    'martini':{'vodka','vermouth'}, #뒤에거는 set 선언 안해도 :없으면 알아서 셋으로 알아먹음\n",
    "    'black russian':{'vodka','kahlue'},\n",
    "    'white russsan':{'cream','vodka','kahlue'},\n",
    "    'manhattan':{'rye','vermouth','bitters'},\n",
    "    'scewdiver':{\"orange juice\",'vodka'}\n",
    "}\n",
    "\n",
    "for namei,contendj in drinks.items():\n",
    "    if 'vodka' in contendj:\n",
    "        #print(namei)\n",
    "        \n",
    "#for namei,contendj in drinks.items():\n",
    "    #if 'vodka' in contendj and not(''):\n",
    "    \n"
   ]
  },
  {
   "cell_type": "code",
   "execution_count": null,
   "metadata": {},
   "outputs": [],
   "source": [
    "drinks = {\n",
    "    'martini':{'vodka','vermouth'}, #뒤에거는 set 선언 안해도 :없으면 알아서 셋으로 알아먹음\n",
    "    'black russian':{'vodka','kahlue'},\n",
    "    'white russsan':{'cream','vodka','kahlue'},\n",
    "    'manhattan':{'rye','vermouth','bitters'},\n",
    "    'scewdiver':{\"orange juice\",'vodka'}\n",
    "}\n",
    "\n",
    "for namei,contendj in drinks.items():\n",
    "    if contendj & {'cream','orange juice'}:\n",
    "        print(namei)"
   ]
  },
  {
   "cell_type": "code",
   "execution_count": 53,
   "metadata": {},
   "outputs": [
    {
     "name": "stdout",
     "output_type": "stream",
     "text": [
      "{1, 3, 5, 7, 9}\n"
     ]
    }
   ],
   "source": [
    "#8.11\n",
    "a_set={i for i in range(10) if i%2==1}\n",
    "print(a_set)"
   ]
  },
  {
   "cell_type": "code",
   "execution_count": 87,
   "metadata": {},
   "outputs": [
    {
     "name": "stdout",
     "output_type": "stream",
     "text": [
      "<generator object <genexpr> at 0x000001CBDB346A50>\n",
      "g\n",
      "e\n",
      "t\n",
      "<generator object <genexpr> at 0x000001CBDB3369E0>\n",
      "0\n",
      "1\n",
      "2\n",
      "3\n",
      "4\n",
      "5\n",
      "6\n",
      "7\n",
      "8\n",
      "9\n"
     ]
    }
   ],
   "source": [
    "gen = (i for i in \"get\")\n",
    "print(gen)\n",
    "for i in gen:\n",
    "    print(i)\n",
    "    \n",
    "gen2 = (i for i in range(10))\n",
    "print(gen2)\n",
    "for i in gen2:\n",
    "    print(i)"
   ]
  },
  {
   "cell_type": "code",
   "execution_count": 64,
   "metadata": {},
   "outputs": [
    {
     "name": "stdout",
     "output_type": "stream",
     "text": [
      "{'optimist': 'The glass is half full', 'pessimist': 'The glass is half empty', 'troll': 'How did you get a glass'}\n"
     ]
    }
   ],
   "source": [
    "t=(\"optimist\",\"pessimist\",\"troll\")\n",
    "tt=(\"The glass is half full\",\"The glass is half empty\", \"How did you get a glass\")\n",
    "\n",
    "listt=[]\n",
    "for ttt in zip(t,tt):\n",
    "    listt.append(ttt)\n",
    "\n",
    "print(dict(listt))\n",
    "\n"
   ]
  },
  {
   "cell_type": "code",
   "execution_count": 79,
   "metadata": {},
   "outputs": [
    {
     "name": "stdout",
     "output_type": "stream",
     "text": [
      "{'Creature of Habit': 'A nun turns into a mon ster', 'Crewel Fate': 'A haunted yarn shop'}\n"
     ]
    }
   ],
   "source": [
    "#8.14\n",
    "titles = [\"Creature of Habit\",\"Crewel Fate\"]\n",
    "plots = [\"A nun turns into a mon ster\",\"A haunted yarn shop\"]\n",
    "\n",
    "#movie = {}\n",
    "#for ttt in zip(titles,plots):\n",
    "    #print(ttt)\n",
    "\n",
    "movie = zip(titles,plots)\n",
    "print(dict(movie))"
   ]
  },
  {
   "cell_type": "code",
   "execution_count": null,
   "metadata": {},
   "outputs": [],
   "source": []
  }
 ],
 "metadata": {
  "kernelspec": {
   "display_name": "Python 3",
   "language": "python",
   "name": "python3"
  },
  "language_info": {
   "codemirror_mode": {
    "name": "ipython",
    "version": 3
   },
   "file_extension": ".py",
   "mimetype": "text/x-python",
   "name": "python",
   "nbconvert_exporter": "python",
   "pygments_lexer": "ipython3",
   "version": "3.8.5"
  }
 },
 "nbformat": 4,
 "nbformat_minor": 4
}
