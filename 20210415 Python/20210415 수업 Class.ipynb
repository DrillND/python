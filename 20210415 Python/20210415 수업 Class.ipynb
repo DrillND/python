{
 "cells": [
  {
   "cell_type": "code",
   "execution_count": 15,
   "metadata": {},
   "outputs": [
    {
     "name": "stdout",
     "output_type": "stream",
     "text": [
      "40\n",
      "마린이 스팀팩을 씁니다.\n",
      "None\n",
      "20\n"
     ]
    }
   ],
   "source": [
    "class marin : \n",
    "    HP = 40\n",
    "    Armor = 0\n",
    "    Damage = 6\n",
    "    attack_delay = 15\n",
    "\n",
    "    def attack(self) :\n",
    "        print('마린이 공격합니다.')\n",
    "    def stimpack(self) :\n",
    "        print('마린이 스팀팩을 씁니다.')\n",
    "        self.HP -= 10\n",
    "        self.attack_delay = 9\n",
    "\n",
    "a=marin()\n",
    "print(a.HP)\n",
    "print(a.stimpack())\n",
    "print(a.HP-10)\n",
    "# 리턴값이 없으면 none"
   ]
  },
  {
   "cell_type": "code",
   "execution_count": 107,
   "metadata": {},
   "outputs": [
    {
     "data": {
      "text/plain": [
       "'Tommy'"
      ]
     },
     "execution_count": 107,
     "metadata": {},
     "output_type": "execute_result"
    }
   ],
   "source": [
    "class Cat:#() : \n",
    "    pass\n",
    "a_cat = Cat()\n",
    "another_cat = Cat()\n",
    "\n",
    "a_cat.age= 3\n",
    "a_cat.name = \"kitty\"\n",
    "a_cat.nemesis = another_cat\n",
    "\n",
    "a_cat.name\n",
    "a_cat.nemesis.name = \"Tom\"\n",
    "another_cat.name\n",
    "\n",
    "#########\n",
    "\n",
    "\n",
    "class Cat() :\n",
    "        def __init__(self,name) :\n",
    "            self.name2 = name\n",
    "\n",
    "\n",
    "d_cat = Cat('Tommy')\n",
    "d_cat.name2\n",
    "\n",
    "#개발자끼리는 self 쓴다."
   ]
  },
  {
   "cell_type": "code",
   "execution_count": 108,
   "metadata": {},
   "outputs": [
    {
     "data": {
      "text/plain": [
       "'cheez'"
      ]
     },
     "execution_count": 108,
     "metadata": {},
     "output_type": "execute_result"
    }
   ],
   "source": [
    "class Cat : \n",
    "    pass\n",
    "a_cat = Cat()\n",
    "another_cat = Cat()\n",
    "\n",
    "a_cat.age= 3\n",
    "a_cat.name = \"kitty\"\n",
    "a_cat.nemesis = another_cat\n",
    "\n",
    "a_cat.name\n",
    "a_cat.nemesis.name = \"Tom\"\n",
    "another_cat.name\n",
    "\n",
    "#########\n",
    "\n",
    "class Cat() :\n",
    "    def __init__(mine,name,age,jong):\n",
    "        mine.name2 = name\n",
    "        mine.age2 = age\n",
    "        mine.jong2 = jong\n",
    "d_cat = Cat('jerry',3,'cheez')\n",
    "\n",
    "d_cat.name2\n",
    "d_cat.age2\n",
    "d_cat.jong2"
   ]
  },
  {
   "cell_type": "code",
   "execution_count": 111,
   "metadata": {},
   "outputs": [
    {
     "data": {
      "text/plain": [
       "'milk'"
      ]
     },
     "execution_count": 111,
     "metadata": {},
     "output_type": "execute_result"
    }
   ],
   "source": [
    "class Cat() :\n",
    "    def __init__(mine,name,age,jong):\n",
    "        mine.name2 = name\n",
    "        mine.age2 = age\n",
    "        mine.jong2 = jong\n",
    "d_cat = Cat('jerry',3,'cheez')\n",
    "e_cat = Cat('tong',5,'milk')\n",
    "\n",
    "d_cat.name2\n",
    "d_cat.age2\n",
    "d_cat.jong2\n",
    "\n",
    "e_cat.jong2"
   ]
  },
  {
   "cell_type": "code",
   "execution_count": 5,
   "metadata": {},
   "outputs": [
    {
     "name": "stdout",
     "output_type": "stream",
     "text": [
      "milk\n",
      "고양이가 울어요\n",
      "주인없는 고영희\n"
     ]
    }
   ],
   "source": [
    "class Cat() :\n",
    "    def __init__(mine,name,age,jong):\n",
    "        mine.name2 = name\n",
    "        mine.age2 = age\n",
    "        mine.jong2 = jong\n",
    "        \n",
    "    def crying(self) :\n",
    "        return \"고양이가 울어요\"\n",
    "    \n",
    "    def m(self):\n",
    "        return \"주인없는 고영희\"\n",
    "\n",
    "d_cat = Cat('jerry',3,'cheez')\n",
    "e_cat = Cat('tong',5,'milk') \n",
    "#e_cat 안에 값들 넣어줘야 된다.\n",
    "\n",
    "\n",
    "d_cat.name2\n",
    "d_cat.age2\n",
    "d_cat.jong2\n",
    "\n",
    "e_cat.jong2\n",
    "print(e_cat.jong2)\n",
    "print(d_cat.crying())\n",
    "\n",
    "\n",
    "owner = 0\n",
    "if owner == False:\n",
    "    print(d_cat.m())\n",
    "    \n"
   ]
  },
  {
   "cell_type": "code",
   "execution_count": null,
   "metadata": {},
   "outputs": [],
   "source": []
  }
 ],
 "metadata": {
  "kernelspec": {
   "display_name": "Python 3",
   "language": "python",
   "name": "python3"
  },
  "language_info": {
   "codemirror_mode": {
    "name": "ipython",
    "version": 3
   },
   "file_extension": ".py",
   "mimetype": "text/x-python",
   "name": "python",
   "nbconvert_exporter": "python",
   "pygments_lexer": "ipython3",
   "version": "3.8.5"
  }
 },
 "nbformat": 4,
 "nbformat_minor": 4
}
