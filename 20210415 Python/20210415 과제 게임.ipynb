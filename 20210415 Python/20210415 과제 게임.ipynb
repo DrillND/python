{
 "cells": [
  {
   "cell_type": "code",
   "execution_count": null,
   "metadata": {},
   "outputs": [],
   "source": [
    "\n",
    "class Fighter :\n",
    "    def __init__(self,head,body,arm,leg,submission):\n",
    "        self.head2 = head\n",
    "        self.body2 = body\n",
    "        self.arm2 = arm\n",
    "        self.leg2 = leg\n",
    "        self.submission2 = submission\n",
    "        \n",
    "    def punch(self) :\n",
    "        a = input('어디를 때리시겠습니까? : 1.머리 2.바디 ')\n",
    "        if a == \"1\":\n",
    "            return print(b_fighter.head2 - 10), print(\"안면에 주먹 강타\")\n",
    "            \n",
    "        elif a == \"2\":\n",
    "            return \"바디에 주먹 강타\"\n",
    "        \n",
    "a_fighter = Fighter(100,200,100,100,1)\n",
    "b_fighter = Fighter(200,100,100,100,1) \n",
    "\n",
    "a_fighter.punch()\n",
    "\n",
    "\n",
    "\n",
    "#펀치 1.머리 2.바디\n",
    "#킥 1.머리 2.바디 3.팔 4.다리\n",
    "#테클\n",
    "\n"
   ]
  },
  {
   "cell_type": "code",
   "execution_count": null,
   "metadata": {},
   "outputs": [],
   "source": [
    "class Fighter :\n",
    "    def __init__(self,head,body,arm,leg,submission):\n",
    "        self.head2 = head\n",
    "        self.body2 = body\n",
    "        self.arm2 = arm\n",
    "        self.leg2 = leg\n",
    "        self.submission2 = submission\n",
    "        \n",
    "    def punch(self) :\n",
    "        a = input('어디를 때리시겠습니까? : 1.머리 2.바디 ')\n",
    "        if a == \"1\":\n",
    "            snum = b_fighter.head2 - 10\n",
    "            return f\"{snum}\\n안면에 주먹 강타\"\n",
    "    \n",
    "        elif a == \"2\":\n",
    "            return \"바디에 주먹 강타\"\n",
    "        \n",
    "a_fighter = Fighter(100,200,100,100,1)\n",
    "b_fighter = Fighter(200,100,100,100,1) \n",
    "\n",
    "\n",
    "a = a_fighter.punch()\n",
    "print(a)\n",
    "print(b_fighter.head2)\n",
    "\n",
    "\n",
    "#펀치 1.머리 2.바디\n",
    "#킥 1.머리 2.바디 3.팔 4.다리\n",
    "#테클\n"
   ]
  },
  {
   "cell_type": "code",
   "execution_count": null,
   "metadata": {},
   "outputs": [],
   "source": []
  },
  {
   "cell_type": "code",
   "execution_count": null,
   "metadata": {},
   "outputs": [],
   "source": [
    "#쉬운 연습\n",
    "class Fighter :\n",
    "    def __init__(self,head):\n",
    "        self.head2 = head\n",
    "        \n",
    "    \n",
    "        \n",
    "a = Fighter(100)\n",
    "b = Fighter(200) \n",
    "\n",
    "\n",
    "print(a.head2)\n",
    "\n"
   ]
  },
  {
   "cell_type": "code",
   "execution_count": null,
   "metadata": {},
   "outputs": [
    {
     "name": "stdout",
     "output_type": "stream",
     "text": [
      "포식자 측 1.공격 2.기다림 : 1\n",
      "9\n",
      "희생자 측 1.방어 2.기다림 : 2\n",
      "9\n",
      "포식자 측 1.공격 2.기다림 : 1\n",
      "8\n",
      "희생자 측 1.방어 2.기다림 : 2\n",
      "8\n"
     ]
    }
   ],
   "source": [
    "class Predator:\n",
    "    def __init__(self,Turn):\n",
    "        self.Turn2 = Turn\n",
    "        \n",
    "class Vic :\n",
    "    def __init__(self,HP):\n",
    "        self.HP2 = HP\n",
    "        \n",
    "V=Vic(10)\n",
    "\n",
    "\n",
    "class Action :\n",
    "    def __init__(self,Attack,Block,Wait):\n",
    "        self.Punch2=Attack\n",
    "        self.Block2=Block\n",
    "        self.Wait2=Wait\n",
    "\n",
    "P=Predator(10)\n",
    "\n",
    "while True :\n",
    "    a=input(\"포식자 측 1.공격 2.기다림 : \")\n",
    "\n",
    "    if a == \"1\" :\n",
    "        P.Turn2 = P.Turn2 - 1\n",
    "        print(P.Turn2)\n",
    "    if P.Turn2 == 0 :\n",
    "        break\n",
    "    \n",
    "    b=input(\"희생자 측 1.방어 2.기다림 : \")\n",
    "    \n",
    "    if b == \"1\" and a == \"1\" :\n",
    "        print(V.HP2)\n",
    "    elif a==\"1\" and b==\"2\" :\n",
    "        V.HP2 = V.HP2 -1\n",
    "        print(V.HP2)"
   ]
  },
  {
   "cell_type": "code",
   "execution_count": null,
   "metadata": {},
   "outputs": [],
   "source": []
  }
 ],
 "metadata": {
  "kernelspec": {
   "display_name": "Python 3",
   "language": "python",
   "name": "python3"
  },
  "language_info": {
   "codemirror_mode": {
    "name": "ipython",
    "version": 3
   },
   "file_extension": ".py",
   "mimetype": "text/x-python",
   "name": "python",
   "nbconvert_exporter": "python",
   "pygments_lexer": "ipython3",
   "version": "3.8.5"
  }
 },
 "nbformat": 4,
 "nbformat_minor": 4
}
