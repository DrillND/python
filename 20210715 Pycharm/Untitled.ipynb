{
 "cells": [
  {
   "cell_type": "code",
   "execution_count": 14,
   "metadata": {},
   "outputs": [
    {
     "name": "stdout",
     "output_type": "stream",
     "text": [
      "[<th scope=\"row\">서울</th>]\n",
      "[<th scope=\"row\">부산</th>]\n",
      "[<th scope=\"row\">대구</th>]\n",
      "[<th scope=\"row\">인천</th>]\n",
      "[<th scope=\"row\">광주</th>]\n",
      "[<th scope=\"row\">대전</th>]\n",
      "[<th scope=\"row\">울산</th>]\n",
      "[<th scope=\"row\">세종</th>]\n",
      "[<th scope=\"row\">경기</th>]\n",
      "[<th scope=\"row\">강원</th>]\n",
      "[<th scope=\"row\">충북</th>]\n",
      "[<th scope=\"row\">충남</th>]\n",
      "[<th scope=\"row\">전북</th>]\n",
      "[<th scope=\"row\">전남</th>]\n",
      "[<th scope=\"row\">경북</th>]\n",
      "[<th scope=\"row\">경남</th>]\n",
      "[<th scope=\"row\">제주</th>]\n",
      "[<th scope=\"row\">검역</th>]\n"
     ]
    }
   ],
   "source": [
    "import requests \n",
    "from bs4 import BeautifulSoup \n",
    "#html에서 원하는 텍스트 데이터, 이전에 CMD에서 설치를 해야함 \n",
    "\n",
    "\n",
    "url = \"http://ncov.mohw.go.kr/bdBoardList_Real.do?brdId=1&brdGubun=13&ncvContSeq=&contSeq=&board_id=&gubun=\"\n",
    "htmlText = requests.get(url).text\n",
    "\n",
    "bsoup = BeautifulSoup(htmlText,\"html.parser\") #파서가 뭐지? \n",
    "btab = bsoup.find(\"table\",{\"class\":\"num midsize\"})\n",
    "btrs = btab.find(\"tbody\").find_all(\"tr\")\n",
    "\n",
    "#칼럼명\n",
    "col1 = btab.find(\"tr\").find(\"th\") #시도명\n",
    "col2 = btab.find_all(\"tr\")[1].find_all(\"th\") #시도명 외 칼럼명\n",
    "\n",
    "list = [] #모든 정보 리스트\n",
    "regionlist = [] #지역 리스트\n",
    "\n",
    "for i in btrs[1:] :\n",
    "    dic = {}\n",
    "    region = i.find_all(\"th\")\n",
    "    num = i.find_all(\"td\")\n",
    "    dic['region'] = region[0].text\n",
    "    dic['num1'] = num[0].text\n",
    "    dic['num2'] = num[1].text\n",
    "    dic['num3'] = num[2].text\n",
    "    dic['num4'] = num[3].text\n",
    "    dic['num5'] = num[4].text\n",
    "    dic['num6'] = num[5].text\n",
    "    dic['num7'] = num[6].text\n",
    "    dic['num8'] = num[7].text\n",
    "    #dic['station'] = tds[0]\n",
    "    list.append(dic)\n",
    "    regionlist.append(region)\n",
    "    print(region)\n"
   ]
  },
  {
   "cell_type": "code",
   "execution_count": 25,
   "metadata": {},
   "outputs": [
    {
     "data": {
      "text/plain": [
       "<tr><th scope=\"row\">서울</th><td class=\"number\" headers=\"status_level l_type1\">520</td><td class=\"number\" headers=\"status_level l_type2\">518</td><td class=\"number\" headers=\"status_level l_type3\">2</td><td class=\"number\" headers=\"status_con s_type1\">56,573</td><td class=\"number\" headers=\"status_con s_type2\">6,133</td><td class=\"number\" headers=\"status_con s_type3\">49,915</td><td class=\"number\" headers=\"status_con s_type4\">525</td><td class=\"number\" headers=\"status_con s_type5\">585.13</td></tr>"
      ]
     },
     "execution_count": 25,
     "metadata": {},
     "output_type": "execute_result"
    }
   ],
   "source": [
    "btrs[1]"
   ]
  },
  {
   "cell_type": "code",
   "execution_count": 22,
   "metadata": {},
   "outputs": [
    {
     "data": {
      "text/plain": [
       "[<th id=\"l_type1\" scope=\"col\">합계</th>,\n",
       " <th id=\"l_type2\" scope=\"col\">국내<br/>발생</th>,\n",
       " <th id=\"l_type3\" scope=\"col\">해외<br/>유입</th>,\n",
       " <th id=\"s_type1\" scope=\"col\">확진<br/>환자</th>,\n",
       " <th id=\"s_type2\" scope=\"col\">격리<br/>중</th>,\n",
       " <th id=\"s_type3\" scope=\"col\">격리<br/>해제</th>,\n",
       " <th id=\"s_type4\" scope=\"col\">사망자</th>,\n",
       " <th id=\"s_type5\" scope=\"col\">발생률<br/><span class=\"txt_ntc_bold\"> (*)</span></th>]"
      ]
     },
     "execution_count": 22,
     "metadata": {},
     "output_type": "execute_result"
    }
   ],
   "source": [
    "col2"
   ]
  },
  {
   "cell_type": "code",
   "execution_count": null,
   "metadata": {},
   "outputs": [],
   "source": []
  }
 ],
 "metadata": {
  "kernelspec": {
   "display_name": "Python 3",
   "language": "python",
   "name": "python3"
  },
  "language_info": {
   "codemirror_mode": {
    "name": "ipython",
    "version": 3
   },
   "file_extension": ".py",
   "mimetype": "text/x-python",
   "name": "python",
   "nbconvert_exporter": "python",
   "pygments_lexer": "ipython3",
   "version": "3.8.5"
  }
 },
 "nbformat": 4,
 "nbformat_minor": 4
}
