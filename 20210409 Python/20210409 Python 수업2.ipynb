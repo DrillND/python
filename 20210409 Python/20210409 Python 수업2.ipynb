{
 "cells": [
  {
   "cell_type": "code",
   "execution_count": null,
   "metadata": {},
   "outputs": [],
   "source": [
    "a= list('cat')\n",
    "print(a)\n",
    "\n",
    "ta = ['a','b','c']\n",
    "ta.append('d')\n",
    "ta.append('e')\n",
    "print(ta)"
   ]
  },
  {
   "cell_type": "code",
   "execution_count": null,
   "metadata": {},
   "outputs": [],
   "source": [
    "tu1 = ('x','z','c','d','e','f','g','h','i','j','k','l','m','n','o','p','q','r','s','t','u','v','w','a')\n",
    "tu2 = ('z','a')\n",
    "tu1 <= tu2"
   ]
  },
  {
   "cell_type": "code",
   "execution_count": 15,
   "metadata": {},
   "outputs": [
    {
     "name": "stdout",
     "output_type": "stream",
     "text": [
      "['1', '2', '3', '4', '5', '6', ['a', 'b'], 'h']\n",
      "b\n"
     ]
    }
   ],
   "source": [
    "t = ['1','2','3','4','5','6']\n",
    "t.append(['a','b'])\n",
    "t.insert(7,'h')\n",
    "print(t)\n",
    "a=t[6][1]\n",
    "print(a)"
   ]
  },
  {
   "cell_type": "code",
   "execution_count": 20,
   "metadata": {},
   "outputs": [
    {
     "name": "stdout",
     "output_type": "stream",
     "text": [
      "['a', 'b', 'c']\n"
     ]
    }
   ],
   "source": [
    "z = ['a','b','c','d']\n",
    "z.pop()\n",
    "\n",
    "print(z)"
   ]
  },
  {
   "cell_type": "code",
   "execution_count": 28,
   "metadata": {},
   "outputs": [
    {
     "name": "stdout",
     "output_type": "stream",
     "text": [
      "s*c*o\n",
      "['s', 'c', 'o']\n",
      "True\n"
     ]
    }
   ],
   "source": [
    "jwatch = ['s','c','o']\n",
    "s = '*'\n",
    "n=s.join(jwatch)\n",
    "print(n)\n",
    "t=n.split(s)\n",
    "print(t)\n",
    "print(t==jwatch)"
   ]
  },
  {
   "cell_type": "code",
   "execution_count": 35,
   "metadata": {},
   "outputs": [
    {
     "name": "stdout",
     "output_type": "stream",
     "text": [
      "['a', 'b', 'c']\n",
      "['a', 'b', 'c']\n"
     ]
    }
   ],
   "source": [
    "casio = ['c','a','b']\n",
    "b=sorted(casio)\n",
    "print(b)\n",
    "a=casio.sort()\n",
    "print(casio)\n"
   ]
  },
  {
   "cell_type": "code",
   "execution_count": 40,
   "metadata": {},
   "outputs": [
    {
     "name": "stdout",
     "output_type": "stream",
     "text": [
      "['benz', 'audi']\n"
     ]
    }
   ],
   "source": [
    "dok3 = ['bmw','benz','audi']\n",
    "hundai = dok3.copy()\n",
    "kia=dok3[1:]\n",
    "print(kia)"
   ]
  },
  {
   "cell_type": "code",
   "execution_count": 42,
   "metadata": {},
   "outputs": [
    {
     "data": {
      "text/plain": [
       "[1, 2, 3, 4, 5]"
      ]
     },
     "execution_count": 42,
     "metadata": {},
     "output_type": "execute_result"
    }
   ],
   "source": [
    "#리스트 컨프리헨션\n",
    "number_list =[]\n",
    "number_list.append(1)\n",
    "number_list.append(2)\n",
    "number_list.append(3)\n",
    "number_list.append(4)\n",
    "number_list.append(5)\n",
    "number_list"
   ]
  },
  {
   "cell_type": "code",
   "execution_count": null,
   "metadata": {},
   "outputs": [],
   "source": []
  }
 ],
 "metadata": {
  "kernelspec": {
   "display_name": "Python 3",
   "language": "python",
   "name": "python3"
  },
  "language_info": {
   "codemirror_mode": {
    "name": "ipython",
    "version": 3
   },
   "file_extension": ".py",
   "mimetype": "text/x-python",
   "name": "python",
   "nbconvert_exporter": "python",
   "pygments_lexer": "ipython3",
   "version": "3.8.5"
  }
 },
 "nbformat": 4,
 "nbformat_minor": 4
}
