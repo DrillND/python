{
  "nbformat": 4,
  "nbformat_minor": 0,
  "metadata": {
    "colab": {
      "name": "Untitled0.ipynb",
      "provenance": []
    },
    "kernelspec": {
      "name": "python3",
      "display_name": "Python 3"
    },
    "language_info": {
      "name": "python"
    }
  },
  "cells": [
    {
      "cell_type": "code",
      "metadata": {
        "colab": {
          "base_uri": "https://localhost:8080/"
        },
        "id": "B-ggb8yG4sOy",
        "outputId": "b8083a3b-9cb7-4e04-8e22-e6c543cd90f5"
      },
      "source": [
        "t={}\n",
        "lists = [\"a\",\"a\",\"b\",'apple','w','wf']\n",
        "print(type(lists))\n",
        "for i in lists:\n",
        "    try: t[i] += 1\n",
        "    except: t[i]=1\n",
        "print(t)"
      ],
      "execution_count": 28,
      "outputs": [
        {
          "output_type": "stream",
          "text": [
            "<class 'list'>\n",
            "{'a': 2, 'b': 1, 'apple': 1, 'w': 1, 'wf': 1}\n"
          ],
          "name": "stdout"
        }
      ]
    },
    {
      "cell_type": "code",
      "metadata": {
        "id": "J-E0EK6WGAKU"
      },
      "source": [
        "'''\n",
        "과제\n",
        "\n",
        "1. 3번째 문제 다시 불러오기(로제 'On the ground' 가사에서 특정 단어 카운트)\n",
        "2. 단어로 split 된 것 중에서 많이 나온 순서대로 10개를 찾습니다.\n",
        "3. 10개의 단어와 그 단어의 출현빈도를 리스트로 정리합니다.\n",
        "\n",
        "예시)\n",
        "a = ['on', 'the', 'ground']\n",
        "b = [100, 90, 80]"
      ],
      "execution_count": null,
      "outputs": []
    },
    {
      "cell_type": "code",
      "metadata": {
        "colab": {
          "base_uri": "https://localhost:8080/"
        },
        "id": "o5QefWb6GkI4",
        "outputId": "87a1621c-b31e-46fc-845a-3c382b683b89"
      },
      "source": [
        "rose = '''My life's been magic, seems fantastic\n",
        "I used to have a hole in the wall with a mattress\n",
        "Funny when you want it, suddenly you have it\n",
        "You find out that your gold's just plastic\n",
        "Every day, every night\n",
        "I've been thinkin' back on you and I\n",
        "Every day, every night\n",
        "I worked my whole life\n",
        "Just to get right, just to be like\n",
        "\"Look at me, I'm never coming down\"\n",
        "I worked my whole life\n",
        "Just to get high, just to realize\n",
        "Everything I need is on the\n",
        "Everything I need is on the ground\n",
        "On the ground\n",
        "Everything I need is on the ground\n",
        "(Nah, but they don't hear me though)\n",
        "(Yeah, what goes up must come down)\n",
        "(Nah, but they don't hear me though)\n",
        "(You're runnin' out of time)\n",
        "My world's been hectic, seems electric\n",
        "But I've been waking up with your voice in my head\n",
        "And I'm tryna send a message and let you know that\n",
        "Every single minute I'm without you, I regret it\n",
        "Every day, every night\n",
        "I've been thinkin' back on you and I\n",
        "Every day, every night\n",
        "I worked my whole life\n",
        "Just to get right, just to be like\n",
        "\"Look at me, I'm never coming down\"\n",
        "I worked my whole life\n",
        "Just to get high, just to realize\n",
        "Everything I need is on the\n",
        "Everything I need is on the ground\n",
        "On the ground\n",
        "Everything I need is on the ground\n",
        "(Nah, but they don't hear me though)\n",
        "(Yeah, what goes up must come down)\n",
        "(Nah, but they don't hear me though)\n",
        "(You're runnin' out of time)\n",
        "I'm way up in the clouds\n",
        "And they say I've made it now\n",
        "But I figured it out\n",
        "Everything I need is on the ground (yeah, yeah)\n",
        "Just drove by your house (just drove by your house)\n",
        "So far from you now (so far from you now)\n",
        "But I figured it out\n",
        "Everything I need is on the\n",
        "Everything I need is on the ground\n",
        "On the ground\n",
        "Everything I need is on the ground\n",
        "(Nah, but they don't hear me though)\n",
        "On the ground\n",
        "(Nah, but they don't hear me though)\n",
        "Everything I need is on the ground'''\n",
        "\n",
        "b = rose.replace('\\n', ' ')\n",
        "c = b.split(' ')\n",
        "#print(c)\n",
        "t={}\n",
        "for i in c:\n",
        "    try: t[i] += 1\n",
        "    except: t[i]=1\n",
        "\n",
        "ppp= sorted(t.items(), key=lambda x:x[1], reverse=True)\n",
        "pppp = ppp[0:10]\n",
        "print(pppp)\n",
        "\n",
        "wlist=[]\n",
        "nlist=[]\n",
        "for i in range(0,10):\n",
        "  wlist.append(pppp[i][0])\n",
        "  nlist.append(pppp[i][1])\n",
        "\n",
        "print(wlist)\n",
        "print(nlist)"
      ],
      "execution_count": 97,
      "outputs": [
        {
          "output_type": "stream",
          "text": [
            "[('I', 21), ('the', 17), ('on', 13), ('ground', 12), ('Everything', 11), ('need', 11), ('is', 11), ('to', 9), ('you', 7), ('they', 7)]\n",
            "['I', 'the', 'on', 'ground', 'Everything', 'need', 'is', 'to', 'you', 'they']\n",
            "[21, 17, 13, 12, 11, 11, 11, 9, 7, 7]\n"
          ],
          "name": "stdout"
        }
      ]
    }
  ]
}