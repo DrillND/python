{
 "cells": [
  {
   "cell_type": "code",
   "execution_count": null,
   "metadata": {},
   "outputs": [],
   "source": [
    "#튜플() 딕셔너리{} 리스트[]\n",
    "empty123_tuple = ()\n",
    "print(empty123_tuple)\n",
    "print(type(empty123_tuple))\n",
    "\n",
    "print(\"\\n\")\n",
    "\n",
    "one_marx = 'Groucho'\n",
    "print(one_marx)\n",
    "one_marx = ('Groucho',)\n",
    "print(one_marx)\n"
   ]
  },
  {
   "cell_type": "code",
   "execution_count": null,
   "metadata": {},
   "outputs": [],
   "source": [
    "tuple = ()\n",
    "mytuple = ('watch','automata','quartz')\n",
    "print(mytuple)\n",
    "print(type(mytuple))"
   ]
  },
  {
   "cell_type": "code",
   "execution_count": null,
   "metadata": {},
   "outputs": [],
   "source": [
    "tuple = ()\n",
    "mytuple = ('watch','automata','quartz')\n",
    "a,b,c = mytuple\n",
    "print((a,b))"
   ]
  },
  {
   "cell_type": "code",
   "execution_count": null,
   "metadata": {},
   "outputs": [],
   "source": [
    "password = 'swordfish'\n",
    "icecream = 'tuttifu'\n",
    "password,icecream = icecream,password\n",
    "print(type(password))\n",
    "print(password)"
   ]
  },
  {
   "cell_type": "code",
   "execution_count": null,
   "metadata": {},
   "outputs": [],
   "source": [
    "\n",
    "weekdays=('1','2','3','4','5','6','7')\n",
    "a,b,c,d,e,f,g = weekdays\n",
    "print(a)\n",
    "\n",
    "list(weekdays)"
   ]
  },
  {
   "cell_type": "code",
   "execution_count": null,
   "metadata": {},
   "outputs": [],
   "source": [
    "weekdays=('1','2','3','7')\n",
    "weekdays2=('0','5','6')\n",
    "weekdays+weekdays2\n",
    "print(weekdays<weekdays2)\n",
    "print(id(weekdays))\n",
    "print(id(weekdays2))\n",
    "#for i in weekdays:\n",
    "    #print(i)"
   ]
  },
  {
   "cell_type": "code",
   "execution_count": null,
   "metadata": {},
   "outputs": [],
   "source": [
    "tu1 = ('x','z','c','d','e','f','g','h','i','j','k','l','m','n','o','p','q','r','s','t','u','v','w','a')\n",
    "tu2 = ('x',)\n",
    "tu1 = tu2"
   ]
  },
  {
   "cell_type": "code",
   "execution_count": null,
   "metadata": {},
   "outputs": [],
   "source": [
    "tu=('cat,')\n",
    "li = list(tu)\n",
    "print= (li)"
   ]
  },
  {
   "cell_type": "code",
   "execution_count": null,
   "metadata": {},
   "outputs": [],
   "source": [
    "lista = list('2')\n",
    "listb = ['3']\n",
    "print(type(listb))"
   ]
  },
  {
   "cell_type": "code",
   "execution_count": null,
   "metadata": {},
   "outputs": [],
   "source": [
    "ta = ('a','b')\n",
    "ta[0]\n",
    "la = ['a','b','c']\n",
    "\n",
    "print(type(ta[0]))"
   ]
  },
  {
   "cell_type": "code",
   "execution_count": null,
   "metadata": {},
   "outputs": [],
   "source": [
    "a = '9/8/2004'\n",
    "b=a.split('/')\n",
    "print(b)\n",
    "type(b)"
   ]
  },
  {
   "cell_type": "code",
   "execution_count": null,
   "metadata": {},
   "outputs": [],
   "source": [
    "tu = ('a','b','c')\n",
    "a=tu[2]\n",
    "print(type(a))\n",
    "print(a)"
   ]
  },
  {
   "cell_type": "code",
   "execution_count": null,
   "metadata": {},
   "outputs": [],
   "source": [
    "li = ['a','b','c','d']\n",
    "print(li[0:2])\n",
    "print(li[::2])\n"
   ]
  }
 ],
 "metadata": {
  "kernelspec": {
   "display_name": "Python 3",
   "language": "python",
   "name": "python3"
  },
  "language_info": {
   "codemirror_mode": {
    "name": "ipython",
    "version": 3
   },
   "file_extension": ".py",
   "mimetype": "text/x-python",
   "name": "python",
   "nbconvert_exporter": "python",
   "pygments_lexer": "ipython3",
   "version": "3.8.5"
  }
 },
 "nbformat": 4,
 "nbformat_minor": 4
}
