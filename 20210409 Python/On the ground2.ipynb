{
 "cells": [
  {
   "cell_type": "code",
   "execution_count": 41,
   "metadata": {},
   "outputs": [
    {
     "name": "stdout",
     "output_type": "stream",
     "text": [
      "[('I', 21), ('the', 17), ('on', 13), ('ground', 12), ('Everything', 11), ('need', 11), ('is', 11), ('to', 9), ('you', 7), ('they', 7)]\n",
      "[['I', 21], ['the', 17], ['on', 13], ['ground', 12], ['Everything', 11], ['need', 11], ['is', 11], ['to', 9], ['you', 7], ['they', 7]]\n",
      "7\n"
     ]
    },
    {
     "ename": "TypeError",
     "evalue": "list indices must be integers or slices, not tuple",
     "output_type": "error",
     "traceback": [
      "\u001b[1;31m---------------------------------------------------------------------------\u001b[0m",
      "\u001b[1;31mTypeError\u001b[0m                                 Traceback (most recent call last)",
      "\u001b[1;32m<ipython-input-41-8edd2bfaf583>\u001b[0m in \u001b[0;36m<module>\u001b[1;34m\u001b[0m\n\u001b[0;32m     81\u001b[0m \u001b[1;33m\u001b[0m\u001b[0m\n\u001b[0;32m     82\u001b[0m \u001b[1;32mfor\u001b[0m \u001b[0mi\u001b[0m \u001b[1;32min\u001b[0m \u001b[0mfinallist\u001b[0m\u001b[1;33m:\u001b[0m\u001b[1;33m\u001b[0m\u001b[1;33m\u001b[0m\u001b[0m\n\u001b[1;32m---> 83\u001b[1;33m     \u001b[0mm_list\u001b[0m\u001b[1;33m.\u001b[0m\u001b[0mappend\u001b[0m\u001b[1;33m(\u001b[0m\u001b[0mfinallist\u001b[0m\u001b[1;33m[\u001b[0m\u001b[0mi\u001b[0m\u001b[1;33m]\u001b[0m\u001b[1;33m[\u001b[0m\u001b[1;36m0\u001b[0m\u001b[1;33m]\u001b[0m\u001b[1;33m)\u001b[0m\u001b[1;33m\u001b[0m\u001b[1;33m\u001b[0m\u001b[0m\n\u001b[0m\u001b[0;32m     84\u001b[0m \u001b[0mprint\u001b[0m\u001b[1;33m(\u001b[0m\u001b[0mm_list\u001b[0m\u001b[1;33m)\u001b[0m\u001b[1;33m\u001b[0m\u001b[1;33m\u001b[0m\u001b[0m\n\u001b[0;32m     85\u001b[0m \u001b[1;33m\u001b[0m\u001b[0m\n",
      "\u001b[1;31mTypeError\u001b[0m: list indices must be integers or slices, not tuple"
     ]
    }
   ],
   "source": [
    "a = '''My life's been magic, seems fantastic\n",
    "I used to have a hole in the wall with a mattress\n",
    "Funny when you want it, suddenly you have it\n",
    "You find out that your gold's just plastic\n",
    "Every day, every night\n",
    "I've been thinkin' back on you and I\n",
    "Every day, every night\n",
    "I worked my whole life\n",
    "Just to get right, just to be like\n",
    "\"Look at me, I'm never coming down\"\n",
    "I worked my whole life\n",
    "Just to get high, just to realize\n",
    "Everything I need is on the\n",
    "Everything I need is on the ground\n",
    "On the ground\n",
    "Everything I need is on the ground\n",
    "(Nah, but they don't hear me though)\n",
    "(Yeah, what goes up must come down)\n",
    "(Nah, but they don't hear me though)\n",
    "(You're runnin' out of time)\n",
    "My world's been hectic, seems electric\n",
    "But I've been waking up with your voice in my head\n",
    "And I'm tryna send a message and let you know that\n",
    "Every single minute I'm without you, I regret it\n",
    "Every day, every night\n",
    "I've been thinkin' back on you and I\n",
    "Every day, every night\n",
    "I worked my whole life\n",
    "Just to get right, just to be like\n",
    "\"Look at me, I'm never coming down\"\n",
    "I worked my whole life\n",
    "Just to get high, just to realize\n",
    "Everything I need is on the\n",
    "Everything I need is on the ground\n",
    "On the ground\n",
    "Everything I need is on the ground\n",
    "(Nah, but they don't hear me though)\n",
    "(Yeah, what goes up must come down)\n",
    "(Nah, but they don't hear me though)\n",
    "(You're runnin' out of time)\n",
    "I'm way up in the clouds\n",
    "And they say I've made it now\n",
    "But I figured it out\n",
    "Everything I need is on the ground (yeah, yeah)\n",
    "Just drove by your house (just drove by your house)\n",
    "So far from you now (so far from you now)\n",
    "But I figured it out\n",
    "Everything I need is on the\n",
    "Everything I need is on the ground\n",
    "On the ground\n",
    "Everything I need is on the ground\n",
    "(Nah, but they don't hear me though)\n",
    "On the ground\n",
    "(Nah, but they don't hear me though)\n",
    "Everything I need is on the ground'''\n",
    "\n",
    "b = a.replace('\\n', ' ')\n",
    "c = b.split(' ')\n",
    "#print(c)\n",
    "#print(type(c))\n",
    "\n",
    "dic={}\n",
    "for i in c:\n",
    "    try: dic[i] +=1\n",
    "    except: dic[i]=1\n",
    "\n",
    "\n",
    "yy=sorted(dic.items(), key=lambda x : x[1], reverse=True)\n",
    "\n",
    "\n",
    "finallist=(yy[0:10])\n",
    "lsta = []\n",
    "for i in range(0, len(finallist)) :\n",
    "    lsta.append(list(finallist[i]))\n",
    "    \n",
    "print(finallist)\n",
    "print(lsta)\n",
    "print(finallist[9][1])\n",
    "\n",
    "m_list=[]\n",
    "\n",
    "for i in finallist:\n",
    "    m_list.append(finallist[i][0])\n",
    "print(m_list)\n",
    "\n",
    "#딕셔너리 누적값\n",
    "#리플레이스 나눠서 "
   ]
  },
  {
   "cell_type": "code",
   "execution_count": 5,
   "metadata": {},
   "outputs": [
    {
     "name": "stdout",
     "output_type": "stream",
     "text": [
      "<class 'list'>\n",
      "{'a': 2, 'b': 1, 'apple': 1, 'w': 1, 'wf': 1}\n"
     ]
    }
   ],
   "source": [
    "count={}\n",
    "lists = [\"a\",\"a\",\"b\",'apple','w','wf']\n",
    "print(type(lists))\n",
    "for i in lists:\n",
    "    try: count[i] += 1\n",
    "    except: count[i]=1\n",
    "print(count)"
   ]
  },
  {
   "cell_type": "code",
   "execution_count": 42,
   "metadata": {},
   "outputs": [
    {
     "name": "stdout",
     "output_type": "stream",
     "text": [
      "['My', \"life's\", 'been', 'magic,', 'seems', 'fantastic', 'I', 'used', 'to', 'have', 'a', 'hole', 'in', 'the', 'wall', 'with', 'a', 'mattress', 'Funny', 'when', 'you', 'want', 'it,', 'suddenly', 'you', 'have', 'it', 'You', 'find', 'out', 'that', 'your', \"gold's\", 'just', 'plastic', 'Every', 'day,', 'every', 'night', \"I've\", 'been', \"thinkin'\", 'back', 'on', 'you', 'and', 'I', 'Every', 'day,', 'every', 'night', 'I', 'worked', 'my', 'whole', 'life', 'Just', 'to', 'get', 'right,', 'just', 'to', 'be', 'like', '\"Look', 'at', 'me,', \"I'm\", 'never', 'coming', 'down\"', 'I', 'worked', 'my', 'whole', 'life', 'Just', 'to', 'get', 'high,', 'just', 'to', 'realize', 'Everything', 'I', 'need', 'is', 'on', 'the', 'Everything', 'I', 'need', 'is', 'on', 'the', 'ground', 'On', 'the', 'ground', 'Everything', 'I', 'need', 'is', 'on', 'the', 'ground', '(Nah,', 'but', 'they', \"don't\", 'hear', 'me', 'though)', '(Yeah,', 'what', 'goes', 'up', 'must', 'come', 'down)', '(Nah,', 'but', 'they', \"don't\", 'hear', 'me', 'though)', \"(You're\", \"runnin'\", 'out', 'of', 'time)', 'My', \"world's\", 'been', 'hectic,', 'seems', 'electric', 'But', \"I've\", 'been', 'waking', 'up', 'with', 'your', 'voice', 'in', 'my', 'head', 'And', \"I'm\", 'tryna', 'send', 'a', 'message', 'and', 'let', 'you', 'know', 'that', 'Every', 'single', 'minute', \"I'm\", 'without', 'you,', 'I', 'regret', 'it', 'Every', 'day,', 'every', 'night', \"I've\", 'been', \"thinkin'\", 'back', 'on', 'you', 'and', 'I', 'Every', 'day,', 'every', 'night', 'I', 'worked', 'my', 'whole', 'life', 'Just', 'to', 'get', 'right,', 'just', 'to', 'be', 'like', '\"Look', 'at', 'me,', \"I'm\", 'never', 'coming', 'down\"', 'I', 'worked', 'my', 'whole', 'life', 'Just', 'to', 'get', 'high,', 'just', 'to', 'realize', 'Everything', 'I', 'need', 'is', 'on', 'the', 'Everything', 'I', 'need', 'is', 'on', 'the', 'ground', 'On', 'the', 'ground', 'Everything', 'I', 'need', 'is', 'on', 'the', 'ground', '(Nah,', 'but', 'they', \"don't\", 'hear', 'me', 'though)', '(Yeah,', 'what', 'goes', 'up', 'must', 'come', 'down)', '(Nah,', 'but', 'they', \"don't\", 'hear', 'me', 'though)', \"(You're\", \"runnin'\", 'out', 'of', 'time)', \"I'm\", 'way', 'up', 'in', 'the', 'clouds', 'And', 'they', 'say', \"I've\", 'made', 'it', 'now', 'But', 'I', 'figured', 'it', 'out', 'Everything', 'I', 'need', 'is', 'on', 'the', 'ground', '(yeah,', 'yeah)', 'Just', 'drove', 'by', 'your', 'house', '(just', 'drove', 'by', 'your', 'house)', 'So', 'far', 'from', 'you', 'now', '(so', 'far', 'from', 'you', 'now)', 'But', 'I', 'figured', 'it', 'out', 'Everything', 'I', 'need', 'is', 'on', 'the', 'Everything', 'I', 'need', 'is', 'on', 'the', 'ground', 'On', 'the', 'ground', 'Everything', 'I', 'need', 'is', 'on', 'the', 'ground', '(Nah,', 'but', 'they', \"don't\", 'hear', 'me', 'though)', 'On', 'the', 'ground', '(Nah,', 'but', 'they', \"don't\", 'hear', 'me', 'though)', 'Everything', 'I', 'need', 'is', 'on', 'the', 'ground']\n"
     ]
    }
   ],
   "source": [
    "rose = '''My life's been magic, seems fantastic\n",
    "I used to have a hole in the wall with a mattress\n",
    "Funny when you want it, suddenly you have it\n",
    "You find out that your gold's just plastic\n",
    "Every day, every night\n",
    "I've been thinkin' back on you and I\n",
    "Every day, every night\n",
    "I worked my whole life\n",
    "Just to get right, just to be like\n",
    "\"Look at me, I'm never coming down\"\n",
    "I worked my whole life\n",
    "Just to get high, just to realize\n",
    "Everything I need is on the\n",
    "Everything I need is on the ground\n",
    "On the ground\n",
    "Everything I need is on the ground\n",
    "(Nah, but they don't hear me though)\n",
    "(Yeah, what goes up must come down)\n",
    "(Nah, but they don't hear me though)\n",
    "(You're runnin' out of time)\n",
    "My world's been hectic, seems electric\n",
    "But I've been waking up with your voice in my head\n",
    "And I'm tryna send a message and let you know that\n",
    "Every single minute I'm without you, I regret it\n",
    "Every day, every night\n",
    "I've been thinkin' back on you and I\n",
    "Every day, every night\n",
    "I worked my whole life\n",
    "Just to get right, just to be like\n",
    "\"Look at me, I'm never coming down\"\n",
    "I worked my whole life\n",
    "Just to get high, just to realize\n",
    "Everything I need is on the\n",
    "Everything I need is on the ground\n",
    "On the ground\n",
    "Everything I need is on the ground\n",
    "(Nah, but they don't hear me though)\n",
    "(Yeah, what goes up must come down)\n",
    "(Nah, but they don't hear me though)\n",
    "(You're runnin' out of time)\n",
    "I'm way up in the clouds\n",
    "And they say I've made it now\n",
    "But I figured it out\n",
    "Everything I need is on the ground (yeah, yeah)\n",
    "Just drove by your house (just drove by your house)\n",
    "So far from you now (so far from you now)\n",
    "But I figured it out\n",
    "Everything I need is on the\n",
    "Everything I need is on the ground\n",
    "On the ground\n",
    "Everything I need is on the ground\n",
    "(Nah, but they don't hear me though)\n",
    "On the ground\n",
    "(Nah, but they don't hear me though)\n",
    "Everything I need is on the ground'''\n",
    "\n",
    "b = rose.replace('\\n', ' ')\n",
    "c = b.split(' ')\n",
    "print(c)\n",
    "\n",
    "for i in c:\n"
   ]
  },
  {
   "cell_type": "code",
   "execution_count": null,
   "metadata": {},
   "outputs": [],
   "source": []
  }
 ],
 "metadata": {
  "kernelspec": {
   "display_name": "Python 3",
   "language": "python",
   "name": "python3"
  },
  "language_info": {
   "codemirror_mode": {
    "name": "ipython",
    "version": 3
   },
   "file_extension": ".py",
   "mimetype": "text/x-python",
   "name": "python",
   "nbconvert_exporter": "python",
   "pygments_lexer": "ipython3",
   "version": "3.8.5"
  }
 },
 "nbformat": 4,
 "nbformat_minor": 4
}
