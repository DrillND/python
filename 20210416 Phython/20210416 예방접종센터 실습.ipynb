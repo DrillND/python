{
 "cells": [
  {
   "cell_type": "code",
   "execution_count": 58,
   "metadata": {},
   "outputs": [
    {
     "name": "stdout",
     "output_type": "stream",
     "text": [
      "서울특별시 센터 갯수 : 26 \n",
      "충청남도 센터 갯수 : 10 \n",
      "광주광역시 센터 갯수 : 6 \n",
      "경상남도 센터 : 18\n"
     ]
    }
   ],
   "source": [
    "import csv\n",
    "f = open('210416.csv', encoding = 'cp949') #같은 파일이 아니라면 경로를 써야된다.\n",
    "data1 = csv.reader(f)\n",
    "\n",
    "header = next(data1)\n",
    "\n",
    "#for i in data1:\n",
    "    #print(i)\n",
    "\n",
    "count1=0\n",
    "count2=0\n",
    "count3=0\n",
    "count4=0\n",
    "count5=0\n",
    "\n",
    "for i in data1:\n",
    "    a=i[6].split(' ')\n",
    "    #b=i[6]\n",
    "    #print(a[0])\n",
    "    if a[0] == \"서울특별시\":\n",
    "        count1+=1\n",
    "    elif a[0] == \"충청남도\":\n",
    "        count2+=1\n",
    "    elif a[0] == \"광주광역시\":\n",
    "        count3+=1\n",
    "    elif a[0] == \"경상남도\":\n",
    "        count4+=1\n",
    "print(\"서울특별시 센터 갯수 : %d \" %count1)\n",
    "print(\"충청남도 센터 갯수 : %d \" %count2)\n",
    "print(\"광주광역시 센터 갯수 : %d \"%count3)\n",
    "print(\"경상남도 센터 : %d\" %count4)\n",
    "f.close()"
   ]
  },
  {
   "cell_type": "code",
   "execution_count": 4,
   "metadata": {},
   "outputs": [
    {
     "name": "stdout",
     "output_type": "stream",
     "text": [
      "['서울특별시', '충청남도', '광주광역시', '경상남도', '대구시', '부산', '인천광역시', '대전광역시', '울산시', '세종특별자치시', '경기도', '강원도', '충청북도', '충남', '전주시', '전남', '경북', '경남', '제주시', '부산광역시', '울산광역시', '전라북도', '전라남도', '대구광역시', '경기', '강원', '경상북도'] \n",
      "\n"
     ]
    }
   ],
   "source": [
    "import csv\n",
    "f = open('210416.csv', encoding = 'cp949') #같은 파일이 아니라면 경로를 써야된다.\n",
    "data1 = csv.reader(f)\n",
    "\n",
    "header = next(data1)\n",
    "\n",
    "\n",
    "\n",
    "ttt=[]\n",
    "for i in data1:\n",
    "    a=i[6].split(' ')\n",
    "    ttt.append(a[0])\n",
    "\n",
    "\n",
    "ttt2=[]\n",
    "for i in ttt:\n",
    "    if i not in ttt2:\n",
    "        ttt2.append(i)\n",
    "    \n",
    "print(ttt2,\"\\n\")\n",
    "\n",
    "\n",
    "f.close()"
   ]
  },
  {
   "cell_type": "code",
   "execution_count": 83,
   "metadata": {},
   "outputs": [
    {
     "name": "stdout",
     "output_type": "stream",
     "text": [
      "['경상남도', '경상남도', '경상남도', '경상남도', '경상남도', '경상남도', '경상남도', '경상남도', '경상남도', '경상남도', '경상남도', '경상남도', '경상남도', '경상남도', '경상남도', '경상남도', '경상남도', '경상남도', '경상남도', '경상남도', '경상남도', '경상남도', '경상남도', '경상남도', '경상남도', '경상남도', '경상남도', '경상남도', '경상남도', '경상남도', '경상남도', '경상남도', '경상남도', '경상남도', '경상남도', '경상남도', '경상남도', '경상남도', '경상남도', '경상남도', '경상남도', '경상남도', '경상남도', '경상남도', '경상남도', '경상남도', '경상남도', '경상남도', '경상남도', '경상남도', '경상남도', '경상남도', '경상남도', '경상남도', '경상남도', '경상남도', '경상남도', '경상남도', '경상남도', '경상남도', '경상남도', '경상남도', '경상남도', '경상남도', '경상남도', '경상남도', '경상남도', '경상남도', '경상남도', '경상남도', '경상남도', '경상남도', '경상남도', '경상남도', '경상남도', '경상남도', '경상남도', '경상남도', '경상남도', '경상남도', '경상남도', '경상남도', '경상남도', '경상남도', '경상남도', '경상남도', '경상남도', '경상남도', '경상남도', '경상남도', '경상남도', '경상남도', '경상남도', '경상남도', '경상남도', '경상남도', '경상남도', '경상남도', '경상남도', '경상남도', '경상남도', '경상남도', '경상남도', '경상남도', '경상남도', '경상남도', '경상남도', '경상남도', '경상남도', '경상남도', '경상남도', '경상남도', '경상남도', '경상남도', '경상남도', '경상남도', '경상남도', '경상남도', '경상남도', '경상남도', '경상남도', '경상남도', '경상남도', '경상남도', '경상남도', '경상남도', '경상남도', '경상남도', '경상남도', '경상남도', '경상남도', '경상남도', '경상남도', '경상남도', '경상남도', '경상남도', '경상남도', '경상남도', '경상남도', '경상남도', '경상남도', '경상남도', '경상남도', '경상남도', '경상남도', '경상남도', '경상남도', '경상남도', '경상남도', '경상남도', '경상남도', '경상남도', '경상남도', '경상남도', '경상남도', '경상남도', '경상남도'] \n",
      "\n",
      "서울특별시 센터 갯수 : 0 \n",
      "충청남도 센터 갯수 : 0 \n",
      "광주광역시 센터 갯수 : 0 \n",
      "경상남도 센터 : 0\n"
     ]
    }
   ],
   "source": [
    "import csv\n",
    "f = open('210416.csv', encoding = 'cp949') #같은 파일이 아니라면 경로를 써야된다.\n",
    "data1 = csv.reader(f)\n",
    "\n",
    "header = next(data1)\n",
    "\n",
    "ttt=[]\n",
    "for t in data1:\n",
    "    a=t[6].split(' ')\n",
    "    ttt.append(a[0])\n",
    "\n",
    "\n",
    "ttt2=[]\n",
    "for tt in ttt:\n",
    "    if tt not in ttt2:\n",
    "        ttt2.append(i)\n",
    "    \n",
    "print(ttt2,\"\\n\")\n",
    "\n",
    "count1=0\n",
    "count2=0\n",
    "count3=0\n",
    "count4=0\n",
    "count5=0\n",
    "\n",
    "for i in data1:\n",
    "    a=i[6].split(' ')\n",
    "    #b=i[6]\n",
    "    #print(a[0])\n",
    "    if a[0] == \"서울특별시\":\n",
    "        count1+=1\n",
    "    elif a[0] == \"충청남도\":\n",
    "        count2+=1\n",
    "    elif a[0] == \"광주광역시\":\n",
    "        count3+=1\n",
    "    elif a[0] == \"경상남도\":\n",
    "        count4+=1\n",
    "print(\"서울특별시 센터 갯수 : %d \" %count1)\n",
    "print(\"충청남도 센터 갯수 : %d \" %count2)\n",
    "print(\"광주광역시 센터 갯수 : %d \"%count3)\n",
    "print(\"경상남도 센터 : %d\" %count4)\n",
    "\n",
    "f.close()"
   ]
  },
  {
   "cell_type": "code",
   "execution_count": 6,
   "metadata": {},
   "outputs": [
    {
     "ename": "AttributeError",
     "evalue": "'list' object has no attribute 'replace'",
     "output_type": "error",
     "traceback": [
      "\u001b[1;31m---------------------------------------------------------------------------\u001b[0m",
      "\u001b[1;31mAttributeError\u001b[0m                            Traceback (most recent call last)",
      "\u001b[1;32m<ipython-input-6-63afeed3fa6c>\u001b[0m in \u001b[0;36m<module>\u001b[1;34m\u001b[0m\n\u001b[0;32m     18\u001b[0m         \u001b[0mttt2\u001b[0m\u001b[1;33m.\u001b[0m\u001b[0mappend\u001b[0m\u001b[1;33m(\u001b[0m\u001b[0mi\u001b[0m\u001b[1;33m)\u001b[0m\u001b[1;33m\u001b[0m\u001b[1;33m\u001b[0m\u001b[0m\n\u001b[0;32m     19\u001b[0m \u001b[1;33m\u001b[0m\u001b[0m\n\u001b[1;32m---> 20\u001b[1;33m \u001b[0mttt2\u001b[0m\u001b[1;33m.\u001b[0m\u001b[0mreplace\u001b[0m\u001b[1;33m(\u001b[0m\u001b[1;34m\"경남\"\u001b[0m\u001b[1;33m,\u001b[0m\u001b[1;34m\"경상남도\"\u001b[0m\u001b[1;33m)\u001b[0m\u001b[1;33m\u001b[0m\u001b[1;33m\u001b[0m\u001b[0m\n\u001b[0m\u001b[0;32m     21\u001b[0m \u001b[0mprint\u001b[0m\u001b[1;33m(\u001b[0m\u001b[0mttt2\u001b[0m\u001b[1;33m,\u001b[0m\u001b[1;34m\"\\n\"\u001b[0m\u001b[1;33m)\u001b[0m\u001b[1;33m\u001b[0m\u001b[1;33m\u001b[0m\u001b[0m\n\u001b[0;32m     22\u001b[0m \u001b[1;33m\u001b[0m\u001b[0m\n",
      "\u001b[1;31mAttributeError\u001b[0m: 'list' object has no attribute 'replace'"
     ]
    }
   ],
   "source": [
    "import csv\n",
    "f = open('210416.csv', encoding = 'cp949') #같은 파일이 아니라면 경로를 써야된다.\n",
    "data1 = csv.reader(f)\n",
    "\n",
    "header = next(data1)\n",
    "\n",
    "\n",
    "\n",
    "ttt=[]\n",
    "for i in data1:\n",
    "    a=i[6].split(' ')\n",
    "    ttt.append(a[0])\n",
    "\n",
    "\n",
    "ttt2=[]\n",
    "for i in ttt:\n",
    "    if i not in ttt2:\n",
    "        ttt2.append(i)\n",
    "        \n",
    "ttt2.replace(\"경남\",\"경상남도\")   \n",
    "print(ttt2,\"\\n\")\n",
    "\n",
    "\n",
    "f.close()"
   ]
  },
  {
   "cell_type": "code",
   "execution_count": null,
   "metadata": {},
   "outputs": [],
   "source": []
  }
 ],
 "metadata": {
  "kernelspec": {
   "display_name": "Python 3",
   "language": "python",
   "name": "python3"
  },
  "language_info": {
   "codemirror_mode": {
    "name": "ipython",
    "version": 3
   },
   "file_extension": ".py",
   "mimetype": "text/x-python",
   "name": "python",
   "nbconvert_exporter": "python",
   "pygments_lexer": "ipython3",
   "version": "3.8.5"
  }
 },
 "nbformat": 4,
 "nbformat_minor": 4
}
