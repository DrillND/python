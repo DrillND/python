{
 "cells": [
  {
   "cell_type": "code",
   "execution_count": null,
   "metadata": {},
   "outputs": [],
   "source": [
    "a='app'\n",
    "b='bana'\n",
    "\n",
    "print(a,b)\n",
    "print(a+' '+b)"
   ]
  },
  {
   "cell_type": "code",
   "execution_count": null,
   "metadata": {},
   "outputs": [],
   "source": [
    "num=[i for i in range(1,6)]\n",
    "print(num)"
   ]
  },
  {
   "cell_type": "code",
   "execution_count": null,
   "metadata": {},
   "outputs": [],
   "source": [
    "number_thing = (number for number in range(1,6))\n",
    "print(number_thing)\n",
    "num =  number_thing\n",
    "type(num)\n",
    "\n",
    "next(num)\n",
    "next(num)\n",
    "next(num)\n",
    "#print(num)"
   ]
  },
  {
   "cell_type": "code",
   "execution_count": 58,
   "metadata": {},
   "outputs": [
    {
     "name": "stdout",
     "output_type": "stream",
     "text": [
      "태어난 년도를 입력하세요 1980\n",
      "[1980, 1981, 1982, 1983, 1984, 1985]\n"
     ]
    }
   ],
   "source": [
    "#p.175문제 5 7 제외\n",
    "#7.1\n",
    "year_list=[]\n",
    "a = int(input(\"태어난 년도를 입력하세요 \"))\n",
    "for i in range(0,6):\n",
    "    year_list.append(a+i)\n",
    "print(year_list)"
   ]
  },
  {
   "cell_type": "code",
   "execution_count": 59,
   "metadata": {},
   "outputs": [
    {
     "name": "stdout",
     "output_type": "stream",
     "text": [
      "태어난 년도를 입력하세요 1980\n",
      "[1980, 1981, 1982, 1983, 1984, 1985]\n",
      "세 번째 생일 : 1982\n"
     ]
    }
   ],
   "source": [
    "#7.2\n",
    "year_list=[]\n",
    "a = int(input(\"태어난 년도를 입력하세요 \"))\n",
    "for i in range(0,6):\n",
    "    year_list.append(a+i)\n",
    "print(year_list)\n",
    "print(\"세 번째 생일 : %d\"%(year_list[2]))"
   ]
  },
  {
   "cell_type": "code",
   "execution_count": 65,
   "metadata": {},
   "outputs": [
    {
     "name": "stdout",
     "output_type": "stream",
     "text": [
      "태어난 년도를 입력하세요 1980\n",
      "[1980, 1981, 1982, 1983, 1984, 1985]\n",
      "가장 나이가 많은 년도 : 1985\n"
     ]
    }
   ],
   "source": [
    "#7.3\n",
    "year_list=[]\n",
    "a = int(input(\"태어난 년도를 입력하세요 \"))\n",
    "for i in range(0,6):\n",
    "    year_list.append(a+i)\n",
    "print(year_list)\n",
    "print(\"가장 나이가 많은 년도 : %d\"%(year_list[-1]))"
   ]
  },
  {
   "cell_type": "code",
   "execution_count": 52,
   "metadata": {},
   "outputs": [
    {
     "name": "stdout",
     "output_type": "stream",
     "text": [
      "<class 'list'>\n"
     ]
    }
   ],
   "source": [
    "#7.4\n",
    "things=[\"mozzarella\",\"cinderella\",\"salmoella\"]\n",
    "print(type(things))"
   ]
  },
  {
   "cell_type": "code",
   "execution_count": 69,
   "metadata": {},
   "outputs": [
    {
     "name": "stdout",
     "output_type": "stream",
     "text": [
      "MOZZARELLA\n",
      "['mozzarella', 'cinderella', 'salmoella']\n"
     ]
    }
   ],
   "source": [
    "#7.6\n",
    "things=[\"mozzarella\",\"cinderella\",\"salmoella\"]\n",
    "up=things[0].upper()\n",
    "things[0].upper()\n",
    "print(up)\n",
    "print(things)"
   ]
  },
  {
   "cell_type": "code",
   "execution_count": 54,
   "metadata": {},
   "outputs": [
    {
     "name": "stdout",
     "output_type": "stream",
     "text": [
      "<class 'list'>\n"
     ]
    }
   ],
   "source": [
    "#7.8\n",
    "surprise = [\"Groucho\",\"Chico\",\"Harpo\"]\n",
    "print(type(surprise))"
   ]
  },
  {
   "cell_type": "code",
   "execution_count": 55,
   "metadata": {},
   "outputs": [
    {
     "name": "stdout",
     "output_type": "stream",
     "text": [
      "harpo\n",
      "oprah\n"
     ]
    }
   ],
   "source": [
    "#7.9\n",
    "surprise = [\"Groucho\",\"Chico\",\"Harpo\"]\n",
    "down = surprise[2].lower()\n",
    "a=down[::-1]\n",
    "print(down)\n",
    "print(a)"
   ]
  },
  {
   "cell_type": "code",
   "execution_count": 56,
   "metadata": {},
   "outputs": [
    {
     "name": "stdout",
     "output_type": "stream",
     "text": [
      "[0, 2, 4, 6, 8]\n"
     ]
    }
   ],
   "source": [
    "#7.10\n",
    "list=[]\n",
    "i = 1\n",
    "for i in range(10):\n",
    "    if i%2==0:\n",
    "        list.append(i)\n",
    "\n",
    "print(list)\n",
    "        "
   ]
  },
  {
   "cell_type": "code",
   "execution_count": 57,
   "metadata": {},
   "outputs": [
    {
     "name": "stdout",
     "output_type": "stream",
     "text": [
      "[0, 2, 4, 6, 8]\n"
     ]
    }
   ],
   "source": [
    "#7.10 리스트 컴프리헨션\n",
    "list= [i for i in range(10) if i%2==0]\n",
    "print(list)"
   ]
  },
  {
   "cell_type": "code",
   "execution_count": 63,
   "metadata": {},
   "outputs": [
    {
     "name": "stdout",
     "output_type": "stream",
     "text": [
      "Fee! Fie! Foe! Flop! \n",
      "somthing better get a mop.\n",
      "\n",
      "\n",
      "Fee! Fie! Foe! Fope! \n",
      "somthing better turn the rope.\n",
      "\n",
      "\n",
      "Fee! Fie! Foe! Fa! \n",
      "somthing better get your ma.\n",
      "\n",
      "\n",
      "Fee! Fie! Foe! Fudge! \n",
      "somthing better call the judge.\n",
      "\n",
      "\n",
      "Fee! Fie! Foe! Fat! \n",
      "somthing better pet the cat.\n",
      "\n",
      "\n",
      "Fee! Fie! Foe! Fog! \n",
      "somthing better walk the dog.\n",
      "\n",
      "\n",
      "Fee! Fie! Foe! Fun! \n",
      "somthing better say we're done.\n",
      "\n",
      "\n"
     ]
    }
   ],
   "source": [
    "#7.11\n",
    "start1=[\"fee\",\"fie\",\"foe\"]\n",
    "rhyme = [(\"flop\",\"get a mop\"),\n",
    "        (\"fope\",\"turn the rope\"),\n",
    "         (\"fa\",\"get your ma\"),\n",
    "         (\"fudge\",\"call the judge\"),\n",
    "         (\"fat\",\"pet the cat\"),\n",
    "         (\"fog\",\"walk the dog\"),\n",
    "         (\"fun\",\"say we're done\"),\n",
    "        ]\n",
    "start2= \"somthing better\"\n",
    "\n",
    "#for i in range(0,3):\n",
    "    #print(start1[i].capitalize()+\"! \")\n",
    "\n",
    "for i in range(0,7):\n",
    "    print(start1[0].capitalize()+\"! \"+start1[1].capitalize()+\"! \"+start1[2].capitalize()+\"! \"+rhyme[i][0].capitalize()+\"! \")\n",
    "    print(start2+\" \"+rhyme[i][1]+\".\")\n",
    "    print(\"\\n\")\n",
    "    \n",
    "\n",
    "#for i in start1 : \n",
    "    #print(i.title()+ \"! \", end=\"\")"
   ]
  },
  {
   "cell_type": "code",
   "execution_count": null,
   "metadata": {},
   "outputs": [],
   "source": []
  }
 ],
 "metadata": {
  "kernelspec": {
   "display_name": "Python 3",
   "language": "python",
   "name": "python3"
  },
  "language_info": {
   "codemirror_mode": {
    "name": "ipython",
    "version": 3
   },
   "file_extension": ".py",
   "mimetype": "text/x-python",
   "name": "python",
   "nbconvert_exporter": "python",
   "pygments_lexer": "ipython3",
   "version": "3.8.5"
  }
 },
 "nbformat": 4,
 "nbformat_minor": 4
}
