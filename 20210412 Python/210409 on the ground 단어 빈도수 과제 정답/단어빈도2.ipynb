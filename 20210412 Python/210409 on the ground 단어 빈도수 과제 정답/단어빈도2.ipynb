{
 "cells": [
  {
   "cell_type": "code",
   "execution_count": 2,
   "metadata": {},
   "outputs": [
    {
     "name": "stdout",
     "output_type": "stream",
     "text": [
      "My life's been magic, seems fantastic\n",
      "I used to have a hole in the wall with a mattress\n",
      "Funny when you want it, suddenly you have it\n",
      "You find out that your gold's just plastic\n",
      "Every day, every night\n",
      "I've been thinkin' back on you and I\n",
      "Every day, every night\n",
      "I worked my whole life\n",
      "Just to get right, just to be like\n",
      "\"Look at me, I'm never coming down\"\n",
      "I worked my whole life\n",
      "Just to get high, just to realize\n",
      "Everything I need is on the\n",
      "Everything I need is on the ground\n",
      "On the ground\n",
      "Everything I need is on the ground\n",
      "(Nah, but they don't hear me though)\n",
      "(Yeah, what goes up must come down)\n",
      "(Nah, but they don't hear me though)\n",
      "(You're runnin' out of time)\n",
      "My world's been hectic, seems electric\n",
      "But I've been waking up with your voice in my head\n",
      "And I'm tryna send a message and let you know that\n",
      "Every single minute I'm without you, I regret it\n",
      "Every day, every night\n",
      "I've been thinkin' back on you and I\n",
      "Every day, every night\n",
      "I worked my whole life\n",
      "Just to get right, just to be like\n",
      "\"Look at me, I'm never coming down\"\n",
      "I worked my whole life\n",
      "Just to get high, just to realize\n",
      "Everything I need is on the\n",
      "Everything I need is on the ground\n",
      "On the ground\n",
      "Everything I need is on the ground\n",
      "(Nah, but they don't hear me though)\n",
      "(Yeah, what goes up must come down)\n",
      "(Nah, but they don't hear me though)\n",
      "(You're runnin' out of time)\n",
      "I'm way up in the clouds\n",
      "And they say I've made it now\n",
      "But I figured it out\n",
      "Everything I need is on the ground (yeah, yeah)\n",
      "Just drove by your house (just drove by your house)\n",
      "So far from you now (so far from you now)\n",
      "But I figured it out\n",
      "Everything I need is on the\n",
      "Everything I need is on the ground\n",
      "On the ground\n",
      "Everything I need is on the ground\n",
      "(Nah, but they don't hear me though)\n",
      "On the ground\n",
      "(Nah, but they don't hear me though)\n",
      "Everything I need is on the ground\n"
     ]
    }
   ],
   "source": [
    "a = '''My life's been magic, seems fantastic\n",
    "I used to have a hole in the wall with a mattress\n",
    "Funny when you want it, suddenly you have it\n",
    "You find out that your gold's just plastic\n",
    "Every day, every night\n",
    "I've been thinkin' back on you and I\n",
    "Every day, every night\n",
    "I worked my whole life\n",
    "Just to get right, just to be like\n",
    "\"Look at me, I'm never coming down\"\n",
    "I worked my whole life\n",
    "Just to get high, just to realize\n",
    "Everything I need is on the\n",
    "Everything I need is on the ground\n",
    "On the ground\n",
    "Everything I need is on the ground\n",
    "(Nah, but they don't hear me though)\n",
    "(Yeah, what goes up must come down)\n",
    "(Nah, but they don't hear me though)\n",
    "(You're runnin' out of time)\n",
    "My world's been hectic, seems electric\n",
    "But I've been waking up with your voice in my head\n",
    "And I'm tryna send a message and let you know that\n",
    "Every single minute I'm without you, I regret it\n",
    "Every day, every night\n",
    "I've been thinkin' back on you and I\n",
    "Every day, every night\n",
    "I worked my whole life\n",
    "Just to get right, just to be like\n",
    "\"Look at me, I'm never coming down\"\n",
    "I worked my whole life\n",
    "Just to get high, just to realize\n",
    "Everything I need is on the\n",
    "Everything I need is on the ground\n",
    "On the ground\n",
    "Everything I need is on the ground\n",
    "(Nah, but they don't hear me though)\n",
    "(Yeah, what goes up must come down)\n",
    "(Nah, but they don't hear me though)\n",
    "(You're runnin' out of time)\n",
    "I'm way up in the clouds\n",
    "And they say I've made it now\n",
    "But I figured it out\n",
    "Everything I need is on the ground (yeah, yeah)\n",
    "Just drove by your house (just drove by your house)\n",
    "So far from you now (so far from you now)\n",
    "But I figured it out\n",
    "Everything I need is on the\n",
    "Everything I need is on the ground\n",
    "On the ground\n",
    "Everything I need is on the ground\n",
    "(Nah, but they don't hear me though)\n",
    "On the ground\n",
    "(Nah, but they don't hear me though)\n",
    "Everything I need is on the ground'''\n",
    "print(a)"
   ]
  },
  {
   "cell_type": "code",
   "execution_count": 5,
   "metadata": {},
   "outputs": [
    {
     "name": "stdout",
     "output_type": "stream",
     "text": [
      "[21, 9, 17, 7, 13, 11, 11, 11, 12, 7]\n",
      "['I', 'to', 'the', 'you', 'on', 'Everything', 'need', 'is', 'ground', 'they']\n"
     ]
    }
   ],
   "source": [
    "# 많이 출현한 빈도 : 21, 17, 13, 12, 11, 11, 11, 9, 7, 7\n",
    "# I the on ground Everything need is to you they\n",
    "b = a.replace('\\n', ' ')\n",
    "b = b.replace('(', ' ')\n",
    "b = b.replace(')', ' ')\n",
    "b = b.replace('  ', ' ')\n",
    "c = b.split(' ')\n",
    "\n",
    "lst_a = []\n",
    "cnt_a = []\n",
    "max = 6\n",
    "\n",
    "for i in c :\n",
    "    if i in lst_a :\n",
    "        continue\n",
    "    if (c.count(i) > max) :\n",
    "        cnt_a.append(c.count(i))\n",
    "        lst_a.append(i)\n",
    "        \n",
    "print(cnt_a)\n",
    "print(lst_a)"
   ]
  },
  {
   "cell_type": "code",
   "execution_count": 11,
   "metadata": {},
   "outputs": [
    {
     "data": {
      "image/png": "[encoded data removed]",
      "text/plain": [
       "<Figure size 1080x360 with 1 Axes>"
      ]
     },
     "metadata": {
      "needs_background": "light"
     },
     "output_type": "display_data"
    }
   ],
   "source": [
    "import matplotlib.pyplot as plt\n",
    "plt.plot(cnt_a)\n",
    "plt.rcParams['figure.figsize'] = [10, 7]\n",
    "plt.xticks(range(0,10),lst_a)\n",
    "plt.show()"
   ]
  }
 ],
 "metadata": {
  "kernelspec": {
   "display_name": "Python 3",
   "language": "python",
   "name": "python3"
  },
  "language_info": {
   "codemirror_mode": {
    "name": "ipython",
    "version": 3
   },
   "file_extension": ".py",
   "mimetype": "text/x-python",
   "name": "python",
   "nbconvert_exporter": "python",
   "pygments_lexer": "ipython3",
   "version": "3.8.5"
  }
 },
 "nbformat": 4,
 "nbformat_minor": 4
}
