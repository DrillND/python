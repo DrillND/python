{
 "cells": [
  {
   "cell_type": "code",
   "execution_count": 1,
   "metadata": {},
   "outputs": [
    {
     "data": {
      "text/html": [
       "<div>\n",
       "<style scoped>\n",
       "    .dataframe tbody tr th:only-of-type {\n",
       "        vertical-align: middle;\n",
       "    }\n",
       "\n",
       "    .dataframe tbody tr th {\n",
       "        vertical-align: top;\n",
       "    }\n",
       "\n",
       "    .dataframe thead th {\n",
       "        text-align: right;\n",
       "    }\n",
       "</style>\n",
       "<table border=\"1\" class=\"dataframe\">\n",
       "  <thead>\n",
       "    <tr style=\"text-align: right;\">\n",
       "      <th></th>\n",
       "      <th>증가</th>\n",
       "      <th>변화 없음</th>\n",
       "      <th>감소</th>\n",
       "    </tr>\n",
       "    <tr>\n",
       "      <th>항목</th>\n",
       "      <th></th>\n",
       "      <th></th>\n",
       "      <th></th>\n",
       "    </tr>\n",
       "  </thead>\n",
       "  <tbody>\n",
       "    <tr>\n",
       "      <th>걱정 또는 스트레스</th>\n",
       "      <td>78.0</td>\n",
       "      <td>19.0</td>\n",
       "      <td>3.0</td>\n",
       "    </tr>\n",
       "    <tr>\n",
       "      <th>불안 또는 두려움</th>\n",
       "      <td>65.4</td>\n",
       "      <td>30.2</td>\n",
       "      <td>4.4</td>\n",
       "    </tr>\n",
       "    <tr>\n",
       "      <th>짜증 또는 화</th>\n",
       "      <td>60.8</td>\n",
       "      <td>35.5</td>\n",
       "      <td>3.7</td>\n",
       "    </tr>\n",
       "    <tr>\n",
       "      <th>분노 또는 혐오</th>\n",
       "      <td>59.5</td>\n",
       "      <td>36.5</td>\n",
       "      <td>4.0</td>\n",
       "    </tr>\n",
       "    <tr>\n",
       "      <th>무기력감 또는 좌절감</th>\n",
       "      <td>52.4</td>\n",
       "      <td>43.0</td>\n",
       "      <td>4.6</td>\n",
       "    </tr>\n",
       "    <tr>\n",
       "      <th>외로움 또는 우울함</th>\n",
       "      <td>46.4</td>\n",
       "      <td>50.4</td>\n",
       "      <td>3.2</td>\n",
       "    </tr>\n",
       "    <tr>\n",
       "      <th>자긍심 또는 자부심</th>\n",
       "      <td>35.4</td>\n",
       "      <td>40.3</td>\n",
       "      <td>24.3</td>\n",
       "    </tr>\n",
       "    <tr>\n",
       "      <th>감사함 또는 안도감</th>\n",
       "      <td>29.3</td>\n",
       "      <td>46.1</td>\n",
       "      <td>24.6</td>\n",
       "    </tr>\n",
       "  </tbody>\n",
       "</table>\n",
       "</div>"
      ],
      "text/plain": [
       "               증가  변화 없음    감소\n",
       "항목                            \n",
       "걱정 또는 스트레스   78.0   19.0   3.0\n",
       "불안 또는 두려움    65.4   30.2   4.4\n",
       "짜증 또는 화      60.8   35.5   3.7\n",
       "분노 또는 혐오     59.5   36.5   4.0\n",
       "무기력감 또는 좌절감  52.4   43.0   4.6\n",
       "외로움 또는 우울함   46.4   50.4   3.2\n",
       "자긍심 또는 자부심   35.4   40.3  24.3\n",
       "감사함 또는 안도감   29.3   46.1  24.6"
      ]
     },
     "execution_count": 1,
     "metadata": {},
     "output_type": "execute_result"
    }
   ],
   "source": [
    "import pandas as pd\n",
    "aa=pd.read_csv('./emotion.csv',index_col='항목', encoding = 'cp949') #앞의 점은 같은 디렉토리 안에 있어서 생략\n",
    "\n",
    "\n",
    "aa\n"
   ]
  },
  {
   "cell_type": "code",
   "execution_count": 2,
   "metadata": {},
   "outputs": [
    {
     "data": {
      "text/html": [
       "<div>\n",
       "<style scoped>\n",
       "    .dataframe tbody tr th:only-of-type {\n",
       "        vertical-align: middle;\n",
       "    }\n",
       "\n",
       "    .dataframe tbody tr th {\n",
       "        vertical-align: top;\n",
       "    }\n",
       "\n",
       "    .dataframe thead th {\n",
       "        text-align: right;\n",
       "    }\n",
       "</style>\n",
       "<table border=\"1\" class=\"dataframe\">\n",
       "  <thead>\n",
       "    <tr style=\"text-align: right;\">\n",
       "      <th></th>\n",
       "      <th>항목</th>\n",
       "      <th>증가</th>\n",
       "      <th>변화 없음</th>\n",
       "      <th>감소</th>\n",
       "    </tr>\n",
       "  </thead>\n",
       "  <tbody>\n",
       "    <tr>\n",
       "      <th>0</th>\n",
       "      <td>걱정 또는 스트레스</td>\n",
       "      <td>78.0</td>\n",
       "      <td>19.0</td>\n",
       "      <td>3.0</td>\n",
       "    </tr>\n",
       "    <tr>\n",
       "      <th>1</th>\n",
       "      <td>불안 또는 두려움</td>\n",
       "      <td>65.4</td>\n",
       "      <td>30.2</td>\n",
       "      <td>4.4</td>\n",
       "    </tr>\n",
       "    <tr>\n",
       "      <th>2</th>\n",
       "      <td>짜증 또는 화</td>\n",
       "      <td>60.8</td>\n",
       "      <td>35.5</td>\n",
       "      <td>3.7</td>\n",
       "    </tr>\n",
       "    <tr>\n",
       "      <th>3</th>\n",
       "      <td>분노 또는 혐오</td>\n",
       "      <td>59.5</td>\n",
       "      <td>36.5</td>\n",
       "      <td>4.0</td>\n",
       "    </tr>\n",
       "    <tr>\n",
       "      <th>4</th>\n",
       "      <td>무기력감 또는 좌절감</td>\n",
       "      <td>52.4</td>\n",
       "      <td>43.0</td>\n",
       "      <td>4.6</td>\n",
       "    </tr>\n",
       "    <tr>\n",
       "      <th>5</th>\n",
       "      <td>외로움 또는 우울함</td>\n",
       "      <td>46.4</td>\n",
       "      <td>50.4</td>\n",
       "      <td>3.2</td>\n",
       "    </tr>\n",
       "    <tr>\n",
       "      <th>6</th>\n",
       "      <td>자긍심 또는 자부심</td>\n",
       "      <td>35.4</td>\n",
       "      <td>40.3</td>\n",
       "      <td>24.3</td>\n",
       "    </tr>\n",
       "    <tr>\n",
       "      <th>7</th>\n",
       "      <td>감사함 또는 안도감</td>\n",
       "      <td>29.3</td>\n",
       "      <td>46.1</td>\n",
       "      <td>24.6</td>\n",
       "    </tr>\n",
       "  </tbody>\n",
       "</table>\n",
       "</div>"
      ],
      "text/plain": [
       "            항목    증가  변화 없음    감소\n",
       "0   걱정 또는 스트레스  78.0   19.0   3.0\n",
       "1    불안 또는 두려움  65.4   30.2   4.4\n",
       "2      짜증 또는 화  60.8   35.5   3.7\n",
       "3     분노 또는 혐오  59.5   36.5   4.0\n",
       "4  무기력감 또는 좌절감  52.4   43.0   4.6\n",
       "5   외로움 또는 우울함  46.4   50.4   3.2\n",
       "6   자긍심 또는 자부심  35.4   40.3  24.3\n",
       "7   감사함 또는 안도감  29.3   46.1  24.6"
      ]
     },
     "execution_count": 2,
     "metadata": {},
     "output_type": "execute_result"
    }
   ],
   "source": [
    "import pandas as pd\n",
    "aa=pd.read_csv('./emotion.csv', encoding = 'cp949') #앞의 점은 같은 디렉토리 안에 있어서 생략\n",
    "\n",
    "\n",
    "aa\n",
    "\n"
   ]
  },
  {
   "cell_type": "code",
   "execution_count": 32,
   "metadata": {},
   "outputs": [],
   "source": [
    "t=aa.loc[[0,1,2,3,4,5],['항목','증가','변화 없음','감소']]\n"
   ]
  },
  {
   "cell_type": "code",
   "execution_count": 33,
   "metadata": {},
   "outputs": [
    {
     "data": {
      "text/plain": [
       "<matplotlib.legend.Legend at 0x14ec2fcb130>"
      ]
     },
     "execution_count": 33,
     "metadata": {},
     "output_type": "execute_result"
    },
    {
     "data": {
      "image/png": "[encoded data removed]",
      "text/plain": [
       "<Figure size 864x288 with 1 Axes>"
      ]
     },
     "metadata": {
      "needs_background": "light"
     },
     "output_type": "display_data"
    }
   ],
   "source": [
    "import matplotlib.pyplot as plt\n",
    "\n",
    "from matplotlib import font_manager, rc\n",
    "font_name = font_manager.FontProperties(fname=\"c:/Windows/Fonts/malgun.ttf\").get_name()\n",
    "rc('font', family=font_name)\n",
    "\n",
    "ax = t.plot(kind='bar', title='날씨', figsize=(12, 4), legend=True, fontsize=12)\n",
    "ax.set_xlabel('도시', fontsize=12)          # x축 정보 표시\n",
    "ax.set_ylabel('변화율', fontsize=12)     # y축 정보 표시\n",
    "ax.legend(['증가', '변화없음','감소'], fontsize=12)"
   ]
  },
  {
   "cell_type": "code",
   "execution_count": 34,
   "metadata": {},
   "outputs": [
    {
     "data": {
      "text/html": [
       "<div>\n",
       "<style scoped>\n",
       "    .dataframe tbody tr th:only-of-type {\n",
       "        vertical-align: middle;\n",
       "    }\n",
       "\n",
       "    .dataframe tbody tr th {\n",
       "        vertical-align: top;\n",
       "    }\n",
       "\n",
       "    .dataframe thead th {\n",
       "        text-align: right;\n",
       "    }\n",
       "</style>\n",
       "<table border=\"1\" class=\"dataframe\">\n",
       "  <thead>\n",
       "    <tr style=\"text-align: right;\">\n",
       "      <th></th>\n",
       "      <th>항목</th>\n",
       "      <th>증가</th>\n",
       "    </tr>\n",
       "  </thead>\n",
       "  <tbody>\n",
       "    <tr>\n",
       "      <th>6</th>\n",
       "      <td>자긍심 또는 자부심</td>\n",
       "      <td>35.4</td>\n",
       "    </tr>\n",
       "    <tr>\n",
       "      <th>7</th>\n",
       "      <td>감사함 또는 안도감</td>\n",
       "      <td>29.3</td>\n",
       "    </tr>\n",
       "  </tbody>\n",
       "</table>\n",
       "</div>"
      ],
      "text/plain": [
       "           항목    증가\n",
       "6  자긍심 또는 자부심  35.4\n",
       "7  감사함 또는 안도감  29.3"
      ]
     },
     "execution_count": 34,
     "metadata": {},
     "output_type": "execute_result"
    }
   ],
   "source": [
    "aa.loc[[6,7],['항목','증가']]"
   ]
  },
  {
   "cell_type": "code",
   "execution_count": 35,
   "metadata": {},
   "outputs": [
    {
     "name": "stdout",
     "output_type": "stream",
     "text": [
      "['항목,그렇다,보통이다,그렇지 않다' '집에서 여가를 즐기는 문화가 확산할 것이다,67,24.8,8.2'\n",
      " '특정 집단에 대한 혐오와 차별이 증가할 것이다,66.9,27.5,5.6'\n",
      " '사회 구성원 간 격차가 커질 것이다,63,30.4,6.6'\n",
      " '보호무역주의가 강화되는 등 국제 경제의 구조가 재편될 것이다,61.2,33.2,5.6'\n",
      " '\"재난, 감염병 상황시 개인정보 공개·사생활 침해 등 개인의 자유가 제한될 것이다\",56,29.7,14.3'\n",
      " '한국의 국제적 위상이 올라갈 것이다,55.6,28.1,16.3'] \n",
      "\n",
      "집에서 여가를 즐기는 문화가 확산할 것이다,67,24.8,8.2\n",
      "특정 집단에 대한 혐오와 차별이 증가할 것이다,66.9,27.5,5.6\n"
     ]
    }
   ],
   "source": [
    "import numpy as np\n",
    "bb=np.loadtxt(\"react.csv\", delimiter='::',dtype=np.str)#encoding = 'cp949')\n",
    "#print(bb)\n",
    "print(bb,\"\\n\")\n",
    "print(bb[1])\n",
    "print(bb[2])"
   ]
  },
  {
   "cell_type": "code",
   "execution_count": 36,
   "metadata": {},
   "outputs": [
    {
     "ename": "AttributeError",
     "evalue": "'numpy.ndarray' object has no attribute 'plot'",
     "output_type": "error",
     "traceback": [
      "\u001b[1;31m---------------------------------------------------------------------------\u001b[0m",
      "\u001b[1;31mAttributeError\u001b[0m                            Traceback (most recent call last)",
      "\u001b[1;32m<ipython-input-36-62955fec6150>\u001b[0m in \u001b[0;36m<module>\u001b[1;34m\u001b[0m\n\u001b[0;32m      5\u001b[0m \u001b[0mrc\u001b[0m\u001b[1;33m(\u001b[0m\u001b[1;34m'font'\u001b[0m\u001b[1;33m,\u001b[0m \u001b[0mfamily\u001b[0m\u001b[1;33m=\u001b[0m\u001b[0mfont_name\u001b[0m\u001b[1;33m)\u001b[0m\u001b[1;33m\u001b[0m\u001b[1;33m\u001b[0m\u001b[0m\n\u001b[0;32m      6\u001b[0m \u001b[1;33m\u001b[0m\u001b[0m\n\u001b[1;32m----> 7\u001b[1;33m \u001b[0max\u001b[0m \u001b[1;33m=\u001b[0m \u001b[0mbb\u001b[0m\u001b[1;33m.\u001b[0m\u001b[0mplot\u001b[0m\u001b[1;33m(\u001b[0m\u001b[0mkind\u001b[0m\u001b[1;33m=\u001b[0m\u001b[1;34m'bar'\u001b[0m\u001b[1;33m,\u001b[0m \u001b[0mtitle\u001b[0m\u001b[1;33m=\u001b[0m\u001b[1;34m'날씨'\u001b[0m\u001b[1;33m,\u001b[0m \u001b[0mfigsize\u001b[0m\u001b[1;33m=\u001b[0m\u001b[1;33m(\u001b[0m\u001b[1;36m12\u001b[0m\u001b[1;33m,\u001b[0m \u001b[1;36m4\u001b[0m\u001b[1;33m)\u001b[0m\u001b[1;33m,\u001b[0m \u001b[0mlegend\u001b[0m\u001b[1;33m=\u001b[0m\u001b[1;32mTrue\u001b[0m\u001b[1;33m,\u001b[0m \u001b[0mfontsize\u001b[0m\u001b[1;33m=\u001b[0m\u001b[1;36m12\u001b[0m\u001b[1;33m)\u001b[0m\u001b[1;33m\u001b[0m\u001b[1;33m\u001b[0m\u001b[0m\n\u001b[0m\u001b[0;32m      8\u001b[0m \u001b[0max\u001b[0m\u001b[1;33m.\u001b[0m\u001b[0mset_xlabel\u001b[0m\u001b[1;33m(\u001b[0m\u001b[1;34m'도시'\u001b[0m\u001b[1;33m,\u001b[0m \u001b[0mfontsize\u001b[0m\u001b[1;33m=\u001b[0m\u001b[1;36m12\u001b[0m\u001b[1;33m)\u001b[0m          \u001b[1;31m# x축 정보 표시\u001b[0m\u001b[1;33m\u001b[0m\u001b[1;33m\u001b[0m\u001b[0m\n\u001b[0;32m      9\u001b[0m \u001b[0max\u001b[0m\u001b[1;33m.\u001b[0m\u001b[0mset_ylabel\u001b[0m\u001b[1;33m(\u001b[0m\u001b[1;34m'변화율'\u001b[0m\u001b[1;33m,\u001b[0m \u001b[0mfontsize\u001b[0m\u001b[1;33m=\u001b[0m\u001b[1;36m12\u001b[0m\u001b[1;33m)\u001b[0m     \u001b[1;31m# y축 정보 표시\u001b[0m\u001b[1;33m\u001b[0m\u001b[1;33m\u001b[0m\u001b[0m\n",
      "\u001b[1;31mAttributeError\u001b[0m: 'numpy.ndarray' object has no attribute 'plot'"
     ]
    }
   ],
   "source": [
    "import matplotlib.pyplot as plt\n",
    "\n",
    "from matplotlib import font_manager, rc\n",
    "font_name = font_manager.FontProperties(fname=\"c:/Windows/Fonts/malgun.ttf\").get_name()\n",
    "rc('font', family=font_name)\n",
    "\n",
    "ax = bb.plot(kind='bar', title='날씨', figsize=(12, 4), legend=True, fontsize=12)\n",
    "ax.set_xlabel('도시', fontsize=12)          # x축 정보 표시\n",
    "ax.set_ylabel('변화율', fontsize=12)     # y축 정보 표시\n",
    "ax.legend(['증가', '변화없음','감소'], fontsize=12)"
   ]
  },
  {
   "cell_type": "code",
   "execution_count": null,
   "metadata": {},
   "outputs": [],
   "source": [
    "import pandas as pd\n",
    "df1 = pd.DataFrame( {\n",
    "    \"a\":[ 10, 20, 30 ],\n",
    "    \"b\":[ 40, 50, 60 ],\n",
    "    \"c\":[ 70, 80, 90 ] },\n",
    "    index=[ 1, 2, 3] )\n",
    "print(df1)\n"
   ]
  }
 ],
 "metadata": {
  "kernelspec": {
   "display_name": "Python 3",
   "language": "python",
   "name": "python3"
  },
  "language_info": {
   "codemirror_mode": {
    "name": "ipython",
    "version": 3
   },
   "file_extension": ".py",
   "mimetype": "text/x-python",
   "name": "python",
   "nbconvert_exporter": "python",
   "pygments_lexer": "ipython3",
   "version": "3.8.5"
  }
 },
 "nbformat": 4,
 "nbformat_minor": 4
}
