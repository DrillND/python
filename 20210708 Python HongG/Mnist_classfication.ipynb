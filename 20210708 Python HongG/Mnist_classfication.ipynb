{
  "nbformat": 4,
  "nbformat_minor": 0,
  "metadata": {
    "colab": {
      "name": "Mnist_classfication.ipynb의 사본",
      "provenance": []
    },
    "kernelspec": {
      "name": "python3",
      "display_name": "Python 3"
    }
  },
  "cells": [
    {
      "cell_type": "code",
      "metadata": {
        "id": "Ig9Q_cQ_SD1U"
      },
      "source": [
        "import numpy as np\n",
        "import pandas as pd\n",
        "import tensorflow as tf\n",
        "import matplotlib.pyplot as plt\n",
        "from tensorflow.keras.models import Sequential\n",
        "from tensorflow.keras.layers import Dense\n",
        "from tensorflow.keras.optimizers import Adam\n",
        "from keras.utils import np_utils\n",
        "from keras import datasets"
      ],
      "execution_count": 4,
      "outputs": []
    },
    {
      "cell_type": "code",
      "metadata": {
        "id": "BrbtxGqAS8OQ"
      },
      "source": [
        "def DNN_ModelSequential(n_input, n_hidden, n_hidden2, n_out):\n",
        "  model = Sequential()\n",
        "  model.add(Dense(n_hidden, input_shape=(n_input,), activation='relu'))\n",
        "  model.add(Dense(n_hidden2, activation='relu'))\n",
        "  model.add(Dense(n_out, activation='softmax')) \n",
        "\n",
        "  opt = Adam(lr=0.01)\n",
        "  model.compile(opt, loss='categorical_crossentropy', metrics=['accuracy'])\n",
        "  return model"
      ],
      "execution_count": 5,
      "outputs": []
    },
    {
      "cell_type": "code",
      "metadata": {
        "id": "-Bru-XWiUAb-",
        "colab": {
          "base_uri": "https://localhost:8080/"
        },
        "outputId": "6b133f0c-f2fa-4560-9457-d8850514960d"
      },
      "source": [
        "(X_train, Y_train), (X_test, Y_test) = tf.keras.datasets.mnist.load_data()"
      ],
      "execution_count": 6,
      "outputs": [
        {
          "output_type": "stream",
          "text": [
            "Downloading data from https://storage.googleapis.com/tensorflow/tf-keras-datasets/mnist.npz\n",
            "11493376/11490434 [==============================] - 0s 0us/step\n"
          ],
          "name": "stdout"
        }
      ]
    },
    {
      "cell_type": "code",
      "metadata": {
        "id": "D3e1pjKVUXIR",
        "colab": {
          "base_uri": "https://localhost:8080/"
        },
        "outputId": "fa7e5dea-ea30-4704-ea13-b3eb46a52f18"
      },
      "source": [
        "print(X_train.shape, Y_train.shape)\n",
        "print(X_test.shape, Y_test.shape)"
      ],
      "execution_count": 7,
      "outputs": [
        {
          "output_type": "stream",
          "text": [
            "(60000, 28, 28) (60000,)\n",
            "(10000, 28, 28) (10000,)\n"
          ],
          "name": "stdout"
        }
      ]
    },
    {
      "cell_type": "code",
      "metadata": {
        "id": "T85XBdXWUo6U",
        "colab": {
          "base_uri": "https://localhost:8080/",
          "height": 1000
        },
        "outputId": "dc4eebd9-4272-4b17-bf14-26e74c1057af"
      },
      "source": [
        "mySample = np.random.randint(60000)\n",
        "plt.imshow(X_train[mySample])\n",
        "plt.show()\n",
        "print(Y_train[mySample])\n",
        "print(X_train[mySample])"
      ],
      "execution_count": 8,
      "outputs": [
        {
          "output_type": "display_data",
          "data": {
            "image/png": "[encoded data removed]",
            "text/plain": [
              "<Figure size 432x288 with 1 Axes>"
            ]
          },
          "metadata": {
            "tags": [],
            "needs_background": "light"
          }
        },
        {
          "output_type": "stream",
          "text": [
            "1\n",
            "[[  0   0   0   0   0   0   0   0   0   0   0   0   0   0   0   0   0   0\n",
            "    0   0   0   0   0   0   0   0   0   0]\n",
            " [  0   0   0   0   0   0   0   0   0   0   0   0   0   0   0   0   0   0\n",
            "    0   0   0   0   0   0   0   0   0   0]\n",
            " [  0   0   0   0   0   0   0   0   0   0   0   0   0   0   0   0   0   0\n",
            "    0   0   0   0   0   0   0   0   0   0]\n",
            " [  0   0   0   0   0   0   0   0   0   0   0   0   0   0   0   0   0   0\n",
            "    0   0   0   0   0   0   0   0   0   0]\n",
            " [  0   0   0   0   0   0   0   0   0   0   0   0   0  36 225 254 135   0\n",
            "    0   0   0   0   0   0   0   0   0   0]\n",
            " [  0   0   0   0   0   0   0   0   0   0   0   0   0 199 253 253 252  76\n",
            "    0   0   0   0   0   0   0   0   0   0]\n",
            " [  0   0   0   0   0   0   0   0   0   0   0   0   0 202 253 253 253  78\n",
            "    0  58   0   0   0   0   0   0   0   0]\n",
            " [  0   0   0   0   0   0   0   0   0   0   0   0   0 202 253 253 253  78\n",
            "   37  94   0   0   0   0   0   0   0   0]\n",
            " [  0   0   0   0   0   0   0   0   0   0   0   0   0 202 253 253 253 128\n",
            "   40  91   0   0   0   0   0   0   0   0]\n",
            " [  0   0   0   0   0   0   0   0   0   0   0   0  69 247 253 253 253 207\n",
            "    5  12   0   0   0   0   0   0   0   0]\n",
            " [  0   0   0   0   0   0   0   0   0   0   0   0 189 253 253 253 253  97\n",
            "    0   0   0   0   0   0   0   0   0   0]\n",
            " [  0   0   0   0   0   0   0   0   0   0   0   0 209 253 253 253 210  14\n",
            "    0   0   0   0   0   0   0   0   0   0]\n",
            " [  0   0   0   0   0   0   0   0   0   0   0   0 209 253 253 253 164   0\n",
            "    0   0   0   0   0   0   0   0   0   0]\n",
            " [  0   0   0   0   0   0   0   0   0   0   0  66 243 253 253 253  71   0\n",
            "    0   0   0   0   0   0   0   0   0   0]\n",
            " [  0   0   0   0   0   0   0   0   0   0   0  86 253 253 253 253  71   0\n",
            "    0   0   0   0   0   0   0   0   0   0]\n",
            " [  0   0   0   0   0   0   0   0   0   0   0  86 253 253 253 253  71   0\n",
            "    0   0   0   0   0   0   0   0   0   0]\n",
            " [  0   0   0   0   0   0   0   0   0   0   0  86 253 253 253 243  58   0\n",
            "    0   0   0   0   0   0   0   0   0   0]\n",
            " [  0   0   0   0   0   0   0   0   0   0   0 172 253 253 253 194   0   0\n",
            "    0   0   0   0   0   0   0   0   0   0]\n",
            " [  0   0   0   0   0   0   0   0   0   0  59 240 253 253 253 194   0   0\n",
            "    0   0   0   0   0   0   0   0   0   0]\n",
            " [  0   0   0   0   0   0   0   0   0   0  92 253 253 253 253 114   0   0\n",
            "    0   0   0   0   0   0   0   0   0   0]\n",
            " [  0   0   0   0   0   0   0   0   0   0 102 253 253 253 248  60   0   0\n",
            "    0   0   0   0   0   0   0   0   0   0]\n",
            " [  0   0   0   0   0   0   0   0   0   0 222 253 253 253 188   0   0   0\n",
            "    0   0   0   0   0   0   0   0   0   0]\n",
            " [  0   0   0   0   0   0   0   0   0   0 218 253 253 253 188   0   0   0\n",
            "    0   0   0   0   0   0   0   0   0   0]\n",
            " [  0   0   0   0   0   0   0   0   0   0  45 166 253 216  92   0   0   0\n",
            "    0   0   0   0   0   0   0   0   0   0]\n",
            " [  0   0   0   0   0   0   0   0   0   0   0   0   0   0   0   0   0   0\n",
            "    0   0   0   0   0   0   0   0   0   0]\n",
            " [  0   0   0   0   0   0   0   0   0   0   0   0   0   0   0   0   0   0\n",
            "    0   0   0   0   0   0   0   0   0   0]\n",
            " [  0   0   0   0   0   0   0   0   0   0   0   0   0   0   0   0   0   0\n",
            "    0   0   0   0   0   0   0   0   0   0]\n",
            " [  0   0   0   0   0   0   0   0   0   0   0   0   0   0   0   0   0   0\n",
            "    0   0   0   0   0   0   0   0   0   0]]\n"
          ],
          "name": "stdout"
        }
      ]
    },
    {
      "cell_type": "code",
      "metadata": {
        "id": "n35PCo2YYib_"
      },
      "source": [
        "def Data_func():\n",
        "  (X_train, Y_train), (X_test, Y_test) = tf.keras.datasets.mnist.load_data()\n",
        "  Y_train = np_utils.to_categorical(Y_train)\n",
        "  Y_test = np_utils.to_categorical(Y_test)\n",
        "  L, W, H = X_train.shape\n",
        "  X_train = X_train.reshape(-1, W * H)\n",
        "  X_test = X_test.reshape(-1, W * H)\n",
        "  X_train = X_train / 255\n",
        "  X_test = X_test / 255\n",
        "  return (X_train, Y_train), (X_test, Y_test)"
      ],
      "execution_count": 9,
      "outputs": []
    },
    {
      "cell_type": "code",
      "metadata": {
        "id": "4mwa2xKNaH6K",
        "colab": {
          "base_uri": "https://localhost:8080/"
        },
        "outputId": "e6d04f56-cc03-4202-b552-4db4ac0b10f9"
      },
      "source": [
        "model = DNN_ModelSequential(784, 128, 128, 10)\n",
        "(x_train, y_train), (x_test, y_test) = Data_func()\n",
        "print(model.summary())\n",
        "print(x_train.shape, y_train.shape)"
      ],
      "execution_count": 10,
      "outputs": [
        {
          "output_type": "stream",
          "text": [
            "/usr/local/lib/python3.7/dist-packages/tensorflow/python/keras/optimizer_v2/optimizer_v2.py:375: UserWarning: The `lr` argument is deprecated, use `learning_rate` instead.\n",
            "  \"The `lr` argument is deprecated, use `learning_rate` instead.\")\n"
          ],
          "name": "stderr"
        },
        {
          "output_type": "stream",
          "text": [
            "Model: \"sequential\"\n",
            "_________________________________________________________________\n",
            "Layer (type)                 Output Shape              Param #   \n",
            "=================================================================\n",
            "dense (Dense)                (None, 128)               100480    \n",
            "_________________________________________________________________\n",
            "dense_1 (Dense)              (None, 128)               16512     \n",
            "_________________________________________________________________\n",
            "dense_2 (Dense)              (None, 10)                1290      \n",
            "=================================================================\n",
            "Total params: 118,282\n",
            "Trainable params: 118,282\n",
            "Non-trainable params: 0\n",
            "_________________________________________________________________\n",
            "None\n",
            "(60000, 784) (60000, 10)\n"
          ],
          "name": "stdout"
        }
      ]
    },
    {
      "cell_type": "code",
      "metadata": {
        "id": "Tw3kfflwa5nl",
        "colab": {
          "base_uri": "https://localhost:8080/"
        },
        "outputId": "e49b379e-c7f2-4780-966c-1eafc804056c"
      },
      "source": [
        "fit_hist = model.fit(x_train, y_train, epochs=15, batch_size=128, \n",
        "                     validation_split=0.2)\n",
        "performance_test = model.evaluate(x_test, y_test, batch_size=128)\n",
        "print('test Loss Accurecy -> ',performance_test)"
      ],
      "execution_count": 11,
      "outputs": [
        {
          "output_type": "stream",
          "text": [
            "Epoch 1/15\n",
            "375/375 [==============================] - 3s 5ms/step - loss: 0.2474 - accuracy: 0.9235 - val_loss: 0.1431 - val_accuracy: 0.9579\n",
            "Epoch 2/15\n",
            "375/375 [==============================] - 2s 4ms/step - loss: 0.1321 - accuracy: 0.9596 - val_loss: 0.1383 - val_accuracy: 0.9608\n",
            "Epoch 3/15\n",
            "375/375 [==============================] - 2s 4ms/step - loss: 0.1066 - accuracy: 0.9683 - val_loss: 0.1486 - val_accuracy: 0.9588\n",
            "Epoch 4/15\n",
            "375/375 [==============================] - 2s 4ms/step - loss: 0.0929 - accuracy: 0.9728 - val_loss: 0.1414 - val_accuracy: 0.9641\n",
            "Epoch 5/15\n",
            "375/375 [==============================] - 2s 5ms/step - loss: 0.0861 - accuracy: 0.9755 - val_loss: 0.1641 - val_accuracy: 0.9599\n",
            "Epoch 6/15\n",
            "375/375 [==============================] - 2s 4ms/step - loss: 0.0887 - accuracy: 0.9751 - val_loss: 0.1601 - val_accuracy: 0.9603\n",
            "Epoch 7/15\n",
            "375/375 [==============================] - 2s 5ms/step - loss: 0.0704 - accuracy: 0.9795 - val_loss: 0.1548 - val_accuracy: 0.9690\n",
            "Epoch 8/15\n",
            "375/375 [==============================] - 2s 5ms/step - loss: 0.0786 - accuracy: 0.9782 - val_loss: 0.1596 - val_accuracy: 0.9638\n",
            "Epoch 9/15\n",
            "375/375 [==============================] - 2s 5ms/step - loss: 0.0677 - accuracy: 0.9810 - val_loss: 0.1506 - val_accuracy: 0.9703\n",
            "Epoch 10/15\n",
            "375/375 [==============================] - 2s 5ms/step - loss: 0.0568 - accuracy: 0.9840 - val_loss: 0.1733 - val_accuracy: 0.9690\n",
            "Epoch 11/15\n",
            "375/375 [==============================] - 2s 5ms/step - loss: 0.0610 - accuracy: 0.9836 - val_loss: 0.1643 - val_accuracy: 0.9674\n",
            "Epoch 12/15\n",
            "375/375 [==============================] - 2s 5ms/step - loss: 0.0678 - accuracy: 0.9818 - val_loss: 0.2019 - val_accuracy: 0.9602\n",
            "Epoch 13/15\n",
            "375/375 [==============================] - 2s 5ms/step - loss: 0.0734 - accuracy: 0.9810 - val_loss: 0.1713 - val_accuracy: 0.9693\n",
            "Epoch 14/15\n",
            "375/375 [==============================] - 2s 5ms/step - loss: 0.0553 - accuracy: 0.9852 - val_loss: 0.1737 - val_accuracy: 0.9715\n",
            "Epoch 15/15\n",
            "375/375 [==============================] - 2s 5ms/step - loss: 0.0520 - accuracy: 0.9863 - val_loss: 0.1950 - val_accuracy: 0.9694\n",
            "79/79 [==============================] - 0s 3ms/step - loss: 0.1928 - accuracy: 0.9706\n",
            "test Loss Accurecy ->  [0.1927986443042755, 0.9706000089645386]\n"
          ],
          "name": "stdout"
        }
      ]
    },
    {
      "cell_type": "code",
      "metadata": {
        "id": "NF_Hg4tzcoaN",
        "colab": {
          "base_uri": "https://localhost:8080/",
          "height": 301
        },
        "outputId": "91bb33a1-a122-4990-d41e-7e654d21abd8"
      },
      "source": [
        "mySample = np.random.randint(10000)\n",
        "plt.imshow(X_test[mySample])\n",
        "plt.show()\n",
        "print(Y_test[mySample])\n",
        "pred = model.predict(x_test[mySample].reshape(-1,784))\n",
        "print(np.argmax(pred))"
      ],
      "execution_count": 21,
      "outputs": [
        {
          "output_type": "display_data",
          "data": {
            "image/png": "[encoded data removed]",
            "text/plain": [
              "<Figure size 432x288 with 1 Axes>"
            ]
          },
          "metadata": {
            "tags": [],
            "needs_background": "light"
          }
        },
        {
          "output_type": "stream",
          "text": [
            "8\n",
            "8\n"
          ],
          "name": "stdout"
        }
      ]
    },
    {
      "cell_type": "code",
      "metadata": {
        "id": "s5a-ViC2eQch",
        "colab": {
          "base_uri": "https://localhost:8080/",
          "height": 265
        },
        "outputId": "6bbc858c-faca-46ab-d2e0-bf6687db7f05"
      },
      "source": [
        "plt.plot(fit_hist.history['loss'])\n",
        "plt.plot(fit_hist.history['val_loss'])\n",
        "plt.show()"
      ],
      "execution_count": 22,
      "outputs": [
        {
          "output_type": "display_data",
          "data": {
            "image/png": "[encoded data removed]",
            "text/plain": [
              "<Figure size 432x288 with 1 Axes>"
            ]
          },
          "metadata": {
            "tags": [],
            "needs_background": "light"
          }
        }
      ]
    },
    {
      "cell_type": "code",
      "metadata": {
        "id": "V3PX1vNres1c",
        "colab": {
          "base_uri": "https://localhost:8080/",
          "height": 265
        },
        "outputId": "b033b739-159b-49df-acaa-3ca6002f86a7"
      },
      "source": [
        "plt.plot(fit_hist.history['accuracy'])\n",
        "plt.plot(fit_hist.history['val_accuracy'])\n",
        "plt.show()"
      ],
      "execution_count": 23,
      "outputs": [
        {
          "output_type": "display_data",
          "data": {
            "image/png": "[encoded data removed]",
            "text/plain": [
              "<Figure size 432x288 with 1 Axes>"
            ]
          },
          "metadata": {
            "tags": [],
            "needs_background": "light"
          }
        }
      ]
    }
  ]
}