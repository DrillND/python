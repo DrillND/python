{
 "cells": [
  {
   "cell_type": "code",
   "execution_count": 2,
   "metadata": {},
   "outputs": [],
   "source": [
    "import requests \n",
    "from bs4 import BeautifulSoup #html에서 원하는 텍스트 데이터, 이전에 CMD에서 설치를 해야함 \n",
    "\n",
    "url = \"http://www.kric.go.kr/jsp/industry/rss/citystapassList.jsp?q_org_cd=A010010024&q_fdate=2021\"\n",
    "#url은 변수명(변경가능)\n",
    "htmlText = requests.get(url).text #겟방식으로 불러오기\n",
    "\n",
    "bsoup = BeautifulSoup(htmlText,\"html.parser\")\n",
    "btab = bsoup.find(\"table\",{\"class\":\"listtbl_c100\"})\n",
    "btrs = btab.find(\"tbody\").find_all(\"tr\")\n",
    "\n",
    "#컬럼명 가져오기\n",
    "btdcols = btrs[1].find_all(\"td\",{\"class\":\"tdcol\"})\n",
    "btds = btrs[1].find_all(\"td\")\n",
    "\n",
    "passengers = []\n",
    " # 1부터 시작\n",
    "    \n",
    "for tr in btrs[1:] :\n",
    "    dic = {}\n",
    "    tds = tr.find_all(\"td\")\n",
    "    dic['station'] = tds[0].text\n",
    "    dic['ride'] = tds[2].text\n",
    "    dic['alight'] = tds[3].text\n",
    "    #dic['station'] = tds[0]\n",
    "    passengers.append(dic)"
   ]
  },
  {
   "cell_type": "code",
   "execution_count": 8,
   "metadata": {},
   "outputs": [],
   "source": [
    "from tkinter import Tk, ttk, Label, Button, Text, END\n",
    "\n",
    "\n",
    "window = Tk()\n",
    "# 창에 대한 속성들\n",
    "window.title(\"인원관리 프로그램\")\n",
    "window.geometry(\"400x400\")\n",
    "window.resizable(0,0)\n",
    "\n",
    "title = \"지하철 승하차 인원관리\"\n",
    "title_feature = Label(window, text = title, font = (\"Arial\", 20))\n",
    "title_feature.pack(padx = 10, pady =15)\n",
    "\n",
    "treeTable = ttk.Treeview(window)\n",
    "\n",
    "treeTable[\"columns\"] = (\"station\",\"ride\",\"alight\")\n",
    "treeTable.column(\"#0\", width = 30, anchor = \"center\" )\n",
    "treeTable.column(\"station\", width = 50, anchor = \"center\")\n",
    "treeTable.column(\"ride\", width = 50, anchor = \"center\")\n",
    "treeTable.column(\"alight\", width = 50, anchor = \"center\")\n",
    "\n",
    "treeTable.heading(\"#0\", text=\"No.\", anchor = \"center\")\n",
    "treeTable.heading(\"station\", text=\"역이름\", anchor = \"center\")\n",
    "treeTable.heading(\"ride\", text=\"승차인원\", anchor = \"center\")\n",
    "treeTable.heading(\"alight\", text=\"하차인원\", anchor = \"center\")\n",
    "# 컬럼 먼저 생성하고 헤딩 조작해야된다. \n",
    "\n",
    "treeTable.place(x=10, y=90, width=380, height=200)\n",
    "\n",
    "\n",
    "def setTableItem() :\n",
    "    treeTable.delete(*treeTable.get_children()) # \n",
    "    for idx,item in enumerate(passengers) : # idx로 passengers 갯수 만큼 숫자 \n",
    "        station = item['station'] #station에 딕셔너리 station의 벨류 값을 넣는다.\n",
    "        ride = item['ride']\n",
    "        alight = item['alight']\n",
    "        treeTable.insert(\"\",'end', iid = None, text = str(idx), values = [station, ride, alight])\n",
    "        #(조건1, 조건2, idx 값, values값)\n",
    "        \n",
    "        \n",
    "setTableItem()\n",
    "\n",
    "\n",
    "\n",
    "window.mainloop() #이게 실행"
   ]
  },
  {
   "cell_type": "code",
   "execution_count": 4,
   "metadata": {},
   "outputs": [
    {
     "name": "stdout",
     "output_type": "stream",
     "text": [
      "[{'station': '대곡역', 'ride': '280,043', 'alight': '259,323'}, {'station': '진천역', 'ride': '286,002', 'alight': '284,565'}, {'station': '월배역', 'ride': '192,265', 'alight': '190,418'}, {'station': '상인역', 'ride': '496,673', 'alight': '494,759'}, {'station': '월촌역', 'ride': '197,143', 'alight': '193,855'}, {'station': '송현역', 'ride': '170,162', 'alight': '171,938'}, {'station': '성당못역', 'ride': '386,345', 'alight': '373,346'}, {'station': '대명역', 'ride': '129,304', 'alight': '129,101'}, {'station': '안지랑역', 'ride': '195,179', 'alight': '194,365'}, {'station': '현충로역', 'ride': '156,963', 'alight': '154,001'}, {'station': '영대병원역', 'ride': '216,105', 'alight': '224,576'}, {'station': '교대역', 'ride': '156,276', 'alight': '152,832'}, {'station': '명덕역1', 'ride': '145,342', 'alight': '159,230'}, {'station': '반월당역1', 'ride': '362,794', 'alight': '528,436'}]\n"
     ]
    }
   ],
   "source": [
    "print(passengers)"
   ]
  },
  {
   "cell_type": "code",
   "execution_count": null,
   "metadata": {},
   "outputs": [],
   "source": []
  }
 ],
 "metadata": {
  "kernelspec": {
   "display_name": "Python 3",
   "language": "python",
   "name": "python3"
  },
  "language_info": {
   "codemirror_mode": {
    "name": "ipython",
    "version": 3
   },
   "file_extension": ".py",
   "mimetype": "text/x-python",
   "name": "python",
   "nbconvert_exporter": "python",
   "pygments_lexer": "ipython3",
   "version": "3.8.5"
  }
 },
 "nbformat": 4,
 "nbformat_minor": 4
}
