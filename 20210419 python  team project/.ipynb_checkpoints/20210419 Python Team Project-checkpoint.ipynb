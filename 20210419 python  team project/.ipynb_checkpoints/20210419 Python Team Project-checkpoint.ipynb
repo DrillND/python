{
 "cells": [
  {
   "cell_type": "code",
   "execution_count": 29,
   "metadata": {},
   "outputs": [
    {
     "name": "stdout",
     "output_type": "stream",
     "text": [
      "[{'계': '32239'}, {'137cm이하': '1'}, {'138-140cm': '-'}, {'141-145cm': '2'}, {'146-150cm': '4'}, {'151-155cm': '45'}, {'156-160cm': '369'}, {'161-165cm': '2474'}, {'166-170cm': '7402'}, {'171-175cm': '11042'}, {'176-180cm': '7508'}, {'181-185cm': '2722'}, {'186-190cm': '568'}, {'191-195cm': '75'}, {'196-200cm': '1'}, {'201cm이상': '1'}]\n",
      "1\n"
     ]
    }
   ],
   "source": [
    "import csv #남자 키\n",
    "f = open('men height.csv', encoding = 'cp949') #같은 파일이 아니라면 경로를 써야된다.\n",
    "data1 = csv.reader(f)\n",
    "header = next(data1)\n",
    "\n",
    "bb=[]\n",
    "for i in data1:\n",
    "    a= i[0].split(' ')\n",
    "    #print(a[0],i[4])\n",
    "    #[a[0],i[4]].append(b)\n",
    "    bb.append({a[0]:i[4]})\n",
    "print(bb[1:-5])\n",
    "\n",
    "a=bb[1:-5][0] #총 계\n",
    "a1=list(a.values())\n",
    "\n",
    "b=bb[1:-5][1] #137 이하\n",
    "b1=list(b.values())\n",
    "\n",
    "c=bb[1:-5][2] \n",
    "c1=list(c.values())\n",
    "\n",
    "d=bb[1:-5][3] \n",
    "d1=list(d.values())\n",
    "\n",
    "e=bb[1:-5][4] \n",
    "e1=list(e.values())\n",
    "\n",
    "f=bb[1:-5][5] \n",
    "f1=list(f.values())\n",
    "\n",
    "g=bb[1:-5][6] \n",
    "g1=list(g.values())\n",
    "\n",
    "h=bb[1:-5][7] \n",
    "h1=list(h.values())\n",
    "\n",
    "i=bb[1:-5][8] \n",
    "i1=list(i.values())\n",
    "\n",
    "j=bb[1:-5][9] \n",
    "j1=list(j.values())\n",
    "\n",
    "k=bb[1:-5][10] \n",
    "k1=list(k.values())\n",
    "\n",
    "l=bb[1:-5][11] \n",
    "l1=list(l.values())\n",
    "\n",
    "n=bb[1:-5][12] \n",
    "n1=list(n.values())\n",
    "\n",
    "o=bb[1:-5][13] \n",
    "o1=list(o.values())\n",
    "\n",
    "p=bb[1:-5][14] \n",
    "p1=list(p.values())\n",
    "\n",
    "\n",
    "\n",
    "print(b1[0])\n",
    "\n",
    "\n",
    "#f.close()"
   ]
  },
  {
   "cell_type": "code",
   "execution_count": 58,
   "metadata": {},
   "outputs": [
    {
     "name": "stdout",
     "output_type": "stream",
     "text": [
      "{'145.5~150.6': '2.5 ', '150.7~155.8': '14.6 ', '155.9~161.0': '32.6 ', '161.1~166.1': '34.8 ', '166.2~171.3': '12.7 '}\n"
     ]
    }
   ],
   "source": [
    "import csv #여자 키\n",
    "f = open('women height.csv', encoding = 'cp949') #같은 파일이 아니라면 경로를 써야된다.\n",
    "data1 = csv.reader(f)\n",
    "#header = next(data1)\n",
    "\n",
    "bb=[]\n",
    "for i in data1:\n",
    "    a= i\n",
    "    #print(a)\n",
    "    bb.append(a)\n",
    "\n",
    "print(dict(zip(bb[1][3:8],bb[3][3:8])))"
   ]
  },
  {
   "cell_type": "code",
   "execution_count": null,
   "metadata": {
    "scrolled": true
   },
   "outputs": [
    {
     "name": "stdout",
     "output_type": "stream",
     "text": [
      "당신의 성별은 무엇입니까? 1.남자 2.여자 :2\n",
      "희망하는 배우자 남성의 키를 입력하세요 : 150\n",
      "0.00021712832283879774\n"
     ]
    }
   ],
   "source": [
    "class Condition():\n",
    "    def mheight(self):\n",
    "        h= int(input(\"희망하는 배우자 남성의 키를 입력하세요 : \"))\n",
    "        if h <= 150:\n",
    "            return (int(b1[0])+int(d1[0])+int(e1[0]))/int(a1[0])\n",
    "            print((int(b1[0])+int(d1[0])+int(e1[0]))/int(a1[0]))\n",
    "        if h > 150 and h <= 160:\n",
    "            return (int(f1[0])+int(g1[0]))/int(a1[0])\n",
    "            print((int(f1[0])+int(g1[0]))/int(a1[0]))\n",
    "        if h > 160 and h <= 165:\n",
    "            return (int(h1[0]))/int(a1[0])\n",
    "            print((int(h1[0]))/int(a1[0]))\n",
    "        if h > 165 and h <= 170:\n",
    "            return (int(i1[0]))/int(a1[0])\n",
    "            print((int(i1[0]))/int(a1[0]))\n",
    "        if h > 170 and h <= 175:\n",
    "            return (int(j1[0]))/int(a1[0])\n",
    "            print (int(j1[0]))/int(a1[0])\n",
    "        if h > 175 and h <= 180:\n",
    "            return (int(k1[0]))/int(a1[0])\n",
    "            print (int(k1[0]))/int(a1[0])\n",
    "        if h >180 and h <= 185:\n",
    "            return (int(l1[0]))/int(a1[0])\n",
    "            print (int(l1[0]))/int(a1[0])\n",
    "        if h > 185:\n",
    "            return (int(n1[0])+int(o1[0])+int(p1[0]))/int(a1[0])\n",
    "            print (int(n1[0])+int(o1[0])+int(p1[0]))/int(a1[0])\n",
    "    def wheight(self):\n",
    "        h= int(input(\"희망하는 배우자 여성의 키를 입력하세요 : \"))\n",
    "        if h <= 150:\n",
    "            return 10\n",
    "        if h <= 160:\n",
    "            return 20\n",
    "        if h <= 165:\n",
    "            return 30\n",
    "        if h <= 170:\n",
    "            return 40\n",
    "        if h <= 175:\n",
    "            return 50\n",
    "        if h <= 180:\n",
    "            return 60\n",
    "        if h <= 185:\n",
    "            return 70\n",
    "        if h > 185:\n",
    "            return 80\n",
    "    def smoke(self):\n",
    "        s=int(input(\"배우자의 흡연 여부 1.흡연자였으면 좋겠다. 2.비흡연자였으면 좋겠다. 3.상관없음 : \"))\n",
    "        if s == \"1\":\n",
    "            return 0.198\n",
    "        elif s == \"2\":\n",
    "            return 1-0.198\n",
    "        else :\n",
    "            return 1\n",
    "#Class woman()\n",
    "ht = Condition()\n",
    "\n",
    "sex=input(\"당신의 성별은 무엇입니까? 1.남자 2.여자 :\")\n",
    "\n",
    "if sex == \"1\":\n",
    "    print(ht.wheight())\n",
    "    print(ht.smoke())\n",
    "elif sex == \"2\":\n",
    "    print(ht.mheight())\n",
    "    print(ht.smoke())"
   ]
  },
  {
   "cell_type": "code",
   "execution_count": null,
   "metadata": {},
   "outputs": [],
   "source": []
  }
 ],
 "metadata": {
  "kernelspec": {
   "display_name": "Python 3",
   "language": "python",
   "name": "python3"
  },
  "language_info": {
   "codemirror_mode": {
    "name": "ipython",
    "version": 3
   },
   "file_extension": ".py",
   "mimetype": "text/x-python",
   "name": "python",
   "nbconvert_exporter": "python",
   "pygments_lexer": "ipython3",
   "version": "3.8.5"
  }
 },
 "nbformat": 4,
 "nbformat_minor": 4
}
