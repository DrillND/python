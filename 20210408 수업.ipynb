{
 "cells": [
  {
   "cell_type": "code",
   "execution_count": 2,
   "metadata": {},
   "outputs": [
    {
     "name": "stdout",
     "output_type": "stream",
     "text": [
      "yeti,Bigfoot,Loch Ness Monster\n"
     ]
    }
   ],
   "source": [
    "crypto_list =[\"yeti\", \"Bigfoot\", \"Loch Ness Monster\"]\n",
    "crypto_string = \",\".join(crypto_list)\n",
    "print(crypto_string)"
   ]
  },
  {
   "cell_type": "code",
   "execution_count": 20,
   "metadata": {},
   "outputs": [
    {
     "name": "stdout",
     "output_type": "stream",
     "text": [
      " earth \n"
     ]
    },
    {
     "ename": "ValueError",
     "evalue": "substring not found",
     "output_type": "error",
     "traceback": [
      "\u001b[1;31m---------------------------------------------------------------------------\u001b[0m",
      "\u001b[1;31mValueError\u001b[0m                                Traceback (most recent call last)",
      "\u001b[1;32m<ipython-input-20-7f436f55fecd>\u001b[0m in \u001b[0;36m<module>\u001b[1;34m\u001b[0m\n\u001b[0;32m      9\u001b[0m \u001b[0mprint\u001b[0m\u001b[1;33m(\u001b[0m\u001b[0mworld\u001b[0m\u001b[1;33m)\u001b[0m\u001b[1;33m\u001b[0m\u001b[1;33m\u001b[0m\u001b[0m\n\u001b[0;32m     10\u001b[0m \u001b[1;31m#print(world.find('w')\u001b[0m\u001b[1;33m\u001b[0m\u001b[1;33m\u001b[0m\u001b[1;33m\u001b[0m\u001b[0m\n\u001b[1;32m---> 11\u001b[1;33m \u001b[0mprint\u001b[0m\u001b[1;33m(\u001b[0m\u001b[0mworld\u001b[0m\u001b[1;33m.\u001b[0m\u001b[0mindex\u001b[0m\u001b[1;33m(\u001b[0m\u001b[1;34m'w'\u001b[0m\u001b[1;33m)\u001b[0m\u001b[1;33m)\u001b[0m\u001b[1;33m\u001b[0m\u001b[1;33m\u001b[0m\u001b[0m\n\u001b[0m",
      "\u001b[1;31mValueError\u001b[0m: substring not found"
     ]
    }
   ],
   "source": [
    "world = \" earth \"\n",
    "world.strip()\n",
    "world.lstrip()\n",
    "world.rstrip()\n",
    "\n",
    "blurt = \"What the...!!?\"\n",
    "blurt.strip('We.?!')\n",
    "\n",
    "print(world)\n",
    "#print(world.find('w')\n",
    "print(world.index('w'))"
   ]
  },
  {
   "cell_type": "code",
   "execution_count": 22,
   "metadata": {},
   "outputs": [
    {
     "name": "stdout",
     "output_type": "stream",
     "text": [
      "Mt wife's favorite acdtor is richard gere\n",
      "our cat chester weights 28 pound\n"
     ]
    }
   ],
   "source": [
    "actor = 'richard gere'\n",
    "cat = 'chester'\n",
    "weight = 28\n",
    "print(\"Mt wife's favorite acdtor is %s\" % actor)\n",
    "print(\"our cat %s weights %s pound\" %(cat, weight))"
   ]
  },
  {
   "cell_type": "code",
   "execution_count": 27,
   "metadata": {},
   "outputs": [
    {
     "name": "stdout",
     "output_type": "stream",
     "text": [
      "The thing is in the place\n"
     ]
    }
   ],
   "source": [
    "thing = 'T'\n",
    "place = 'P'\n",
    "print('The {1} is in the {0}'.format('place', 'thing'))"
   ]
  },
  {
   "cell_type": "code",
   "execution_count": 44,
   "metadata": {},
   "outputs": [
    {
     "name": "stdout",
     "output_type": "stream",
     "text": [
      "The wereduck is in the werepond\n",
      "The Wereduck is in the             werepond\n",
      "The             wereduck is in the ......werepond......\n",
      "thing='wereduck',place='werepond'\n",
      "thing[-4:]='duck',place.title()='Werepond'\n"
     ]
    }
   ],
   "source": [
    "thing = 'wereduck'\n",
    "place = 'werepond'\n",
    "print(f'The {thing} is in the {place}')\n",
    "\n",
    "print(f'The {thing.capitalize()} is in the {place.rjust(20)}')\n",
    "\n",
    "print(f'The {thing:>20} is in the {place:.^20}')\n",
    "\n",
    "print(f'{thing=},{place=}')\n",
    "\n",
    "print(f'{thing[-4:]=},{place.title()=}')"
   ]
  },
  {
   "cell_type": "code",
   "execution_count": null,
   "metadata": {},
   "outputs": [],
   "source": []
  },
  {
   "cell_type": "code",
   "execution_count": null,
   "metadata": {},
   "outputs": [],
   "source": []
  }
 ],
 "metadata": {
  "kernelspec": {
   "display_name": "Python 3",
   "language": "python",
   "name": "python3"
  },
  "language_info": {
   "codemirror_mode": {
    "name": "ipython",
    "version": 3
   },
   "file_extension": ".py",
   "mimetype": "text/x-python",
   "name": "python",
   "nbconvert_exporter": "python",
   "pygments_lexer": "ipython3",
   "version": "3.8.5"
  }
 },
 "nbformat": 4,
 "nbformat_minor": 4
}
