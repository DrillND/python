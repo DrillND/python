{
 "cells": [
  {
   "cell_type": "code",
   "execution_count": 2,
   "metadata": {},
   "outputs": [],
   "source": [
    "a = '''Cos ah ah I'm in the stars tonight\n",
    "So watch me bring the fire and set the night alight\n",
    "Shoes on get up in the morn\n",
    "Cup of milk let's rock and roll\n",
    "King Kong kick the drum rolling on like a rolling stone\n",
    "Sing song when I'm walking home\n",
    "Jump up to the top LeBron\n",
    "Ding dong call me on my phone\n",
    "Ice tea and a game of ping pong\n",
    "This is getting heavy\n",
    "Can you hear the bass boom, I'm ready\n",
    "Life is sweet as honey\n",
    "Yeah this beat cha ching like money\n",
    "Disco overload I'm into that I'm good to go\n",
    "I'm diamond you know I glow up\n",
    "Hey, so let's go\n",
    "Cos ah ah I'm in the stars tonight\n",
    "So watch me bring the fire and set the night alight\n",
    "Shining through the city with a little funk and soul\n",
    "So I'mma light it up like dynamite, woah\n",
    "Bring a friend join the crowd\n",
    "Whoever wanna come along\n",
    "Word up talk the talk just move like we off the wall\n",
    "Day or night the sky's alight\n",
    "So we dance to the break of dawn\n",
    "Ladies and gentlemen,\n",
    "I got the medicine so you should keep ya eyes on the ball, huh\n",
    "This is getting heavy\n",
    "Can you hear the bass boom, I'm ready\n",
    "Life is sweet as honey\n",
    "Yeah this beat cha ching like money\n",
    "Disco overload I'm into that I'm good to go\n",
    "I'm diamond you know I glow up\n",
    "Let's go\n",
    "Cos ah ah I'm in the stars tonight\n",
    "So watch me bring the fire and set the night alight\n",
    "Shining through the city with a little funk and soul\n",
    "So I'mma light it up like dynamite, woah\n",
    "Dynnnnnanana, life is dynamite\n",
    "Dynnnnnanana, life is dynamite\n",
    "Shining through the city with a little funk and soul\n",
    "So I'mma light it up like dynamite, woah\n",
    "Dynnnnnanana eh\n",
    "Dynnnnnanana eh\n",
    "Dynnnnnanana eh\n",
    "Light it up like dynamite\n",
    "Dynnnnnanana eh\n",
    "Dynnnnnanana eh\n",
    "Dynnnnnanana eh\n",
    "Light it up like dynamite\n",
    "Cos ah ah I'm in the stars tonight\n",
    "So watch me bring the fire and set the night alight\n",
    "Shining through the city with a little funk and soul\n",
    "So I'mma light it up like dynamite\n",
    "Cos ah ah I'm in the stars tonight\n",
    "So watch me bring the fire and set the night alight\n",
    "Shining through the city with a little funk and soul\n",
    "So I'mma light it up like dynamite, woah\n",
    "Dynnnnnanana, life is dynamite\n",
    "Dynnnnnanana, life is dynamite\n",
    "Shining through the city with a little funk and soul\n",
    "So I'mma light it up like dynamite, woah'''"
   ]
  },
  {
   "cell_type": "code",
   "execution_count": 3,
   "metadata": {},
   "outputs": [
    {
     "data": {
      "text/plain": [
       "823"
      ]
     },
     "execution_count": 3,
     "metadata": {},
     "output_type": "execute_result"
    }
   ],
   "source": [
    "a.find(\"Day\")"
   ]
  },
  {
   "cell_type": "code",
   "execution_count": 6,
   "metadata": {},
   "outputs": [
    {
     "name": "stdout",
     "output_type": "stream",
     "text": [
      "Day or night the sky's alight\n"
     ]
    }
   ],
   "source": [
    "b = a[823:]\n",
    "#print(b)\n",
    "c = b.split('\\n')\n",
    "#print(c)\n",
    "print(c[0])"
   ]
  }
 ],
 "metadata": {
  "kernelspec": {
   "display_name": "Python 3",
   "language": "python",
   "name": "python3"
  },
  "language_info": {
   "codemirror_mode": {
    "name": "ipython",
    "version": 3
   },
   "file_extension": ".py",
   "mimetype": "text/x-python",
   "name": "python",
   "nbconvert_exporter": "python",
   "pygments_lexer": "ipython3",
   "version": "3.8.5"
  }
 },
 "nbformat": 4,
 "nbformat_minor": 2
}
