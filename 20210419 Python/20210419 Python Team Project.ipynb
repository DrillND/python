{
 "cells": [
  {
   "cell_type": "code",
   "execution_count": null,
   "metadata": {},
   "outputs": [],
   "source": [
    "'''\n",
    "1. 목표설정\n",
    "2. 핵심개념\n",
    "3. 데이터 수집 \n",
    "    CSV 파일, 공공데이터 위주\n",
    "4. 데이터 준비\n",
    "    병합, 자르고 붙이기 데이터 2개 이상 사용\n",
    "5. 데이터 탐색\n",
    "6. 데이터 모델링\n",
    "    데이터 정리, 분석, 결과\n",
    "7. 데이터 시각화\n",
    "'''"
   ]
  },
  {
   "cell_type": "code",
   "execution_count": null,
   "metadata": {},
   "outputs": [],
   "source": []
  }
 ],
 "metadata": {
  "kernelspec": {
   "display_name": "Python 3",
   "language": "python",
   "name": "python3"
  },
  "language_info": {
   "codemirror_mode": {
    "name": "ipython",
    "version": 3
   },
   "file_extension": ".py",
   "mimetype": "text/x-python",
   "name": "python",
   "nbconvert_exporter": "python",
   "pygments_lexer": "ipython3",
   "version": "3.8.5"
  }
 },
 "nbformat": 4,
 "nbformat_minor": 4
}
