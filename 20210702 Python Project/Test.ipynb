{
 "cells": [
  {
   "cell_type": "code",
   "execution_count": 2,
   "metadata": {},
   "outputs": [],
   "source": [
    "import tkinter as tk\n",
    "\n",
    "OptionList = [\n",
    "\"봄\",\n",
    "\"여름\",\n",
    "\"가을\",\n",
    "\"겨울\"\n",
    "] \n",
    "\n",
    "app = tk.Tk()\n",
    "\n",
    "app.geometry('200x200')\n",
    "app.title(\"select\")\n",
    "variable = tk.StringVar(app)\n",
    "variable.set(OptionList[0])\n",
    "\n",
    "opt = tk.OptionMenu(app, variable, *OptionList)\n",
    "opt.config(width=15, font=('Noto Sans KR', 12))\n",
    "opt.place(x = 10, y = 20)\n",
    "\n",
    "\n",
    "labelTest = tk.Label(text=\"\", font=('Noto Sans KR', 12), fg='black')\n",
    "#labelTest.pack(side=\"bottom\")\n",
    "labelTest.place(x = 40, y = 60)\n",
    "\n",
    "def callback(*args):\n",
    "    labelTest.configure(text=\"지금은 {}입니다\".format(variable.get()))\n",
    "\n",
    "variable.trace(\"w\", callback)\n",
    "\n",
    "app.mainloop()"
   ]
  },
  {
   "cell_type": "code",
   "execution_count": null,
   "metadata": {},
   "outputs": [],
   "source": []
  }
 ],
 "metadata": {
  "kernelspec": {
   "display_name": "Python 3",
   "language": "python",
   "name": "python3"
  },
  "language_info": {
   "codemirror_mode": {
    "name": "ipython",
    "version": 3
   },
   "file_extension": ".py",
   "mimetype": "text/x-python",
   "name": "python",
   "nbconvert_exporter": "python",
   "pygments_lexer": "ipython3",
   "version": "3.8.5"
  }
 },
 "nbformat": 4,
 "nbformat_minor": 4
}
