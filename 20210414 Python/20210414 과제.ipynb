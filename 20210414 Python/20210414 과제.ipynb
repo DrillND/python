{
 "cells": [
  {
   "cell_type": "code",
   "execution_count": null,
   "metadata": {},
   "outputs": [],
   "source": [
    "#문제(함수화 하면 되는 것들)\n",
    "# 1.팩토리얼 10까지(input 10, 10*9*8*7*6*5*4*3*2*1, 함수화)\n",
    "# 2.피보나치 수열 (1+1+2+3+5+8+13+21+34)\n",
    "# 3.계산기(함수화),(무한반복 'q'입력시 종료, 연산중 클리어 될 수 있게 ex) del 입력시 클리어 누적계산기, 기본 사친연산 수행)\n",
    "# 4.원하는 노래 가사 dict정리(어떤 갬성의 노래인가?, 단어기준으로 count, 전체 단어 출현 횟수 dict 정리, 결과적으로 이 노래는 ~이유로 ~노래다)"
   ]
  },
  {
   "cell_type": "code",
   "execution_count": 3,
   "metadata": {},
   "outputs": [
    {
     "name": "stdout",
     "output_type": "stream",
     "text": [
      "팩토리얼 할 값 입력 : 3\n",
      "6\n",
      "\n"
     ]
    }
   ],
   "source": [
    "#1\n",
    "facto = int(input(\"팩토리얼 할 값 입력 : \"))\n",
    "\n",
    "def fac(n):\n",
    "    if n == 1:\n",
    "        return 1\n",
    "    return n*fac(n-1)\n",
    "    \n",
    "\n",
    "#def fac2()\n",
    "    \n",
    "print(fac(facto))\n",
    "print()"
   ]
  },
  {
   "cell_type": "code",
   "execution_count": 51,
   "metadata": {},
   "outputs": [
    {
     "name": "stdout",
     "output_type": "stream",
     "text": [
      "피보나치 수열 몇 항까지? : 4\n",
      "5\n"
     ]
    }
   ],
   "source": [
    "#2\n",
    "pipo = int(input(\"피보나치 수열 몇 항까지? : \"))\n",
    "\n",
    "#def pi(n):\n",
    "    #if n <= 1:\n",
    "        #return n\n",
    "    #return \n",
    "\n",
    "def pi(n):\n",
    "        if n == 0:\n",
    "            return 0\n",
    "        elif n == 1 or n ==2:\n",
    "            return 1\n",
    "        else:\n",
    "            return 1+pi(n-1)+pi(n-2)\n",
    "    \n",
    "    \n",
    "print(pi(pipo))"
   ]
  },
  {
   "cell_type": "code",
   "execution_count": 12,
   "metadata": {},
   "outputs": [
    {
     "name": "stdout",
     "output_type": "stream",
     "text": [
      "{'': 24, 'you': 21, 'be': 15, 'I': 12, 'that': 11, 'Why': 11, 'gotta': 11, 'so': 11, 'rude?': 11, 'my': 9, 'the': 9, 'know': 9, 'say': 9, 'Marry': 9, 'girl': 9, 'your': 7, 'her': 7, 'yes,': 6, \"I'm\": 6, 'marry': 6, 'anyway': 6, 'a': 5, 'to': 5, 'no': 5, 'of': 4, 'and': 4, \"'cause\": 4, 'You': 4, 'in': 3, 'Can': 3, 'have': 3, 'daughter': 3, 'for': 3, 'rest': 3, 'life?': 3, 'Say': 3, 'need': 3, \"I'll\": 3, 'never': 3, 'get': 3, \"blessin'\": 3, 'day': 3, 'die': 3, '\"Tough': 3, 'luck,': 3, 'friend,': 3, 'no\"': 3, \"Don't\": 3, 'human': 3, 'too?': 3, 'gonna': 3, 'matter': 3, 'what': 3, \"we'll\": 3, 'family': 3, 'will': 3, 'on': 2, 'with': 2, 'To': 2, 'Yeah': 2, \"'til\": 2, 'but': 2, 'yeah,': 2, 'hate': 2, 'me': 2, 'we': 2, 'go': 2, 'still': 2, 'Saturday': 1, \"mornin',\": 1, 'jumped': 1, 'out': 1, 'bed': 1, 'And': 1, 'put': 1, 'best': 1, 'suit': 1, 'Got': 1, 'car': 1, 'raced': 1, 'like': 1, 'jet': 1, 'All': 1, 'way': 1, 'Knocked': 1, 'door': 1, 'heart': 1, 'hand': 1, 'ask': 1, 'question': 1, \"'Cause\": 1, \"you're\": 1, 'an': 1, 'old': 1, 'fashioned': 1, 'man': 1, 'yeah': 1, 'answer': 1, 'is': 1, 'do': 1, 'this,': 1, 'leave': 1, 'choice': 1, \"Can't\": 1, 'live': 1, 'without': 1, 'Love': 1, 'or': 1, 'me,': 1, 'both': 1, \"Standin'\": 1, 'at': 1, 'alter': 1, 'Or': 1, 'run': 1, 'away': 1, 'another': 1, 'galaxy,': 1, \"she's\": 1, 'love': 1, 'She': 1, 'anywhere': 1, \"'tll\": 1, \"answer's\": 1, 'Rude': 1, 'means': 1, 'Oh,': 1, 'oh': 1, 'Why?': 1}\n"
     ]
    }
   ],
   "source": [
    "#4\n",
    "rude = '''\n",
    "Saturday mornin', jumped out of bed\n",
    "And put on my best suit\n",
    "Got in my car and raced like a jet\n",
    "All the way to you\n",
    "Knocked on your door with heart in my hand\n",
    "To ask you a question\n",
    "'Cause I know that you're an old fashioned man\n",
    "Yeah (yeah)\n",
    "Can I have your daughter for the rest of my life?\n",
    "Say yes, say yes, 'cause I need to know\n",
    "You say I'll never get your blessin' 'til the day I die\n",
    "\"Tough luck, my friend, but the answer is no\"\n",
    "Why you gotta be so rude?\n",
    "Don't you know I'm human too?\n",
    "Why you gotta be so rude?\n",
    "I'm gonna marry her anyway\n",
    "(Marry that girl) marry her anyway\n",
    "(Marry that girl) yeah, no matter what you say\n",
    "(Marry that girl) and we'll be a family\n",
    "Why you gotta be so rude?\n",
    "I hate to do this, you leave no choice\n",
    "Can't live without her\n",
    "Love me or hate me, we will be both\n",
    "Standin' at that alter\n",
    "Or we will run away\n",
    "To another galaxy, you know\n",
    "You know she's in love with me\n",
    "She will go anywhere I go\n",
    "Can I have your daughter for the rest of my life?\n",
    "Say yes, say yes, 'cause I need to know\n",
    "You say I'll never get your blessin' 'tll the day I die\n",
    "\"Tough luck, my friend, 'cause the answer's still no\"\n",
    "Why you gotta be so rude?\n",
    "Don't you know I'm human too?\n",
    "Why you gotta be so rude?\n",
    "I'm gonna marry her anyway\n",
    "(Marry that girl) marry her anyway\n",
    "(Marry that girl) no matter what you say\n",
    "(Marry that girl) and we'll be a family\n",
    "Why you gotta be so rude?\n",
    "Rude\n",
    "Can I have your daughter for the rest of my life?\n",
    "Say yes, say yes, 'cause I need to know\n",
    "You say I'll never get your blessin' 'til the day I die\n",
    "\"Tough luck, my friend, but no still means no\"\n",
    "Why you gotta be so rude?\n",
    "Don't you know I'm human too?\n",
    "Why you gotta be so rude?\n",
    "I'm gonna marry her anyway\n",
    "(Marry that girl) marry her anyway\n",
    "(Marry that girl) no matter what you say\n",
    "(Marry that girl) and we'll be a family\n",
    "Why you gotta be so rude?\n",
    "Oh, yeah, oh\n",
    "Why you gotta be so rude?\n",
    "Why? (Yeah)\n",
    "Why you gotta be so rude?\n",
    "'''\n",
    "\n",
    "#a=rude.replace(\"\\n\",\" \")\n",
    "#b=a.replace(\"(\",\" \")\n",
    "#c=b.replace(\")\",\" \")\n",
    "\n",
    "#d=c.replace(\"'\",\" \")\n",
    "#print(d)\n",
    "\n",
    "b = rude.replace('\\n', ' ')\n",
    "c = b.replace(\"(\",\" \")\n",
    "d = c.replace(\")\",\" \")\n",
    "e = d.split(' ')\n",
    "\n",
    "t={}\n",
    "for i in e:\n",
    "    try: t[i] += 1\n",
    "    except: t[i]=1\n",
    "ppp= sorted(t.items(), key=lambda x:x[1], reverse=True)\n",
    "print(dict(ppp))\n",
    "\n",
    "yy=dict(ppp).keys()\n",
    "\n"
   ]
  },
  {
   "cell_type": "code",
   "execution_count": 28,
   "metadata": {},
   "outputs": [
    {
     "name": "stdout",
     "output_type": "stream",
     "text": [
      "[ +, -, *, / 사용, 초기화 : del, 종료 : q ]\n",
      "3\n",
      "5\n",
      "+\n"
     ]
    },
    {
     "ename": "TypeError",
     "evalue": "list indices must be integers or slices, not str",
     "output_type": "error",
     "traceback": [
      "\u001b[1;31m---------------------------------------------------------------------------\u001b[0m",
      "\u001b[1;31mTypeError\u001b[0m                                 Traceback (most recent call last)",
      "\u001b[1;32m<ipython-input-28-f831c4864928>\u001b[0m in \u001b[0;36m<module>\u001b[1;34m\u001b[0m\n\u001b[0;32m     18\u001b[0m         \u001b[0mi\u001b[0m\u001b[1;33m=\u001b[0m\u001b[0minput\u001b[0m\u001b[1;33m(\u001b[0m\u001b[1;33m)\u001b[0m\u001b[1;33m\u001b[0m\u001b[1;33m\u001b[0m\u001b[0m\n\u001b[0;32m     19\u001b[0m         \u001b[1;32mif\u001b[0m \u001b[0mi\u001b[0m \u001b[1;33m==\u001b[0m \u001b[1;34m\"+\"\u001b[0m\u001b[1;33m:\u001b[0m\u001b[1;33m\u001b[0m\u001b[1;33m\u001b[0m\u001b[0m\n\u001b[1;32m---> 20\u001b[1;33m             \u001b[0mp\u001b[0m\u001b[1;33m(\u001b[0m\u001b[0mlit\u001b[0m\u001b[1;33m[\u001b[0m\u001b[0mi\u001b[0m\u001b[1;33m]\u001b[0m\u001b[1;33m,\u001b[0m\u001b[0mlit\u001b[0m\u001b[1;33m[\u001b[0m\u001b[0mi\u001b[0m\u001b[1;33m+\u001b[0m\u001b[1;36m2\u001b[0m\u001b[1;33m]\u001b[0m\u001b[1;33m)\u001b[0m\u001b[1;33m\u001b[0m\u001b[1;33m\u001b[0m\u001b[0m\n\u001b[0m\u001b[0;32m     21\u001b[0m         \u001b[1;32mif\u001b[0m \u001b[0mi\u001b[0m \u001b[1;33m==\u001b[0m \u001b[1;34m\"=\"\u001b[0m\u001b[1;33m:\u001b[0m\u001b[1;33m\u001b[0m\u001b[1;33m\u001b[0m\u001b[0m\n\u001b[0;32m     22\u001b[0m             \u001b[1;32mbreak\u001b[0m\u001b[1;33m\u001b[0m\u001b[1;33m\u001b[0m\u001b[0m\n",
      "\u001b[1;31mTypeError\u001b[0m: list indices must be integers or slices, not str"
     ]
    }
   ],
   "source": [
    "#3\n",
    "print(\"[ +, -, *, / 사용, 초기화 : del, 종료 : q ]\")\n",
    "\n",
    "def p(x,y):\n",
    "    return x+y\n",
    "def m(x,y):\n",
    "    return x-y\n",
    "def g(x,y):\n",
    "    return x*y\n",
    "def n(x,y):\n",
    "    return x/y\n",
    "\n",
    "\n",
    "\n",
    "while True:\n",
    "    lit=[]\n",
    "    while True:\n",
    "        i=input()\n",
    "        if i == \"+\":\n",
    "            p(lit[i],lit[i+2])\n",
    "        if i == \"=\":\n",
    "            break\n",
    "        \n",
    "        lit.append(i)\n",
    "    print(lit,\"=\",end=\" \")\n",
    "\n",
    "    print(\"anwser\")\n",
    "    \n",
    "i = input()\n"
   ]
  },
  {
   "cell_type": "code",
   "execution_count": 53,
   "metadata": {},
   "outputs": [
    {
     "name": "stdout",
     "output_type": "stream",
     "text": [
      "[ +, -, *, / 사용, 초기화 : del, 종료 : q ]\n",
      "3\n",
      "+\n",
      "2\n",
      "=\n"
     ]
    },
    {
     "ename": "TypeError",
     "evalue": "unsupported operand type(s) for -: 'str' and 'int'",
     "output_type": "error",
     "traceback": [
      "\u001b[1;31m---------------------------------------------------------------------------\u001b[0m",
      "\u001b[1;31mTypeError\u001b[0m                                 Traceback (most recent call last)",
      "\u001b[1;32m<ipython-input-53-92e6c48583c1>\u001b[0m in \u001b[0;36m<module>\u001b[1;34m\u001b[0m\n\u001b[0;32m     21\u001b[0m         \u001b[1;32mfor\u001b[0m \u001b[0mj\u001b[0m \u001b[1;32min\u001b[0m \u001b[0mlis\u001b[0m\u001b[1;33m:\u001b[0m\u001b[1;33m\u001b[0m\u001b[1;33m\u001b[0m\u001b[0m\n\u001b[0;32m     22\u001b[0m             \u001b[1;32mif\u001b[0m \u001b[0mj\u001b[0m \u001b[1;33m==\u001b[0m \u001b[1;34m\"+\"\u001b[0m\u001b[1;33m:\u001b[0m\u001b[1;33m\u001b[0m\u001b[1;33m\u001b[0m\u001b[0m\n\u001b[1;32m---> 23\u001b[1;33m                 \u001b[0mp\u001b[0m\u001b[1;33m(\u001b[0m\u001b[0mlis\u001b[0m\u001b[1;33m[\u001b[0m\u001b[0mj\u001b[0m\u001b[1;33m-\u001b[0m\u001b[1;36m1\u001b[0m\u001b[1;33m]\u001b[0m\u001b[1;33m,\u001b[0m\u001b[0mlis\u001b[0m\u001b[1;33m[\u001b[0m\u001b[0mj\u001b[0m\u001b[1;33m+\u001b[0m\u001b[1;36m1\u001b[0m\u001b[1;33m]\u001b[0m\u001b[1;33m)\u001b[0m\u001b[1;33m\u001b[0m\u001b[1;33m\u001b[0m\u001b[0m\n\u001b[0m\u001b[0;32m     24\u001b[0m         \u001b[1;32mbreak\u001b[0m\u001b[1;33m\u001b[0m\u001b[1;33m\u001b[0m\u001b[0m\n\u001b[0;32m     25\u001b[0m \u001b[1;33m\u001b[0m\u001b[0m\n",
      "\u001b[1;31mTypeError\u001b[0m: unsupported operand type(s) for -: 'str' and 'int'"
     ]
    }
   ],
   "source": [
    "#3\n",
    "print(\"[ +, -, *, / 사용, 초기화 : del, 종료 : q ]\")\n",
    "\n",
    "def p(x,y):\n",
    "    return x+y\n",
    "def m(x,y):\n",
    "    return x-y\n",
    "def g(x,y):\n",
    "    return x*y\n",
    "def n(x,y):\n",
    "    return x/y\n",
    "\n",
    "\n",
    "lis=[]\n",
    "while True:\n",
    "    \n",
    "    i = input()\n",
    "    \n",
    "    \n",
    "    if i == \"=\":\n",
    "        for j in lis:\n",
    "            if j == \"+\":\n",
    "                p(lis[j-1],lis[j+1])\n",
    "        break\n",
    "    lis.append(i)\n",
    "print(lis)"
   ]
  },
  {
   "cell_type": "code",
   "execution_count": 39,
   "metadata": {},
   "outputs": [
    {
     "name": "stdout",
     "output_type": "stream",
     "text": [
      "3\n"
     ]
    }
   ],
   "source": [
    "def p(x,y):\n",
    "    return x+y\n",
    "def m(x,y):\n",
    "    return x-y\n",
    "def g(x,y):\n",
    "    return x*y\n",
    "def n(x,y):\n",
    "    return x/y\n",
    "\n",
    "lit=[1,2,4]\n",
    "\n",
    "a=p(lit[0],lit[1])\n",
    "print(a)"
   ]
  },
  {
   "cell_type": "code",
   "execution_count": null,
   "metadata": {},
   "outputs": [],
   "source": []
  }
 ],
 "metadata": {
  "kernelspec": {
   "display_name": "Python 3",
   "language": "python",
   "name": "python3"
  }
 },
 "nbformat": 4,
 "nbformat_minor": 4
}
