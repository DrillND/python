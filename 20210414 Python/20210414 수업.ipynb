{
 "cells": [
  {
   "cell_type": "code",
   "execution_count": null,
   "metadata": {},
   "outputs": [],
   "source": [
    "for i in('Got %d' %x for x in range(10)):\n",
    "    print(i)"
   ]
  },
  {
   "cell_type": "code",
   "execution_count": null,
   "metadata": {},
   "outputs": [],
   "source": [
    "a=dict(zip(('o','p','t'),('a','b','c')))\n",
    "print(a)"
   ]
  },
  {
   "cell_type": "code",
   "execution_count": null,
   "metadata": {},
   "outputs": [],
   "source": [
    "#함수"
   ]
  },
  {
   "cell_type": "code",
   "execution_count": 6,
   "metadata": {},
   "outputs": [
    {
     "name": "stdout",
     "output_type": "stream",
     "text": [
      "quack\n"
     ]
    }
   ],
   "source": [
    "def make_a_sound():\n",
    "    print('quack')\n",
    "    \n",
    "make_a_sound()"
   ]
  },
  {
   "cell_type": "code",
   "execution_count": null,
   "metadata": {},
   "outputs": [],
   "source": [
    "make_a_sound()"
   ]
  },
  {
   "cell_type": "code",
   "execution_count": null,
   "metadata": {},
   "outputs": [],
   "source": [
    "def agree():\n",
    "    return True\n",
    "\n",
    "if agree():\n",
    "    print('splendid')\n",
    "else:\n",
    "    print('That was unexpected')\n",
    "\n",
    "#매개변수 없지만 반환값은 있다"
   ]
  },
  {
   "cell_type": "code",
   "execution_count": null,
   "metadata": {},
   "outputs": [],
   "source": [
    "def echo(anything):\n",
    "    return anything + ' ' + anything\n",
    "\n",
    "echo('Rumplestilskin')\n",
    "#매개변수 반환값 둘 다 존재"
   ]
  },
  {
   "cell_type": "code",
   "execution_count": null,
   "metadata": {},
   "outputs": [],
   "source": [
    "def commentary(color):\n",
    "    if color == 'red':\n",
    "        return \"It's a tomato\"\n",
    "    elif color == \"green\":\n",
    "        return \"it's green pepper\"\n",
    "    elif color == 'bee purple':\n",
    "        return \"I don't know what it is, but only see\"\n",
    "    else:\n",
    "        return \"I've never heard\"\n",
    "\n",
    "commend = commentary('blue')\n",
    "print(commend)\n",
    "\n"
   ]
  },
  {
   "cell_type": "code",
   "execution_count": null,
   "metadata": {},
   "outputs": [],
   "source": [
    "# None 공간도 없고 아무 것도 없는 상태\n",
    "thing = None #False도 같다.\n",
    "if thing:\n",
    "    print(\"it's some thing\")\n",
    "else:\n",
    "    print(\"it's no thing\")\n",
    "    \n"
   ]
  },
  {
   "cell_type": "code",
   "execution_count": null,
   "metadata": {},
   "outputs": [],
   "source": [
    "thing = None\n",
    "if thing is None:\n",
    "    print(\"It's nothing\")\n",
    "else:\n",
    "    print(\"It's something\")\n"
   ]
  },
  {
   "cell_type": "code",
   "execution_count": null,
   "metadata": {},
   "outputs": [],
   "source": [
    "def whatis(thing):\n",
    "    if thing is None:\n",
    "        print(thing,\"is None\")\n",
    "    elif thing:\n",
    "        print(thing, \"is True\")\n",
    "    else:\n",
    "        print(thing, \"is False\")\n",
    "        \n",
    "whatis(None)\n",
    "whatis(True)\n",
    "whatis(False)\n",
    "\n",
    "whatis([])\n",
    "whatis(\"\")\n",
    "whatis({})\n",
    "whatis(0.01)\n",
    "whatis([2])\n"
   ]
  },
  {
   "cell_type": "code",
   "execution_count": null,
   "metadata": {},
   "outputs": [],
   "source": [
    "def menu(wine,entree,desser):\n",
    "    return{'wine':wine,'entree':entree,'desser':desser}\n",
    "\n",
    "print(menu('c','kfc','ice'))\n",
    "print(menu(entree='a', wine='c', desser='y'))\n",
    "\n",
    "# 키워드 인수"
   ]
  },
  {
   "cell_type": "code",
   "execution_count": null,
   "metadata": {},
   "outputs": [],
   "source": [
    "#기본값을 지정할 수 있다.\n",
    "def menu(wine,entree,dessert='pudding'):\n",
    "    return{'wine':wine,'entree':entree,'dessert':dessert}\n",
    "print(menu('chardonnay','chicken')) #기본값으로 나옴\n",
    "print(menu('c','b','a')) #기본값도 변경가능"
   ]
  },
  {
   "cell_type": "code",
   "execution_count": null,
   "metadata": {},
   "outputs": [],
   "source": [
    "#p.215\n",
    "def buggy(arg, result=[]): #뒤에 result는 기본값\n",
    "    result.append(arg)\n",
    "    print(result)\n",
    "\n",
    "buggy(\"a\")\n",
    "buggy(\"b\")"
   ]
  },
  {
   "cell_type": "code",
   "execution_count": null,
   "metadata": {},
   "outputs": [],
   "source": [
    "def works(arg):\n",
    "    result=[]\n",
    "    result.append(arg)\n",
    "    return result\n",
    "\n",
    "works(\"a\")\n",
    "works(\"b\")"
   ]
  },
  {
   "cell_type": "code",
   "execution_count": null,
   "metadata": {},
   "outputs": [],
   "source": [
    "def nonbuggy(arg, result=None):\n",
    "    if result is None:\n",
    "        result = []\n",
    "    result.append(arg)\n",
    "    print(result)\n",
    "\n",
    "nonbuggy('a')\n",
    "nonbuggy('b')\n",
    "nonbuggy('c',None)\n",
    "nonbuggy('d',['a','b'])"
   ]
  },
  {
   "cell_type": "code",
   "execution_count": null,
   "metadata": {},
   "outputs": [],
   "source": [
    "#p.9.3.5\n",
    "def print_args(*args): # *있으면 싹다 받음 ㄷㄷ, \n",
    "    print('Positinal tuple : ', args)\n",
    "\n",
    "print_args()\n",
    "print_args(3,2,1, 'Wait','uh....')\n"
   ]
  },
  {
   "cell_type": "code",
   "execution_count": null,
   "metadata": {},
   "outputs": [],
   "source": [
    "\n",
    "def print_args(num, name, age, *args): \n",
    "    print('Positinal tuple : ', args)\n",
    "\n",
    "#print_args()\n",
    "print_args(3,2,1, 'Wait','uh....')"
   ]
  },
  {
   "cell_type": "code",
   "execution_count": null,
   "metadata": {},
   "outputs": [],
   "source": [
    "def print_more(r1,r2,*args):\n",
    "    print('Need this one:',r1)\n",
    "    print('Need this one, too:', r2)\n",
    "    print('All:', args)\n",
    "\n",
    "print_more('cap','gloves','scarf','moncle','fsdfsdfs')"
   ]
  },
  {
   "cell_type": "code",
   "execution_count": null,
   "metadata": {},
   "outputs": [],
   "source": [
    "#9.3.6\n",
    "def print_kwargs(**kwargs): #**은 딕셔너리 형식으로 추가 \n",
    "    print('keyword argument:', kwargs)\n",
    "    \n",
    "print_kwargs()\n",
    "print_kwargs(wine=\"merlot\",etree=\"mutton\", dessert=\"macaroon\")"
   ]
  },
  {
   "cell_type": "code",
   "execution_count": null,
   "metadata": {},
   "outputs": [],
   "source": [
    "def change(arg):\n",
    "    arg[1] = 'HAHAHAH'\n",
    "\n",
    "smile=['kekeke','kokoko','tatatat']\n",
    "\n",
    "change(smile)\n",
    "print(smile)\n"
   ]
  },
  {
   "cell_type": "code",
   "execution_count": null,
   "metadata": {},
   "outputs": [],
   "source": []
  }
 ],
 "metadata": {
  "kernelspec": {
   "display_name": "Python 3",
   "language": "python",
   "name": "python3"
  },
  "language_info": {
   "codemirror_mode": {
    "name": "ipython",
    "version": 3
   },
   "file_extension": ".py",
   "mimetype": "text/x-python",
   "name": "python",
   "nbconvert_exporter": "python",
   "pygments_lexer": "ipython3",
   "version": "3.8.5"
  }
 },
 "nbformat": 4,
 "nbformat_minor": 4
}
