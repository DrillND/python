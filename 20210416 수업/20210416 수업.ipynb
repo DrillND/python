{
 "cells": [
  {
   "cell_type": "code",
   "execution_count": 2,
   "metadata": {},
   "outputs": [
    {
     "data": {
      "text/plain": [
       "True"
      ]
     },
     "execution_count": 2,
     "metadata": {},
     "output_type": "execute_result"
    }
   ],
   "source": [
    "class Student :\n",
    "    def __init__(self):\n",
    "        pass\n",
    "\n",
    "student2 = Student()\n",
    "\n",
    "\n",
    "isinstance(student2, Student)\n"
   ]
  },
  {
   "cell_type": "code",
   "execution_count": 19,
   "metadata": {},
   "outputs": [
    {
     "data": {
      "text/plain": [
       "True"
      ]
     },
     "execution_count": 19,
     "metadata": {},
     "output_type": "execute_result"
    }
   ],
   "source": [
    "class Car():\n",
    "    def exclaim(self) :\n",
    "        print(\"I'm a Car!\")\n",
    "\n",
    "class Yugo(Car) :\n",
    "    #pass\n",
    "    def exclaim(self):\n",
    "        print(\"Hi\")\n",
    "    def need_a_push(self):\n",
    "        print(\"little help?\")\n",
    "\n",
    "issubclass(Yugo,Car)\n",
    "\n",
    "gmac = Car()\n",
    "gmay = Yugo()\n",
    "\n",
    "gmac.exclaim()\n",
    "gmay.exclaim()\n",
    "gmay.need_a_push()\n"
   ]
  },
  {
   "cell_type": "code",
   "execution_count": 20,
   "metadata": {},
   "outputs": [
    {
     "name": "stdout",
     "output_type": "stream",
     "text": [
      "I'm a Car!\n",
      "Hi\n"
     ]
    }
   ],
   "source": [
    "gmac = Car()\n",
    "gmay = Yugo()\n",
    "\n",
    "gmac.exclaim()\n",
    "gmay.exclaim()"
   ]
  },
  {
   "cell_type": "code",
   "execution_count": null,
   "metadata": {},
   "outputs": [],
   "source": [
    "# 1.character 클래스를 만들어주세요. name,age,skill 변수가 필요하고 getitem,sellitem 메서드가 필요합니다.\n",
    "# 2.gamecharacter 자식 클래스를 만들어주세요. 부모클래스 character에서 상속받으면 됩니다. getitem, sellitem, changeitem 메서드가 필요합니다.\n",
    "# 자식클래스의 메서드는 super()를 사용합니다."
   ]
  },
  {
   "cell_type": "code",
   "execution_count": 25,
   "metadata": {},
   "outputs": [
    {
     "name": "stdout",
     "output_type": "stream",
     "text": [
      "bb 2\n",
      "아이템을 팔았다.\n",
      "None\n"
     ]
    }
   ],
   "source": [
    "class Character():\n",
    "    def __init__(self,name,age,skill):\n",
    "        self.name2 = name\n",
    "        self.age2=age\n",
    "        self.skill2=skill\n",
    "        \n",
    "    def getitem(self):\n",
    "        print(\"새 아이템을 장착했다.\")\n",
    "    \n",
    "    def sellitem(self):\n",
    "        print(\"아이템을 팔았다.\")\n",
    "\n",
    "        \n",
    "class Gamecharacter(Character):\n",
    "    \n",
    "    def getitime(self):\n",
    "        super().seelitem()\n",
    "        \n",
    "    def sellitem(self):\n",
    "        super().sellitem\n",
    "        \n",
    "    def changeitem(self):\n",
    "        print(\"아이템을 바꾸었다.\")\n",
    "\n",
    "\n",
    "i = Character(\"bb\",2,\"Ice\")\n",
    "print(i.name2, i.age2)\n",
    "a = i.sellitem()\n",
    "print(a)"
   ]
  },
  {
   "cell_type": "code",
   "execution_count": null,
   "metadata": {},
   "outputs": [],
   "source": []
  }
 ],
 "metadata": {
  "kernelspec": {
   "display_name": "Python 3",
   "language": "python",
   "name": "python3"
  },
  "language_info": {
   "codemirror_mode": {
    "name": "ipython",
    "version": 3
   },
   "file_extension": ".py",
   "mimetype": "text/x-python",
   "name": "python",
   "nbconvert_exporter": "python",
   "pygments_lexer": "ipython3",
   "version": "3.8.5"
  }
 },
 "nbformat": 4,
 "nbformat_minor": 4
}
