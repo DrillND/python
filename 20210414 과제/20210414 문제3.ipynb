{
 "cells": [
  {
   "cell_type": "code",
   "execution_count": null,
   "metadata": {},
   "outputs": [],
   "source": [
    "#문제(함수화 하면 되는 것들)\n",
    "# 1.팩토리얼 10까지(input 10, 10*9*8*7*6*5*4*3*2*1, 함수화)\n",
    "# 2.피보나치 수열 (1+1+2+3+5+8+13+21+34)\n",
    "# 3.계산기(함수화),(무한반복 'q'입력시 종료, 연산중 클리어 될 수 있게 ex) del 입력시 클리어 누적계산기, 기본 사친연산 수행)\n",
    "# 4.원하는 노래 가사 dict정리(어떤 갬성의 노래인가?, 단어기준으로 count, 전체 단어 출현 횟수 dict 정리, 결과적으로 이 노래는 ~이유로 ~노래다)"
   ]
  },
  {
   "cell_type": "code",
   "execution_count": null,
   "metadata": {},
   "outputs": [],
   "source": [
    "#3\n",
    "print(\"[ +, -, *, / 사용, 초기화 : del, 종료 : q ]\")\n",
    "\n",
    "def p(x,y):\n",
    "    return x+y\n",
    "def m(x,y):\n",
    "    return x-y\n",
    "def g(x,y):\n",
    "    return x*y\n",
    "def n(x,y):\n",
    "    return x/y\n",
    "\n",
    "\n",
    "\n",
    "while True:\n",
    "    lit=[]\n",
    "    while True:\n",
    "        i=input()\n",
    "        if i == \"+\":\n",
    "            p(lit[i],lit[i+2])\n",
    "        if i == \"=\":\n",
    "            break\n",
    "        \n",
    "        lit.append(i)\n",
    "    print(lit,\"=\",end=\" \")\n",
    "\n",
    "    print(\"anwser\")\n",
    "    \n",
    "i = input()\n"
   ]
  },
  {
   "cell_type": "code",
   "execution_count": 2,
   "metadata": {},
   "outputs": [
    {
     "name": "stdout",
     "output_type": "stream",
     "text": [
      "계산기 : 354+1234=\n"
     ]
    }
   ],
   "source": [
    "\n",
    "\n",
    "a = input(\"계산기 : \")\n",
    "if i in"
   ]
  },
  {
   "cell_type": "code",
   "execution_count": null,
   "metadata": {},
   "outputs": [],
   "source": []
  }
 ],
 "metadata": {
  "kernelspec": {
   "display_name": "Python 3",
   "language": "python",
   "name": "python3"
  },
  "language_info": {
   "codemirror_mode": {
    "name": "ipython",
    "version": 3
   },
   "file_extension": ".py",
   "mimetype": "text/x-python",
   "name": "python",
   "nbconvert_exporter": "python",
   "pygments_lexer": "ipython3",
   "version": "3.8.5"
  }
 },
 "nbformat": 4,
 "nbformat_minor": 4
}
