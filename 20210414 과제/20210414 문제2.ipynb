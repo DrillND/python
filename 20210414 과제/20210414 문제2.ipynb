{
 "cells": [
  {
   "cell_type": "code",
   "execution_count": null,
   "metadata": {},
   "outputs": [],
   "source": [
    "#문제(함수화 하면 되는 것들)\n",
    "# 1.팩토리얼 10까지(input 10, 10*9*8*7*6*5*4*3*2*1, 함수화)\n",
    "# 2.피보나치 수열 (1+1+2+3+5+8+13+21+34)\n",
    "# 3.계산기(함수화),(무한반복 'q'입력시 종료, 연산중 클리어 될 수 있게 ex) del 입력시 클리어 누적계산기, 기본 사친연산 수행)\n",
    "# 4.원하는 노래 가사 dict정리(어떤 갬성의 노래인가?, 단어기준으로 count, 전체 단어 출현 횟수 dict 정리, 결과적으로 이 노래는 ~이유로 ~노래다)"
   ]
  },
  {
   "cell_type": "code",
   "execution_count": null,
   "metadata": {},
   "outputs": [],
   "source": [
    "pipo = int(input(\"피보나치 수열 몇 항까지? : \"))\n",
    "\n",
    "def fib(n):\n",
    "    if n == 0:\n",
    "        return 0\n",
    "    elif n == 1 or n == 2:\n",
    "        return 1\n",
    "    else:\n",
    "        return fib(n - 1) + fib(n - 2)\n",
    "\n",
    "\n",
    "def \n",
    "print(fib(pipo))\n"
   ]
  },
  {
   "cell_type": "code",
   "execution_count": null,
   "metadata": {},
   "outputs": [],
   "source": [
    "n = int(input())\n",
    " \n",
    "def fibonacci(n):\n",
    " \n",
    "  fibonacci_list = [0, 1]\n",
    " \n",
    "  for i in range(1, n+1):\n",
    "    fibonacci_list.append(fibonacci_list[i-1] + fibonacci_list[i])\n",
    "  return fibonacci_list[:n]\n",
    " \n",
    "print(fibonacci(n))\n",
    "\n",
    "# 피보나치 수열의 합\n",
    "def fibonacci_sum(n):\n",
    "  result = 0\n",
    "  for i in fibonacci(n):\n",
    "    result += i\n",
    "  return result\n",
    " \n",
    "print(fibonacci_sum(n))"
   ]
  },
  {
   "cell_type": "code",
   "execution_count": null,
   "metadata": {},
   "outputs": [],
   "source": [
    "sum=0\n",
    "for i in range(1,101):\n",
    "    sum += i\n",
    "print(sum)\n"
   ]
  },
  {
   "cell_type": "code",
   "execution_count": null,
   "metadata": {},
   "outputs": [],
   "source": [
    "pipo = int(input(\"피보나치 수열 몇 항까지? : \"))\n",
    "\n",
    "def fib(n):\n",
    "    if n == 0:\n",
    "        return 0\n",
    "    elif n == 1 or n == 2:\n",
    "        return 1\n",
    "    else:\n",
    "        return fib(n - 1) + fib(n - 2)\n",
    "\n",
    "def su(n):\n",
    "    sum = 0\n",
    "    for i in range(1,pipo+1):\n",
    "        sum += fib(i)\n",
    "    return sum\n",
    "\n",
    "print(su(pipo))"
   ]
  },
  {
   "cell_type": "code",
   "execution_count": null,
   "metadata": {},
   "outputs": [],
   "source": []
  }
 ],
 "metadata": {
  "kernelspec": {
   "display_name": "Python 3",
   "language": "python",
   "name": "python3"
  },
  "language_info": {
   "codemirror_mode": {
    "name": "ipython",
    "version": 3
   },
   "file_extension": ".py",
   "mimetype": "text/x-python",
   "name": "python",
   "nbconvert_exporter": "python",
   "pygments_lexer": "ipython3",
   "version": "3.8.5"
  }
 },
 "nbformat": 4,
 "nbformat_minor": 4
}
