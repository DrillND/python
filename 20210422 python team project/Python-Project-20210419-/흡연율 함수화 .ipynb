{
 "cells": [
  {
   "cell_type": "code",
   "execution_count": 110,
   "metadata": {},
   "outputs": [
    {
     "name": "stdout",
     "output_type": "stream",
     "text": [
      "['대구광역시', '건강', '흡연율 (%)', '20.8', '21.7', '19.8', '-']\n"
     ]
    }
   ],
   "source": [
    "\n",
    "import csv\n",
    "f = open('etc.csv', encoding = 'cp949')\n",
    "data = csv.reader(f)\n",
    "\n",
    "key1='흡연율'\n",
    "key2='비흡연율'\n",
    "for i in data:\n",
    "    if '흡연율' in i[2]:\n",
    "        a=i[-2:-1]\n",
    "        print(i)\n",
    "a = list(map(float, a))\n",
    "b=100-a[0]\n",
    "\n",
    "smoke=[key1,key2]\n",
    "non_smoke=[a[0],b]\n",
    "dic4 = { name:value for name, value in zip(smoke, non_smoke) }\n",
    "list_dic4=list(dic4.values())"
   ]
  },
  {
   "cell_type": "code",
   "execution_count": 111,
   "metadata": {},
   "outputs": [
    {
     "data": {
      "text/plain": [
       "19.8"
      ]
     },
     "execution_count": 111,
     "metadata": {},
     "output_type": "execute_result"
    }
   ],
   "source": [
    "list_dic4[0]"
   ]
  },
  {
   "cell_type": "code",
   "execution_count": 116,
   "metadata": {},
   "outputs": [],
   "source": [
    "\n",
    "    \n",
    "    \n",
    "\n",
    "def smoking():\n",
    "    s=int(input(\"배우자의 흡연 여부 1.흡연자였으면 좋겠다. 2.비흡연자였으면 좋겠다. 3.상관없음 : \"))\n",
    "   \n",
    "    if (s == 1):\n",
    "        return list_dic4[0]\n",
    "    elif (s == 2):\n",
    "        return list_dic4[1]\n",
    "    else :\n",
    "        return 1"
   ]
  },
  {
   "cell_type": "code",
   "execution_count": 117,
   "metadata": {},
   "outputs": [
    {
     "name": "stdout",
     "output_type": "stream",
     "text": [
      "배우자의 흡연 여부 1.흡연자였으면 좋겠다. 2.비흡연자였으면 좋겠다. 3.상관없음 : 3\n"
     ]
    },
    {
     "data": {
      "text/plain": [
       "1"
      ]
     },
     "execution_count": 117,
     "metadata": {},
     "output_type": "execute_result"
    }
   ],
   "source": [
    "smoking()"
   ]
  },
  {
   "cell_type": "code",
   "execution_count": null,
   "metadata": {},
   "outputs": [],
   "source": []
  },
  {
   "cell_type": "code",
   "execution_count": null,
   "metadata": {},
   "outputs": [],
   "source": []
  }
 ],
 "metadata": {
  "kernelspec": {
   "display_name": "Python 3",
   "language": "python",
   "name": "python3"
  },
  "language_info": {
   "codemirror_mode": {
    "name": "ipython",
    "version": 3
   },
   "file_extension": ".py",
   "mimetype": "text/x-python",
   "name": "python",
   "nbconvert_exporter": "python",
   "pygments_lexer": "ipython3",
   "version": "3.8.5"
  }
 },
 "nbformat": 4,
 "nbformat_minor": 4
}
