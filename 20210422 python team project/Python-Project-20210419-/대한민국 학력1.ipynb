{
 "cells": [
  {
   "cell_type": "code",
   "execution_count": 104,
   "metadata": {},
   "outputs": [
    {
     "name": "stdout",
     "output_type": "stream",
     "text": [
      "['', '고등교육이상', '45', '47', '48', '49', '50', '36', '37', '38', '39', '39']\n"
     ]
    }
   ],
   "source": [
    "import csv\n",
    "f=open('대한민국 학력.csv',encoding='cp949')\n",
    "data=csv.reader(f)\n",
    "header=next(data)\n",
    "key1='중학교'\n",
    "for i in data:\n",
    "    if '인구비율' in i[0]:\n",
    "        a=i[6:7]\n",
    "    if '40' in i[3]:\n",
    "        b=i[6:7]\n",
    "    if '45' in i[2]:  \n",
    "        c=i[6:7]\n",
    "        \n",
    "        print(i)\n",
    "        \n",
    "school=['중졸','고졸','고졸이상'] \n",
    "abc=a+b+c\n",
    "abc= list(map(int,abc))\n",
    "dic={name:value for name, value in zip(school,abc)}\n",
    "                \n"
   ]
  },
  {
   "cell_type": "code",
   "execution_count": 105,
   "metadata": {},
   "outputs": [
    {
     "data": {
      "text/plain": [
       "{'중졸': 11, '고졸': 39, '고졸이상': 50}"
      ]
     },
     "execution_count": 105,
     "metadata": {},
     "output_type": "execute_result"
    }
   ],
   "source": [
    "dic"
   ]
  },
  {
   "cell_type": "code",
   "execution_count": 123,
   "metadata": {},
   "outputs": [
    {
     "data": {
      "text/plain": [
       "dict_values([11, 39, 50])"
      ]
     },
     "execution_count": 123,
     "metadata": {},
     "output_type": "execute_result"
    }
   ],
   "source": [
    " dic.values()"
   ]
  },
  {
   "cell_type": "code",
   "execution_count": 107,
   "metadata": {},
   "outputs": [],
   "source": [
    "dic_value=list(dic.values())"
   ]
  },
  {
   "cell_type": "code",
   "execution_count": 124,
   "metadata": {},
   "outputs": [
    {
     "data": {
      "text/plain": [
       "11"
      ]
     },
     "execution_count": 124,
     "metadata": {},
     "output_type": "execute_result"
    }
   ],
   "source": [
    "dic_value[0]"
   ]
  },
  {
   "cell_type": "code",
   "execution_count": 125,
   "metadata": {},
   "outputs": [],
   "source": [
    "def  Education():\n",
    "    t=int(input(\"원하시는 학력을 입력해주세요:(1.중학교졸업 2.고등학교졸업3.고등학교졸업이상)\"))\n",
    "    if t==1:\n",
    "        return dic_value[0]\n",
    "       \n",
    "    elif t==2:\n",
    "        return dic_value[1]\n",
    "    elif t==3:\n",
    "        return dic_value[2]"
   ]
  },
  {
   "cell_type": "code",
   "execution_count": null,
   "metadata": {},
   "outputs": [],
   "source": [
    "Education()"
   ]
  }
 ],
 "metadata": {
  "kernelspec": {
   "display_name": "Python 3",
   "language": "python",
   "name": "python3"
  },
  "language_info": {
   "codemirror_mode": {
    "name": "ipython",
    "version": 3
   },
   "file_extension": ".py",
   "mimetype": "text/x-python",
   "name": "python",
   "nbconvert_exporter": "python",
   "pygments_lexer": "ipython3",
   "version": "3.8.5"
  }
 },
 "nbformat": 4,
 "nbformat_minor": 4
}
